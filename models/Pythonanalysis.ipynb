{
  "nbformat": 4,
  "nbformat_minor": 0,
  "metadata": {
    "colab": {
      "name": "Pythonanalysis.ipynb",
      "provenance": [],
      "collapsed_sections": [],
      "toc_visible": true
    },
    "kernelspec": {
      "name": "python3",
      "display_name": "Python 3"
    },
    "accelerator": "TPU"
  },
  "cells": [
    {
      "cell_type": "markdown",
      "metadata": {
        "id": "JUCr9TeMMluV",
        "colab_type": "text"
      },
      "source": [
        "Lien de la dataset : https://archive.ics.uci.edu/ml/datasets/PPG-DaLiA\n",
        "\n",
        "PPG-DaLiA contains data from 15 subjects wearing physiological and motion sensors, providing a PPG dataset for motion compensation and heart rate estimation in Daily Life Activities.\n",
        "\n",
        "Objectif : Classification -> Prédire l'activité de la personne\n",
        "\n",
        "Enregistrement des données sur 15 personnes\n",
        "Informations de ces 15 personnes dans SX_quest.csv\n",
        "Informations sur les activités et leur durées : Table 2\n",
        "\n",
        "\n",
        "A faire : \n",
        "- Comprendre comment utiliser rpeaks\n",
        "\n",
        "Faites : \n"
      ]
    },
    {
      "cell_type": "code",
      "metadata": {
        "id": "7iNlASAaMkj2",
        "colab_type": "code",
        "outputId": "7678a39f-0b73-43e4-86c9-4218ce017e2f",
        "colab": {
          "base_uri": "https://localhost:8080/",
          "height": 69
        }
      },
      "source": [
        "!curl https://archive.ics.uci.edu/ml/machine-learning-databases/00495/data.zip --output data"
      ],
      "execution_count": 1,
      "outputs": [
        {
          "output_type": "stream",
          "text": [
            "  % Total    % Received % Xferd  Average Speed   Time    Time     Time  Current\n",
            "                                 Dload  Upload   Total   Spent    Left  Speed\n",
            "100 2731M  100 2731M    0     0  69.4M      0  0:00:39  0:00:39 --:--:-- 76.9M\n"
          ],
          "name": "stdout"
        }
      ]
    },
    {
      "cell_type": "code",
      "metadata": {
        "id": "cZS0qhrlUfBb",
        "colab_type": "code",
        "outputId": "2fc5d16d-cfd7-4355-a4bb-e35e99084963",
        "colab": {
          "base_uri": "https://localhost:8080/",
          "height": 1000
        }
      },
      "source": [
        "!unzip data"
      ],
      "execution_count": 2,
      "outputs": [
        {
          "output_type": "stream",
          "text": [
            "Archive:  data\n",
            "   creating: PPG_FieldStudy/\n",
            "  inflating: PPG_FieldStudy/PPG_FieldStudy_readme.pdf  \n",
            "   creating: PPG_FieldStudy/S1/\n",
            "   creating: PPG_FieldStudy/S10/\n",
            "  inflating: PPG_FieldStudy/S10/S10.pkl  \n",
            "  inflating: PPG_FieldStudy/S10/S10_activity.csv  \n",
            "  inflating: PPG_FieldStudy/S10/S10_E4.zip  \n",
            "  inflating: PPG_FieldStudy/S10/S10_quest.csv  \n",
            "  inflating: PPG_FieldStudy/S10/S10_RespiBAN.h5  \n",
            "   creating: PPG_FieldStudy/S11/\n",
            "  inflating: PPG_FieldStudy/S11/S11.pkl  \n",
            "  inflating: PPG_FieldStudy/S11/S11_activity.csv  \n",
            "  inflating: PPG_FieldStudy/S11/S11_E4.zip  \n",
            "  inflating: PPG_FieldStudy/S11/S11_quest.csv  \n",
            "  inflating: PPG_FieldStudy/S11/S11_RespiBAN.h5  \n",
            "   creating: PPG_FieldStudy/S12/\n",
            "  inflating: PPG_FieldStudy/S12/S12.pkl  \n",
            "  inflating: PPG_FieldStudy/S12/S12_activity.csv  \n",
            "  inflating: PPG_FieldStudy/S12/S12_E4.zip  \n",
            "  inflating: PPG_FieldStudy/S12/S12_quest.csv  \n",
            "  inflating: PPG_FieldStudy/S12/S12_RespiBAN.h5  \n",
            "   creating: PPG_FieldStudy/S13/\n",
            "  inflating: PPG_FieldStudy/S13/S13.pkl  \n",
            "  inflating: PPG_FieldStudy/S13/S13_activity.csv  \n",
            "  inflating: PPG_FieldStudy/S13/S13_E4.zip  \n",
            "  inflating: PPG_FieldStudy/S13/S13_quest.csv  \n",
            "  inflating: PPG_FieldStudy/S13/S13_RespiBAN.h5  \n",
            "   creating: PPG_FieldStudy/S14/\n",
            "  inflating: PPG_FieldStudy/S14/S14.pkl  \n",
            "  inflating: PPG_FieldStudy/S14/S14_activity.csv  \n",
            "  inflating: PPG_FieldStudy/S14/S14_E4.zip  \n",
            "  inflating: PPG_FieldStudy/S14/S14_quest.csv  \n",
            "  inflating: PPG_FieldStudy/S14/S14_RespiBAN.h5  \n",
            "   creating: PPG_FieldStudy/S15/\n",
            "  inflating: PPG_FieldStudy/S15/S15.pkl  \n",
            "  inflating: PPG_FieldStudy/S15/S15_activity.csv  \n",
            "  inflating: PPG_FieldStudy/S15/S15_E4.zip  \n",
            "  inflating: PPG_FieldStudy/S15/S15_quest.csv  \n",
            "  inflating: PPG_FieldStudy/S15/S15_RespiBAN.h5  \n",
            "  inflating: PPG_FieldStudy/S1/S1.pkl  \n",
            "  inflating: PPG_FieldStudy/S1/S1_activity.csv  \n",
            "  inflating: PPG_FieldStudy/S1/S1_E4.zip  \n",
            "  inflating: PPG_FieldStudy/S1/S1_quest.csv  \n",
            "  inflating: PPG_FieldStudy/S1/S1_RespiBAN.h5  \n",
            "   creating: PPG_FieldStudy/S2/\n",
            "  inflating: PPG_FieldStudy/S2/S2.pkl  \n",
            "  inflating: PPG_FieldStudy/S2/S2_activity.csv  \n",
            "  inflating: PPG_FieldStudy/S2/S2_E4.zip  \n",
            "  inflating: PPG_FieldStudy/S2/S2_quest.csv  \n",
            "  inflating: PPG_FieldStudy/S2/S2_RespiBAN.h5  \n",
            "   creating: PPG_FieldStudy/S3/\n",
            "  inflating: PPG_FieldStudy/S3/S3.pkl  \n",
            "  inflating: PPG_FieldStudy/S3/S3_activity.csv  \n",
            "  inflating: PPG_FieldStudy/S3/S3_E4.zip  \n",
            "  inflating: PPG_FieldStudy/S3/S3_quest.csv  \n",
            "  inflating: PPG_FieldStudy/S3/S3_RespiBAN.h5  \n",
            "   creating: PPG_FieldStudy/S4/\n",
            "  inflating: PPG_FieldStudy/S4/S4.pkl  \n",
            "  inflating: PPG_FieldStudy/S4/S4_activity.csv  \n",
            "  inflating: PPG_FieldStudy/S4/S4_E4.zip  \n",
            "  inflating: PPG_FieldStudy/S4/S4_quest.csv  \n",
            "  inflating: PPG_FieldStudy/S4/S4_RespiBAN.h5  \n",
            "   creating: PPG_FieldStudy/S5/\n",
            "  inflating: PPG_FieldStudy/S5/S5.pkl  \n",
            "  inflating: PPG_FieldStudy/S5/S5_activity.csv  \n",
            "  inflating: PPG_FieldStudy/S5/S5_E4.zip  \n",
            "  inflating: PPG_FieldStudy/S5/S5_quest.csv  \n",
            "  inflating: PPG_FieldStudy/S5/S5_RespiBAN.h5  \n",
            "   creating: PPG_FieldStudy/S6/\n",
            "  inflating: PPG_FieldStudy/S6/S6.pkl  \n",
            "  inflating: PPG_FieldStudy/S6/S6_activity.csv  \n",
            "  inflating: PPG_FieldStudy/S6/S6_E4.zip  \n",
            "  inflating: PPG_FieldStudy/S6/S6_quest.csv  \n",
            "  inflating: PPG_FieldStudy/S6/S6_RespiBAN.h5  \n",
            "   creating: PPG_FieldStudy/S7/\n",
            "  inflating: PPG_FieldStudy/S7/S7.pkl  \n",
            "  inflating: PPG_FieldStudy/S7/S7_activity.csv  \n",
            "  inflating: PPG_FieldStudy/S7/S7_E4.zip  \n",
            "  inflating: PPG_FieldStudy/S7/S7_quest.csv  \n",
            "  inflating: PPG_FieldStudy/S7/S7_RespiBAN.h5  \n",
            "   creating: PPG_FieldStudy/S8/\n",
            "  inflating: PPG_FieldStudy/S8/S8.pkl  \n",
            "  inflating: PPG_FieldStudy/S8/S8_activity.csv  \n",
            "  inflating: PPG_FieldStudy/S8/S8_E4.zip  \n",
            "  inflating: PPG_FieldStudy/S8/S8_quest.csv  \n",
            "  inflating: PPG_FieldStudy/S8/S8_RespiBAN.h5  \n",
            "   creating: PPG_FieldStudy/S9/\n",
            "  inflating: PPG_FieldStudy/S9/S9.pkl  \n",
            "  inflating: PPG_FieldStudy/S9/S9_activity.csv  \n",
            "  inflating: PPG_FieldStudy/S9/S9_E4.zip  \n",
            "  inflating: PPG_FieldStudy/S9/S9_quest.csv  \n",
            "  inflating: PPG_FieldStudy/S9/S9_RespiBAN.h5  \n"
          ],
          "name": "stdout"
        }
      ]
    },
    {
      "cell_type": "markdown",
      "metadata": {
        "id": "U2eI7oAojpRx",
        "colab_type": "text"
      },
      "source": [
        "# **Compréhension de la data**\n",
        "Je réalise des analyses que sur le sujet 1 pour comprendre le sens de la donnée"
      ]
    },
    {
      "cell_type": "code",
      "metadata": {
        "id": "QEx3vGYlXRR7",
        "colab_type": "code",
        "colab": {}
      },
      "source": [
        "import pandas as pd\n",
        "\n",
        "df= pd.read_pickle(\"./PPG_FieldStudy/S1/S1.pkl\")"
      ],
      "execution_count": 0,
      "outputs": []
    },
    {
      "cell_type": "code",
      "metadata": {
        "id": "kFmCAfKTX8GM",
        "colab_type": "code",
        "outputId": "12d39bba-011e-428f-a47a-bc7fb5794f6f",
        "colab": {
          "base_uri": "https://localhost:8080/",
          "height": 208
        }
      },
      "source": [
        "#Organisation de la data\n",
        "print(f\"La data est organisée en différentes catégories : {list(df.keys())}\")\n",
        "\n",
        "#ID du sujet\n",
        "print(f\"Il s'agit du sujet : {df['subject']}\")\n",
        "\n",
        "#Caractéristiques du sujet (Poids, genre, age, taille, couleur de peau, niveau de sportivité)\n",
        "\n",
        "print(f\"Les caractéristiques du sujet sont les suivantes : {df['questionnaire']}\")\n",
        "\n",
        "#Les activités sont sous forme d'array\n",
        "print(f'Activités : {df[\"activity\"]} \\n Taille de l\\'array : {len(df[\"activity\"])}')"
      ],
      "execution_count": 20,
      "outputs": [
        {
          "output_type": "stream",
          "text": [
            "La data est organisée en différentes catégories : ['rpeaks', 'signal', 'label', 'activity', 'questionnaire', 'subject']\n",
            "Il s'agit du sujet : S1\n",
            "Les caractéristiques du sujet sont les suivantes : {'WEIGHT': 78.0, 'Gender': ' m', 'AGE': 34, 'HEIGHT': 182.0, 'SKIN': 3, 'SPORT': 6}\n",
            "Activités : [[0.]\n",
            " [0.]\n",
            " [0.]\n",
            " ...\n",
            " [0.]\n",
            " [0.]\n",
            " [0.]] \n",
            " Taille de l'array : 36848\n"
          ],
          "name": "stdout"
        }
      ]
    },
    {
      "cell_type": "markdown",
      "metadata": {
        "id": "g94fJtJ20PWz",
        "colab_type": "text"
      },
      "source": [
        "## Activity :"
      ]
    },
    {
      "cell_type": "code",
      "metadata": {
        "id": "BaUeuM6JeAPZ",
        "colab_type": "code",
        "colab": {}
      },
      "source": [
        "def plot_activity(data,name_column):\n",
        "  import matplotlib.pyplot as plt\n",
        "  import seaborn as sns\n",
        "  import numpy as np\n",
        "  sns.set_style('whitegrid')\n",
        "  unique, counts = np.unique(data[name_column], return_counts=True)\n",
        "  dict(zip(unique, counts))\n",
        "  plt.figure(figsize=(10,5))\n",
        "  sns.barplot(unique, counts, alpha=0.8)\n",
        "  for i in range(len(unique)):\n",
        "    plt.text(x = unique[i]-0.2 , y = counts[i]+10, s = counts[i], size = 10)\n",
        "  plt.title('Visualisation de la répartition des activités')\n",
        "  plt.ylabel(\"Nombres d'occurences\", fontsize=12)\n",
        "  plt.xlabel('Numéro des activités', fontsize=12)\n",
        "  plt.show()"
      ],
      "execution_count": 0,
      "outputs": []
    },
    {
      "cell_type": "code",
      "metadata": {
        "id": "R1PIEOoSq7qz",
        "colab_type": "code",
        "outputId": "3883af22-1af7-4819-dfdc-32f1b609b2dc",
        "colab": {
          "base_uri": "https://localhost:8080/",
          "height": 353
        }
      },
      "source": [
        "plot_activity(df,'activity')\n",
        "#A voir après si on conserve les numéros ou on les remplace par leur noms"
      ],
      "execution_count": 22,
      "outputs": [
        {
          "output_type": "display_data",
          "data": {
            "image/png": "[encoded data removed]",
            "text/plain": [
              "<Figure size 720x360 with 1 Axes>"
            ]
          },
          "metadata": {
            "tags": []
          }
        }
      ]
    },
    {
      "cell_type": "code",
      "metadata": {
        "id": "BJdovYlh2BYx",
        "colab_type": "code",
        "outputId": "be441f67-b109-4fa6-fae2-3901f91ffdcd",
        "colab": {
          "base_uri": "https://localhost:8080/",
          "height": 282
        }
      },
      "source": [
        "activity = pd.DataFrame(df['activity'],columns=['activity'])\n",
        "activity.plot(y='activity', use_index=True)"
      ],
      "execution_count": 23,
      "outputs": [
        {
          "output_type": "execute_result",
          "data": {
            "text/plain": [
              "<matplotlib.axes._subplots.AxesSubplot at 0x7ff3e3322048>"
            ]
          },
          "metadata": {
            "tags": []
          },
          "execution_count": 23
        },
        {
          "output_type": "display_data",
          "data": {
            "image/png": "[encoded data removed]",
            "text/plain": [
              "<Figure size 432x288 with 1 Axes>"
            ]
          },
          "metadata": {
            "tags": []
          }
        }
      ]
    },
    {
      "cell_type": "markdown",
      "metadata": {
        "id": "Js2OFezb2CDH",
        "colab_type": "text"
      },
      "source": [
        "D'après l'histogramme, les activités les plus réalisées par notre sujet 1 est l'acitvité 0 c'est à dire la période de transition entre les activités et l'activité 6 qui est la pause déjeuner\n",
        "\n",
        "On voit bien dans le deuxième graphique les périodes de transition (Quand activité = 0) et on voit bien que l'activité 6 a pris un temps plus important que les autres activités"
      ]
    },
    {
      "cell_type": "markdown",
      "metadata": {
        "id": "JO7zwwtguUc6",
        "colab_type": "text"
      },
      "source": [
        "##Rpeaks : "
      ]
    },
    {
      "cell_type": "code",
      "metadata": {
        "id": "DQ_4qhXArYr5",
        "colab_type": "code",
        "outputId": "ce66e865-07a7-4016-9bca-3735ae9d4275",
        "colab": {
          "base_uri": "https://localhost:8080/",
          "height": 69
        }
      },
      "source": [
        "import numpy as np\n",
        "unique, counts = np.unique(df['rpeaks'], return_counts=True)\n",
        "dico_rpeaks = sorted(dict(zip(unique, counts)))\n",
        "#Ce sont des index donc normalement valeurs uniques\n",
        "print('En enlevant les doublons : ',len(set(df['rpeaks'])),'\\nSans doublons :  ',len(df['rpeaks']))\n",
        "print(f'Les valeurs de rpeaks pour le sujet 1 sont comprises entre {min(dico_rpeaks)} et {max(dico_rpeaks)}.La taille de l array est de {len(df[\"rpeaks\"])}')\n",
        "\n"
      ],
      "execution_count": 24,
      "outputs": [
        {
          "output_type": "stream",
          "text": [
            "En enlevant les doublons :  11431 \n",
            "Sans doublons :   11431\n",
            "Les valeurs de rpeaks pour le sujet 1 sont comprises entre 240 et 6448224.La taille de l array est de 11431\n"
          ],
          "name": "stdout"
        }
      ]
    },
    {
      "cell_type": "markdown",
      "metadata": {
        "id": "iH73DblHvSx5",
        "colab_type": "text"
      },
      "source": [
        "## Label : "
      ]
    },
    {
      "cell_type": "code",
      "metadata": {
        "id": "1ZqM3u8JvR-r",
        "colab_type": "code",
        "outputId": "c37087c8-27d1-47ce-9f15-f9fe60a02e46",
        "colab": {
          "base_uri": "https://localhost:8080/",
          "height": 121
        }
      },
      "source": [
        "print(f\"\"\"Label est de type {type(df['label'])}.\n",
        "Les valeurs sont de type {type(df['label'][0])}\n",
        "Son minimum est {min(df['label'])}\n",
        "Son maximum est {max(df['label'])}\n",
        "La taille de l'array est de {len(df['label'])}\n",
        "\"\"\")"
      ],
      "execution_count": 25,
      "outputs": [
        {
          "output_type": "stream",
          "text": [
            "Label est de type <class 'numpy.ndarray'>.\n",
            "Les valeurs sont de type <class 'numpy.float64'>\n",
            "Son minimum est 41.86246685820639\n",
            "Son maximum est 150.15457212632637\n",
            "La taille de l'array est de 4603\n",
            "\n"
          ],
          "name": "stdout"
        }
      ]
    },
    {
      "cell_type": "code",
      "metadata": {
        "id": "H90Q8OhW0li3",
        "colab_type": "code",
        "outputId": "58cb96c9-1d8f-47db-cac8-a46a6e13ddde",
        "colab": {
          "base_uri": "https://localhost:8080/",
          "height": 282
        }
      },
      "source": [
        "label = pd.DataFrame(df['label'],columns=['labels'])\n",
        "label\n",
        "label.plot(y='labels', use_index=True)\n"
      ],
      "execution_count": 26,
      "outputs": [
        {
          "output_type": "execute_result",
          "data": {
            "text/plain": [
              "<matplotlib.axes._subplots.AxesSubplot at 0x7ff3e37b1eb8>"
            ]
          },
          "metadata": {
            "tags": []
          },
          "execution_count": 26
        },
        {
          "output_type": "display_data",
          "data": {
            "image/png": "[encoded data removed]",
            "text/plain": [
              "<Figure size 432x288 with 1 Axes>"
            ]
          },
          "metadata": {
            "tags": []
          }
        }
      ]
    },
    {
      "cell_type": "markdown",
      "metadata": {
        "id": "2Fa47r5I1K55",
        "colab_type": "text"
      },
      "source": [
        "Nous avons fait un plot représentant les données dans de la colonne label. Il s'agit de la représentation dans le temps du ground truth heart rate information.\n",
        "\n",
        "## Lien etre label et activity :"
      ]
    },
    {
      "cell_type": "markdown",
      "metadata": {
        "id": "SyHmv6TzNl7Y",
        "colab_type": "text"
      },
      "source": [
        "Aide du ReadMe :\n",
        "-  activity-signal with 4 Hz sampling rate \n",
        "- "
      ]
    },
    {
      "cell_type": "code",
      "metadata": {
        "id": "lmGpU2vt3rsV",
        "colab_type": "code",
        "outputId": "0c2bd053-f7ca-4766-f1a4-4210d260896c",
        "colab": {
          "base_uri": "https://localhost:8080/",
          "height": 225
        }
      },
      "source": [
        "taille_activite = len(df['activity'])\n",
        "taille_label = len(df['label'])\n",
        "print(f\"\"\"\n",
        "\n",
        "Taille de la data activité : {taille_activite}\n",
        "Taille de la data label    : {taille_label}\n",
        "\n",
        "Dans les données, ils nous parlent de windows de 8s. Ils ont fait une moyenne des battements de coeurs tous les 8 secondes.\n",
        "\n",
        "Multiplication des deux variables : {taille_label*8}\n",
        "Nombres de valeurs divisé par la fréquence : {taille_activite/4}\n",
        "Différence est de : {taille_activite - taille_label*8}\n",
        "\n",
        "\"\"\")"
      ],
      "execution_count": 27,
      "outputs": [
        {
          "output_type": "stream",
          "text": [
            "\n",
            "\n",
            "Taille de la data activité : 36848\n",
            "Taille de la data label    : 4603\n",
            "\n",
            "Dans les données, ils nous parlent de windows de 8s. Ils ont fait une moyenne des battements de coeurs tous les 8 secondes.\n",
            "\n",
            "Multiplication des deux variables : 36824\n",
            "Nombres de valeurs divisé par la fréquence : 9212.0\n",
            "Différence est de : 24\n",
            "\n",
            "\n"
          ],
          "name": "stdout"
        }
      ]
    },
    {
      "cell_type": "code",
      "metadata": {
        "id": "8oIOpM4c6I4q",
        "colab_type": "code",
        "outputId": "d7a8920e-3cfe-4014-c8b5-86ae64114128",
        "colab": {
          "base_uri": "https://localhost:8080/",
          "height": 265
        }
      },
      "source": [
        "import matplotlib.pyplot as plt\n",
        "\n",
        "plt.plot(label.index*8, label['labels'])\n",
        "\n",
        "#Multiplier par 20 pour l'échelle\n",
        "plt.plot(activity.index,activity['activity']*20)\n",
        "plt.show()"
      ],
      "execution_count": 28,
      "outputs": [
        {
          "output_type": "display_data",
          "data": {
            "image/png": "[encoded data removed]",
            "text/plain": [
              "<Figure size 432x288 with 1 Axes>"
            ]
          },
          "metadata": {
            "tags": []
          }
        }
      ]
    },
    {
      "cell_type": "markdown",
      "metadata": {
        "id": "mLfzr_s39OMW",
        "colab_type": "text"
      },
      "source": [
        "On peut remarquer des segmentations similaires c'est à dire que les battements de coeur ont l'air de changer selon l'activité"
      ]
    },
    {
      "cell_type": "markdown",
      "metadata": {
        "id": "QwTs6Zx_9qft",
        "colab_type": "text"
      },
      "source": [
        "##Signal :"
      ]
    },
    {
      "cell_type": "code",
      "metadata": {
        "id": "Lresut7p9rvR",
        "colab_type": "code",
        "outputId": "892f95f6-312d-477e-a056-4fd343154564",
        "colab": {
          "base_uri": "https://localhost:8080/",
          "height": 138
        }
      },
      "source": [
        "print(f\"Dans signal, nous avons un dataset en {len(df['signal'].keys())} parties : {list(df['signal'].keys())})\")\n",
        "print(f\"\"\"\n",
        "\n",
        "Dans chest, nous avons la structure suivante : {list(df['signal'].get('chest').keys())}\n",
        "Dans wrist, nous avons la structure suivante : {list(df['signal'].get('wrist').keys())}\n",
        "\n",
        "\"\"\")"
      ],
      "execution_count": 29,
      "outputs": [
        {
          "output_type": "stream",
          "text": [
            "Dans signal, nous avons un dataset en 2 parties : ['chest', 'wrist'])\n",
            "\n",
            "\n",
            "Dans chest, nous avons la structure suivante : ['ACC', 'ECG', 'EMG', 'EDA', 'Temp', 'Resp']\n",
            "Dans wrist, nous avons la structure suivante : ['ACC', 'BVP', 'EDA', 'TEMP']\n",
            "\n",
            "\n"
          ],
          "name": "stdout"
        }
      ]
    },
    {
      "cell_type": "code",
      "metadata": {
        "id": "qaxPSyHV9nuQ",
        "colab_type": "code",
        "colab": {}
      },
      "source": [
        "#Divisé en deux : Chest et wrist\n",
        "df_chest = pd.DataFrame()\n",
        "for i in df.get('signal').get('chest').keys():\n",
        "  column = df.get('signal').get('chest').get(i)\n",
        "  df_chest[i] = column.tolist()"
      ],
      "execution_count": 0,
      "outputs": []
    },
    {
      "cell_type": "code",
      "metadata": {
        "id": "dIWPhjdeRTno",
        "colab_type": "code",
        "outputId": "3a15abbd-c451-4adf-e8a1-13c514ade312",
        "colab": {
          "base_uri": "https://localhost:8080/",
          "height": 138
        }
      },
      "source": [
        "len(df.get('signal').get('chest').get('ACC'))\n",
        "df.get('signal').get('chest').get('Temp')"
      ],
      "execution_count": 31,
      "outputs": [
        {
          "output_type": "execute_result",
          "data": {
            "text/plain": [
              "array([[-273.15],\n",
              "       [-273.15],\n",
              "       [-273.15],\n",
              "       ...,\n",
              "       [-273.15],\n",
              "       [-273.15],\n",
              "       [-273.15]], dtype=float32)"
            ]
          },
          "metadata": {
            "tags": []
          },
          "execution_count": 31
        }
      ]
    },
    {
      "cell_type": "code",
      "metadata": {
        "id": "8o0xn-NaGggK",
        "colab_type": "code",
        "colab": {}
      },
      "source": [
        "for i in df_chest.keys():\n",
        "  if (i == 'ACC'):\n",
        "    acc1 = df_chest[i].apply(lambda x: x[0])\n",
        "    acc2 = df_chest[i].apply(lambda x: x[1])\n",
        "    acc3 = df_chest[i].apply(lambda x: x[2])\n",
        "    df_chest['ACC1'] = acc1\n",
        "    df_chest['ACC2'] = acc2\n",
        "    df_chest['ACC3'] = acc3\n",
        "  else:\n",
        "    new_data = df_chest[i].apply(lambda x: x[0])\n",
        "    df_chest[i]=new_data"
      ],
      "execution_count": 0,
      "outputs": []
    },
    {
      "cell_type": "markdown",
      "metadata": {
        "id": "jIpaCmlDEtJS",
        "colab_type": "text"
      },
      "source": [
        "ACC : 3 dimensions\n",
        "ECG :\n",
        "EMG : \n",
        "DA :\n",
        "Temp : \n",
        "Resp :"
      ]
    },
    {
      "cell_type": "code",
      "metadata": {
        "id": "VBix8tykESpN",
        "colab_type": "code",
        "outputId": "e758d683-bd4e-4cf3-e4a9-44d8e2a6a67d",
        "colab": {
          "base_uri": "https://localhost:8080/",
          "height": 202
        }
      },
      "source": [
        "df_chest.head()"
      ],
      "execution_count": 33,
      "outputs": [
        {
          "output_type": "execute_result",
          "data": {
            "text/html": [
              "<div>\n",
              "<style scoped>\n",
              "    .dataframe tbody tr th:only-of-type {\n",
              "        vertical-align: middle;\n",
              "    }\n",
              "\n",
              "    .dataframe tbody tr th {\n",
              "        vertical-align: top;\n",
              "    }\n",
              "\n",
              "    .dataframe thead th {\n",
              "        text-align: right;\n",
              "    }\n",
              "</style>\n",
              "<table border=\"1\" class=\"dataframe\">\n",
              "  <thead>\n",
              "    <tr style=\"text-align: right;\">\n",
              "      <th></th>\n",
              "      <th>ACC</th>\n",
              "      <th>ECG</th>\n",
              "      <th>EMG</th>\n",
              "      <th>EDA</th>\n",
              "      <th>Temp</th>\n",
              "      <th>Resp</th>\n",
              "      <th>ACC1</th>\n",
              "      <th>ACC2</th>\n",
              "      <th>ACC3</th>\n",
              "    </tr>\n",
              "  </thead>\n",
              "  <tbody>\n",
              "    <tr>\n",
              "      <th>0</th>\n",
              "      <td>[0.8564000129699707, -0.06779998540878296, -0....</td>\n",
              "      <td>0.015610</td>\n",
              "      <td>-1.5</td>\n",
              "      <td>0.0</td>\n",
              "      <td>-273.149994</td>\n",
              "      <td>4.441833</td>\n",
              "      <td>0.8564</td>\n",
              "      <td>-0.0678</td>\n",
              "      <td>-0.3656</td>\n",
              "    </tr>\n",
              "    <tr>\n",
              "      <th>1</th>\n",
              "      <td>[0.8555999994277954, -0.0690000057220459, -0.3...</td>\n",
              "      <td>0.018127</td>\n",
              "      <td>-1.5</td>\n",
              "      <td>0.0</td>\n",
              "      <td>-273.149994</td>\n",
              "      <td>4.450989</td>\n",
              "      <td>0.8556</td>\n",
              "      <td>-0.0690</td>\n",
              "      <td>-0.3646</td>\n",
              "    </tr>\n",
              "    <tr>\n",
              "      <th>2</th>\n",
              "      <td>[0.8519999980926514, -0.07020002603530884, -0....</td>\n",
              "      <td>0.017532</td>\n",
              "      <td>-1.5</td>\n",
              "      <td>0.0</td>\n",
              "      <td>-273.149994</td>\n",
              "      <td>4.473877</td>\n",
              "      <td>0.8520</td>\n",
              "      <td>-0.0702</td>\n",
              "      <td>-0.3642</td>\n",
              "    </tr>\n",
              "    <tr>\n",
              "      <th>3</th>\n",
              "      <td>[0.8525999784469604, -0.0690000057220459, -0.3...</td>\n",
              "      <td>0.013412</td>\n",
              "      <td>-1.5</td>\n",
              "      <td>0.0</td>\n",
              "      <td>-273.149994</td>\n",
              "      <td>4.478455</td>\n",
              "      <td>0.8526</td>\n",
              "      <td>-0.0690</td>\n",
              "      <td>-0.3640</td>\n",
              "    </tr>\n",
              "    <tr>\n",
              "      <th>4</th>\n",
              "      <td>[0.8525999784469604, -0.06980001926422119, -0....</td>\n",
              "      <td>0.011948</td>\n",
              "      <td>-1.5</td>\n",
              "      <td>0.0</td>\n",
              "      <td>-273.149994</td>\n",
              "      <td>4.510498</td>\n",
              "      <td>0.8526</td>\n",
              "      <td>-0.0698</td>\n",
              "      <td>-0.3654</td>\n",
              "    </tr>\n",
              "  </tbody>\n",
              "</table>\n",
              "</div>"
            ],
            "text/plain": [
              "                                                 ACC       ECG  ...    ACC2    ACC3\n",
              "0  [0.8564000129699707, -0.06779998540878296, -0....  0.015610  ... -0.0678 -0.3656\n",
              "1  [0.8555999994277954, -0.0690000057220459, -0.3...  0.018127  ... -0.0690 -0.3646\n",
              "2  [0.8519999980926514, -0.07020002603530884, -0....  0.017532  ... -0.0702 -0.3642\n",
              "3  [0.8525999784469604, -0.0690000057220459, -0.3...  0.013412  ... -0.0690 -0.3640\n",
              "4  [0.8525999784469604, -0.06980001926422119, -0....  0.011948  ... -0.0698 -0.3654\n",
              "\n",
              "[5 rows x 9 columns]"
            ]
          },
          "metadata": {
            "tags": []
          },
          "execution_count": 33
        }
      ]
    },
    {
      "cell_type": "code",
      "metadata": {
        "id": "sE0XZ6w8LRa7",
        "colab_type": "code",
        "outputId": "25d762b2-790a-41f2-9341-fcdeb6e424e0",
        "colab": {
          "base_uri": "https://localhost:8080/",
          "height": 416
        }
      },
      "source": [
        "df_chest.drop('ACC',axis=1)"
      ],
      "execution_count": 34,
      "outputs": [
        {
          "output_type": "execute_result",
          "data": {
            "text/html": [
              "<div>\n",
              "<style scoped>\n",
              "    .dataframe tbody tr th:only-of-type {\n",
              "        vertical-align: middle;\n",
              "    }\n",
              "\n",
              "    .dataframe tbody tr th {\n",
              "        vertical-align: top;\n",
              "    }\n",
              "\n",
              "    .dataframe thead th {\n",
              "        text-align: right;\n",
              "    }\n",
              "</style>\n",
              "<table border=\"1\" class=\"dataframe\">\n",
              "  <thead>\n",
              "    <tr style=\"text-align: right;\">\n",
              "      <th></th>\n",
              "      <th>ECG</th>\n",
              "      <th>EMG</th>\n",
              "      <th>EDA</th>\n",
              "      <th>Temp</th>\n",
              "      <th>Resp</th>\n",
              "      <th>ACC1</th>\n",
              "      <th>ACC2</th>\n",
              "      <th>ACC3</th>\n",
              "    </tr>\n",
              "  </thead>\n",
              "  <tbody>\n",
              "    <tr>\n",
              "      <th>0</th>\n",
              "      <td>0.015610</td>\n",
              "      <td>-1.5</td>\n",
              "      <td>0.0</td>\n",
              "      <td>-273.149994</td>\n",
              "      <td>4.441833</td>\n",
              "      <td>0.8564</td>\n",
              "      <td>-0.0678</td>\n",
              "      <td>-0.3656</td>\n",
              "    </tr>\n",
              "    <tr>\n",
              "      <th>1</th>\n",
              "      <td>0.018127</td>\n",
              "      <td>-1.5</td>\n",
              "      <td>0.0</td>\n",
              "      <td>-273.149994</td>\n",
              "      <td>4.450989</td>\n",
              "      <td>0.8556</td>\n",
              "      <td>-0.0690</td>\n",
              "      <td>-0.3646</td>\n",
              "    </tr>\n",
              "    <tr>\n",
              "      <th>2</th>\n",
              "      <td>0.017532</td>\n",
              "      <td>-1.5</td>\n",
              "      <td>0.0</td>\n",
              "      <td>-273.149994</td>\n",
              "      <td>4.473877</td>\n",
              "      <td>0.8520</td>\n",
              "      <td>-0.0702</td>\n",
              "      <td>-0.3642</td>\n",
              "    </tr>\n",
              "    <tr>\n",
              "      <th>3</th>\n",
              "      <td>0.013412</td>\n",
              "      <td>-1.5</td>\n",
              "      <td>0.0</td>\n",
              "      <td>-273.149994</td>\n",
              "      <td>4.478455</td>\n",
              "      <td>0.8526</td>\n",
              "      <td>-0.0690</td>\n",
              "      <td>-0.3640</td>\n",
              "    </tr>\n",
              "    <tr>\n",
              "      <th>4</th>\n",
              "      <td>0.011948</td>\n",
              "      <td>-1.5</td>\n",
              "      <td>0.0</td>\n",
              "      <td>-273.149994</td>\n",
              "      <td>4.510498</td>\n",
              "      <td>0.8526</td>\n",
              "      <td>-0.0698</td>\n",
              "      <td>-0.3654</td>\n",
              "    </tr>\n",
              "    <tr>\n",
              "      <th>...</th>\n",
              "      <td>...</td>\n",
              "      <td>...</td>\n",
              "      <td>...</td>\n",
              "      <td>...</td>\n",
              "      <td>...</td>\n",
              "      <td>...</td>\n",
              "      <td>...</td>\n",
              "      <td>...</td>\n",
              "    </tr>\n",
              "    <tr>\n",
              "      <th>6448395</th>\n",
              "      <td>0.212082</td>\n",
              "      <td>-1.5</td>\n",
              "      <td>0.0</td>\n",
              "      <td>-273.149994</td>\n",
              "      <td>-3.062439</td>\n",
              "      <td>0.8862</td>\n",
              "      <td>-0.1022</td>\n",
              "      <td>-0.2760</td>\n",
              "    </tr>\n",
              "    <tr>\n",
              "      <th>6448396</th>\n",
              "      <td>0.210159</td>\n",
              "      <td>-1.5</td>\n",
              "      <td>0.0</td>\n",
              "      <td>-273.149994</td>\n",
              "      <td>-3.051758</td>\n",
              "      <td>0.8866</td>\n",
              "      <td>-0.1036</td>\n",
              "      <td>-0.2766</td>\n",
              "    </tr>\n",
              "    <tr>\n",
              "      <th>6448397</th>\n",
              "      <td>0.213684</td>\n",
              "      <td>-1.5</td>\n",
              "      <td>0.0</td>\n",
              "      <td>-273.149994</td>\n",
              "      <td>-3.050232</td>\n",
              "      <td>0.8876</td>\n",
              "      <td>-0.1038</td>\n",
              "      <td>-0.2792</td>\n",
              "    </tr>\n",
              "    <tr>\n",
              "      <th>6448398</th>\n",
              "      <td>0.215561</td>\n",
              "      <td>-1.5</td>\n",
              "      <td>0.0</td>\n",
              "      <td>-273.149994</td>\n",
              "      <td>-3.053284</td>\n",
              "      <td>0.8862</td>\n",
              "      <td>-0.1016</td>\n",
              "      <td>-0.2782</td>\n",
              "    </tr>\n",
              "    <tr>\n",
              "      <th>6448399</th>\n",
              "      <td>0.217026</td>\n",
              "      <td>-1.5</td>\n",
              "      <td>0.0</td>\n",
              "      <td>-273.149994</td>\n",
              "      <td>-3.056335</td>\n",
              "      <td>0.8868</td>\n",
              "      <td>-0.1014</td>\n",
              "      <td>-0.2738</td>\n",
              "    </tr>\n",
              "  </tbody>\n",
              "</table>\n",
              "<p>6448400 rows × 8 columns</p>\n",
              "</div>"
            ],
            "text/plain": [
              "              ECG  EMG  EDA        Temp      Resp    ACC1    ACC2    ACC3\n",
              "0        0.015610 -1.5  0.0 -273.149994  4.441833  0.8564 -0.0678 -0.3656\n",
              "1        0.018127 -1.5  0.0 -273.149994  4.450989  0.8556 -0.0690 -0.3646\n",
              "2        0.017532 -1.5  0.0 -273.149994  4.473877  0.8520 -0.0702 -0.3642\n",
              "3        0.013412 -1.5  0.0 -273.149994  4.478455  0.8526 -0.0690 -0.3640\n",
              "4        0.011948 -1.5  0.0 -273.149994  4.510498  0.8526 -0.0698 -0.3654\n",
              "...           ...  ...  ...         ...       ...     ...     ...     ...\n",
              "6448395  0.212082 -1.5  0.0 -273.149994 -3.062439  0.8862 -0.1022 -0.2760\n",
              "6448396  0.210159 -1.5  0.0 -273.149994 -3.051758  0.8866 -0.1036 -0.2766\n",
              "6448397  0.213684 -1.5  0.0 -273.149994 -3.050232  0.8876 -0.1038 -0.2792\n",
              "6448398  0.215561 -1.5  0.0 -273.149994 -3.053284  0.8862 -0.1016 -0.2782\n",
              "6448399  0.217026 -1.5  0.0 -273.149994 -3.056335  0.8868 -0.1014 -0.2738\n",
              "\n",
              "[6448400 rows x 8 columns]"
            ]
          },
          "metadata": {
            "tags": []
          },
          "execution_count": 34
        }
      ]
    },
    {
      "cell_type": "code",
      "metadata": {
        "id": "cRRGCnWMTANL",
        "colab_type": "code",
        "outputId": "2ba9da1e-e260-419c-a91c-e96064d75695",
        "colab": {
          "base_uri": "https://localhost:8080/",
          "height": 294
        }
      },
      "source": [
        "df_chest.describe()"
      ],
      "execution_count": 35,
      "outputs": [
        {
          "output_type": "execute_result",
          "data": {
            "text/html": [
              "<div>\n",
              "<style scoped>\n",
              "    .dataframe tbody tr th:only-of-type {\n",
              "        vertical-align: middle;\n",
              "    }\n",
              "\n",
              "    .dataframe tbody tr th {\n",
              "        vertical-align: top;\n",
              "    }\n",
              "\n",
              "    .dataframe thead th {\n",
              "        text-align: right;\n",
              "    }\n",
              "</style>\n",
              "<table border=\"1\" class=\"dataframe\">\n",
              "  <thead>\n",
              "    <tr style=\"text-align: right;\">\n",
              "      <th></th>\n",
              "      <th>ECG</th>\n",
              "      <th>EMG</th>\n",
              "      <th>EDA</th>\n",
              "      <th>Temp</th>\n",
              "      <th>Resp</th>\n",
              "      <th>ACC1</th>\n",
              "      <th>ACC2</th>\n",
              "      <th>ACC3</th>\n",
              "    </tr>\n",
              "  </thead>\n",
              "  <tbody>\n",
              "    <tr>\n",
              "      <th>count</th>\n",
              "      <td>6.448400e+06</td>\n",
              "      <td>6448400.0</td>\n",
              "      <td>6448400.0</td>\n",
              "      <td>6.448400e+06</td>\n",
              "      <td>6.448400e+06</td>\n",
              "      <td>6.448400e+06</td>\n",
              "      <td>6.448400e+06</td>\n",
              "      <td>6.448400e+06</td>\n",
              "    </tr>\n",
              "    <tr>\n",
              "      <th>mean</th>\n",
              "      <td>7.078980e-04</td>\n",
              "      <td>-1.5</td>\n",
              "      <td>0.0</td>\n",
              "      <td>-2.731500e+02</td>\n",
              "      <td>4.976702e-02</td>\n",
              "      <td>8.307913e-01</td>\n",
              "      <td>-6.681915e-02</td>\n",
              "      <td>-3.551541e-01</td>\n",
              "    </tr>\n",
              "    <tr>\n",
              "      <th>std</th>\n",
              "      <td>2.942117e-01</td>\n",
              "      <td>0.0</td>\n",
              "      <td>0.0</td>\n",
              "      <td>0.000000e+00</td>\n",
              "      <td>3.311963e+00</td>\n",
              "      <td>1.819352e-01</td>\n",
              "      <td>8.429531e-02</td>\n",
              "      <td>2.320015e-01</td>\n",
              "    </tr>\n",
              "    <tr>\n",
              "      <th>min</th>\n",
              "      <td>-1.499908e+00</td>\n",
              "      <td>-1.5</td>\n",
              "      <td>0.0</td>\n",
              "      <td>-2.731500e+02</td>\n",
              "      <td>-2.011871e+01</td>\n",
              "      <td>-6.956000e-01</td>\n",
              "      <td>-1.483000e+00</td>\n",
              "      <td>-4.249000e+00</td>\n",
              "    </tr>\n",
              "    <tr>\n",
              "      <th>25%</th>\n",
              "      <td>-1.335754e-01</td>\n",
              "      <td>-1.5</td>\n",
              "      <td>0.0</td>\n",
              "      <td>-2.731500e+02</td>\n",
              "      <td>-1.930237e+00</td>\n",
              "      <td>7.448000e-01</td>\n",
              "      <td>-1.026000e-01</td>\n",
              "      <td>-5.622000e-01</td>\n",
              "    </tr>\n",
              "    <tr>\n",
              "      <th>50%</th>\n",
              "      <td>-6.166077e-02</td>\n",
              "      <td>-1.5</td>\n",
              "      <td>0.0</td>\n",
              "      <td>-2.731500e+02</td>\n",
              "      <td>3.509521e-02</td>\n",
              "      <td>8.386000e-01</td>\n",
              "      <td>-7.539999e-02</td>\n",
              "      <td>-3.374000e-01</td>\n",
              "    </tr>\n",
              "    <tr>\n",
              "      <th>75%</th>\n",
              "      <td>5.351257e-02</td>\n",
              "      <td>-1.5</td>\n",
              "      <td>0.0</td>\n",
              "      <td>-2.731500e+02</td>\n",
              "      <td>1.853943e+00</td>\n",
              "      <td>9.028000e-01</td>\n",
              "      <td>-3.439999e-02</td>\n",
              "      <td>-1.924000e-01</td>\n",
              "    </tr>\n",
              "    <tr>\n",
              "      <th>max</th>\n",
              "      <td>1.499954e+00</td>\n",
              "      <td>-1.5</td>\n",
              "      <td>0.0</td>\n",
              "      <td>-2.731500e+02</td>\n",
              "      <td>2.664185e+01</td>\n",
              "      <td>3.951200e+00</td>\n",
              "      <td>1.244200e+00</td>\n",
              "      <td>2.957800e+00</td>\n",
              "    </tr>\n",
              "  </tbody>\n",
              "</table>\n",
              "</div>"
            ],
            "text/plain": [
              "                ECG        EMG  ...          ACC2          ACC3\n",
              "count  6.448400e+06  6448400.0  ...  6.448400e+06  6.448400e+06\n",
              "mean   7.078980e-04       -1.5  ... -6.681915e-02 -3.551541e-01\n",
              "std    2.942117e-01        0.0  ...  8.429531e-02  2.320015e-01\n",
              "min   -1.499908e+00       -1.5  ... -1.483000e+00 -4.249000e+00\n",
              "25%   -1.335754e-01       -1.5  ... -1.026000e-01 -5.622000e-01\n",
              "50%   -6.166077e-02       -1.5  ... -7.539999e-02 -3.374000e-01\n",
              "75%    5.351257e-02       -1.5  ... -3.439999e-02 -1.924000e-01\n",
              "max    1.499954e+00       -1.5  ...  1.244200e+00  2.957800e+00\n",
              "\n",
              "[8 rows x 8 columns]"
            ]
          },
          "metadata": {
            "tags": []
          },
          "execution_count": 35
        }
      ]
    },
    {
      "cell_type": "markdown",
      "metadata": {
        "id": "xR7kUlI6TL-1",
        "colab_type": "text"
      },
      "source": [
        "Observations : \n",
        "EMG,Temp et EDA semblent être les mêmes valeurs dans tout le dataset."
      ]
    },
    {
      "cell_type": "code",
      "metadata": {
        "id": "IgN95iAzTb-u",
        "colab_type": "code",
        "outputId": "b50b130c-423b-4484-e523-7a02ae32f5c9",
        "colab": {
          "base_uri": "https://localhost:8080/",
          "height": 52
        }
      },
      "source": [
        "df_chest.EMG.value_counts()"
      ],
      "execution_count": 36,
      "outputs": [
        {
          "output_type": "execute_result",
          "data": {
            "text/plain": [
              "-1.5    6448400\n",
              "Name: EMG, dtype: int64"
            ]
          },
          "metadata": {
            "tags": []
          },
          "execution_count": 36
        }
      ]
    },
    {
      "cell_type": "code",
      "metadata": {
        "id": "b0USs1T-TjVA",
        "colab_type": "code",
        "outputId": "34974ba7-7162-4dbf-b8b5-1cdfa3a7c2fa",
        "colab": {
          "base_uri": "https://localhost:8080/",
          "height": 52
        }
      },
      "source": [
        "df_chest.EDA.value_counts()"
      ],
      "execution_count": 37,
      "outputs": [
        {
          "output_type": "execute_result",
          "data": {
            "text/plain": [
              "0.0    6448400\n",
              "Name: EDA, dtype: int64"
            ]
          },
          "metadata": {
            "tags": []
          },
          "execution_count": 37
        }
      ]
    },
    {
      "cell_type": "code",
      "metadata": {
        "id": "BEzw11SETpVy",
        "colab_type": "code",
        "outputId": "f23717ed-eebe-4c66-ec45-9e1c3df28f0e",
        "colab": {
          "base_uri": "https://localhost:8080/",
          "height": 52
        }
      },
      "source": [
        "df_chest.Temp.value_counts()"
      ],
      "execution_count": 38,
      "outputs": [
        {
          "output_type": "execute_result",
          "data": {
            "text/plain": [
              "-273.149994    6448400\n",
              "Name: Temp, dtype: int64"
            ]
          },
          "metadata": {
            "tags": []
          },
          "execution_count": 38
        }
      ]
    },
    {
      "cell_type": "code",
      "metadata": {
        "id": "uL1RORl-M2FJ",
        "colab_type": "code",
        "outputId": "f3adbb87-00c5-4993-efeb-c1c9d245a69b",
        "colab": {
          "base_uri": "https://localhost:8080/",
          "height": 190
        }
      },
      "source": [
        "freq = 700\n",
        "for column in df_chest:\n",
        "  print(column,\" : \",len(df_chest[column]))\n",
        "\n",
        "print(len(df_chest[column])/freq)"
      ],
      "execution_count": 39,
      "outputs": [
        {
          "output_type": "stream",
          "text": [
            "ACC  :  6448400\n",
            "ECG  :  6448400\n",
            "EMG  :  6448400\n",
            "EDA  :  6448400\n",
            "Temp  :  6448400\n",
            "Resp  :  6448400\n",
            "ACC1  :  6448400\n",
            "ACC2  :  6448400\n",
            "ACC3  :  6448400\n",
            "9212.0\n"
          ],
          "name": "stdout"
        }
      ]
    },
    {
      "cell_type": "markdown",
      "metadata": {
        "id": "o8bbWeqsNC9j",
        "colab_type": "text"
      },
      "source": [
        "Aide du ReadMe : \n",
        "- All signals were sampled at 700 Hz\n",
        "\n",
        "\n"
      ]
    },
    {
      "cell_type": "markdown",
      "metadata": {
        "id": "7-42t9vNUN1y",
        "colab_type": "text"
      },
      "source": [
        "###Wrist"
      ]
    },
    {
      "cell_type": "code",
      "metadata": {
        "id": "Csi1oLNjCS-3",
        "colab_type": "code",
        "colab": {}
      },
      "source": [
        "df_wrist = pd.DataFrame()\n",
        "\n",
        "for i in df.get('signal').get('wrist').keys():\n",
        "  column = df.get('signal').get('wrist').get(i)\n",
        "  if(i == 'ACC'):\n",
        "    name_column = ['ACC1','ACC2','ACC3']\n",
        "  else:\n",
        "    name_column = [i]\n",
        "  column = pd.DataFrame(column, columns=name_column)\n",
        "  df_wrist = pd.concat((df_wrist,column), axis=1)"
      ],
      "execution_count": 0,
      "outputs": []
    },
    {
      "cell_type": "code",
      "metadata": {
        "id": "EBBMhMzgDUrO",
        "colab_type": "code",
        "outputId": "1ef512f3-6989-4da9-c54c-c53ff48b4136",
        "colab": {
          "base_uri": "https://localhost:8080/",
          "height": 416
        }
      },
      "source": [
        "df_wrist"
      ],
      "execution_count": 41,
      "outputs": [
        {
          "output_type": "execute_result",
          "data": {
            "text/html": [
              "<div>\n",
              "<style scoped>\n",
              "    .dataframe tbody tr th:only-of-type {\n",
              "        vertical-align: middle;\n",
              "    }\n",
              "\n",
              "    .dataframe tbody tr th {\n",
              "        vertical-align: top;\n",
              "    }\n",
              "\n",
              "    .dataframe thead th {\n",
              "        text-align: right;\n",
              "    }\n",
              "</style>\n",
              "<table border=\"1\" class=\"dataframe\">\n",
              "  <thead>\n",
              "    <tr style=\"text-align: right;\">\n",
              "      <th></th>\n",
              "      <th>ACC1</th>\n",
              "      <th>ACC2</th>\n",
              "      <th>ACC3</th>\n",
              "      <th>BVP</th>\n",
              "      <th>EDA</th>\n",
              "      <th>TEMP</th>\n",
              "    </tr>\n",
              "  </thead>\n",
              "  <tbody>\n",
              "    <tr>\n",
              "      <th>0</th>\n",
              "      <td>-0.765625</td>\n",
              "      <td>-0.078125</td>\n",
              "      <td>0.671875</td>\n",
              "      <td>7.28</td>\n",
              "      <td>4.722437</td>\n",
              "      <td>32.13</td>\n",
              "    </tr>\n",
              "    <tr>\n",
              "      <th>1</th>\n",
              "      <td>-0.765625</td>\n",
              "      <td>-0.078125</td>\n",
              "      <td>0.656250</td>\n",
              "      <td>6.33</td>\n",
              "      <td>4.728843</td>\n",
              "      <td>32.16</td>\n",
              "    </tr>\n",
              "    <tr>\n",
              "      <th>2</th>\n",
              "      <td>-0.765625</td>\n",
              "      <td>-0.078125</td>\n",
              "      <td>0.671875</td>\n",
              "      <td>5.46</td>\n",
              "      <td>4.718594</td>\n",
              "      <td>32.16</td>\n",
              "    </tr>\n",
              "    <tr>\n",
              "      <th>3</th>\n",
              "      <td>-0.765625</td>\n",
              "      <td>-0.078125</td>\n",
              "      <td>0.671875</td>\n",
              "      <td>4.60</td>\n",
              "      <td>4.717312</td>\n",
              "      <td>32.16</td>\n",
              "    </tr>\n",
              "    <tr>\n",
              "      <th>4</th>\n",
              "      <td>-0.750000</td>\n",
              "      <td>-0.078125</td>\n",
              "      <td>0.671875</td>\n",
              "      <td>3.74</td>\n",
              "      <td>4.713469</td>\n",
              "      <td>32.16</td>\n",
              "    </tr>\n",
              "    <tr>\n",
              "      <th>...</th>\n",
              "      <td>...</td>\n",
              "      <td>...</td>\n",
              "      <td>...</td>\n",
              "      <td>...</td>\n",
              "      <td>...</td>\n",
              "      <td>...</td>\n",
              "    </tr>\n",
              "    <tr>\n",
              "      <th>589563</th>\n",
              "      <td>NaN</td>\n",
              "      <td>NaN</td>\n",
              "      <td>NaN</td>\n",
              "      <td>85.88</td>\n",
              "      <td>NaN</td>\n",
              "      <td>NaN</td>\n",
              "    </tr>\n",
              "    <tr>\n",
              "      <th>589564</th>\n",
              "      <td>NaN</td>\n",
              "      <td>NaN</td>\n",
              "      <td>NaN</td>\n",
              "      <td>97.30</td>\n",
              "      <td>NaN</td>\n",
              "      <td>NaN</td>\n",
              "    </tr>\n",
              "    <tr>\n",
              "      <th>589565</th>\n",
              "      <td>NaN</td>\n",
              "      <td>NaN</td>\n",
              "      <td>NaN</td>\n",
              "      <td>105.02</td>\n",
              "      <td>NaN</td>\n",
              "      <td>NaN</td>\n",
              "    </tr>\n",
              "    <tr>\n",
              "      <th>589566</th>\n",
              "      <td>NaN</td>\n",
              "      <td>NaN</td>\n",
              "      <td>NaN</td>\n",
              "      <td>109.44</td>\n",
              "      <td>NaN</td>\n",
              "      <td>NaN</td>\n",
              "    </tr>\n",
              "    <tr>\n",
              "      <th>589567</th>\n",
              "      <td>NaN</td>\n",
              "      <td>NaN</td>\n",
              "      <td>NaN</td>\n",
              "      <td>111.06</td>\n",
              "      <td>NaN</td>\n",
              "      <td>NaN</td>\n",
              "    </tr>\n",
              "  </tbody>\n",
              "</table>\n",
              "<p>589568 rows × 6 columns</p>\n",
              "</div>"
            ],
            "text/plain": [
              "            ACC1      ACC2      ACC3     BVP       EDA   TEMP\n",
              "0      -0.765625 -0.078125  0.671875    7.28  4.722437  32.13\n",
              "1      -0.765625 -0.078125  0.656250    6.33  4.728843  32.16\n",
              "2      -0.765625 -0.078125  0.671875    5.46  4.718594  32.16\n",
              "3      -0.765625 -0.078125  0.671875    4.60  4.717312  32.16\n",
              "4      -0.750000 -0.078125  0.671875    3.74  4.713469  32.16\n",
              "...          ...       ...       ...     ...       ...    ...\n",
              "589563       NaN       NaN       NaN   85.88       NaN    NaN\n",
              "589564       NaN       NaN       NaN   97.30       NaN    NaN\n",
              "589565       NaN       NaN       NaN  105.02       NaN    NaN\n",
              "589566       NaN       NaN       NaN  109.44       NaN    NaN\n",
              "589567       NaN       NaN       NaN  111.06       NaN    NaN\n",
              "\n",
              "[589568 rows x 6 columns]"
            ]
          },
          "metadata": {
            "tags": []
          },
          "execution_count": 41
        }
      ]
    },
    {
      "cell_type": "code",
      "metadata": {
        "id": "YyFdUKsKXogX",
        "colab_type": "code",
        "outputId": "5c11e042-8a43-4939-bc2b-5414a29949d2",
        "colab": {
          "base_uri": "https://localhost:8080/",
          "height": 294
        }
      },
      "source": [
        "df_wrist.describe()"
      ],
      "execution_count": 42,
      "outputs": [
        {
          "output_type": "execute_result",
          "data": {
            "text/html": [
              "<div>\n",
              "<style scoped>\n",
              "    .dataframe tbody tr th:only-of-type {\n",
              "        vertical-align: middle;\n",
              "    }\n",
              "\n",
              "    .dataframe tbody tr th {\n",
              "        vertical-align: top;\n",
              "    }\n",
              "\n",
              "    .dataframe thead th {\n",
              "        text-align: right;\n",
              "    }\n",
              "</style>\n",
              "<table border=\"1\" class=\"dataframe\">\n",
              "  <thead>\n",
              "    <tr style=\"text-align: right;\">\n",
              "      <th></th>\n",
              "      <th>ACC1</th>\n",
              "      <th>ACC2</th>\n",
              "      <th>ACC3</th>\n",
              "      <th>BVP</th>\n",
              "      <th>EDA</th>\n",
              "      <th>TEMP</th>\n",
              "    </tr>\n",
              "  </thead>\n",
              "  <tbody>\n",
              "    <tr>\n",
              "      <th>count</th>\n",
              "      <td>294784.000000</td>\n",
              "      <td>294784.000000</td>\n",
              "      <td>294784.000000</td>\n",
              "      <td>589568.000000</td>\n",
              "      <td>36848.000000</td>\n",
              "      <td>36848.000000</td>\n",
              "    </tr>\n",
              "    <tr>\n",
              "      <th>mean</th>\n",
              "      <td>-0.493490</td>\n",
              "      <td>0.093974</td>\n",
              "      <td>0.551643</td>\n",
              "      <td>-0.002307</td>\n",
              "      <td>5.455912</td>\n",
              "      <td>32.660227</td>\n",
              "    </tr>\n",
              "    <tr>\n",
              "      <th>std</th>\n",
              "      <td>0.289070</td>\n",
              "      <td>0.598363</td>\n",
              "      <td>0.370386</td>\n",
              "      <td>97.138686</td>\n",
              "      <td>2.941916</td>\n",
              "      <td>1.531514</td>\n",
              "    </tr>\n",
              "    <tr>\n",
              "      <th>min</th>\n",
              "      <td>-2.000000</td>\n",
              "      <td>-2.000000</td>\n",
              "      <td>-2.000000</td>\n",
              "      <td>-1647.390000</td>\n",
              "      <td>2.217421</td>\n",
              "      <td>29.090000</td>\n",
              "    </tr>\n",
              "    <tr>\n",
              "      <th>25%</th>\n",
              "      <td>-0.671875</td>\n",
              "      <td>-0.343750</td>\n",
              "      <td>0.281250</td>\n",
              "      <td>-45.440000</td>\n",
              "      <td>3.466819</td>\n",
              "      <td>31.370000</td>\n",
              "    </tr>\n",
              "    <tr>\n",
              "      <th>50%</th>\n",
              "      <td>-0.468750</td>\n",
              "      <td>-0.046875</td>\n",
              "      <td>0.640625</td>\n",
              "      <td>5.020000</td>\n",
              "      <td>4.735500</td>\n",
              "      <td>32.910000</td>\n",
              "    </tr>\n",
              "    <tr>\n",
              "      <th>75%</th>\n",
              "      <td>-0.328125</td>\n",
              "      <td>0.578125</td>\n",
              "      <td>0.875000</td>\n",
              "      <td>45.280000</td>\n",
              "      <td>6.172111</td>\n",
              "      <td>34.150000</td>\n",
              "    </tr>\n",
              "    <tr>\n",
              "      <th>max</th>\n",
              "      <td>1.984375</td>\n",
              "      <td>1.984375</td>\n",
              "      <td>1.984375</td>\n",
              "      <td>1557.580000</td>\n",
              "      <td>17.872803</td>\n",
              "      <td>34.610000</td>\n",
              "    </tr>\n",
              "  </tbody>\n",
              "</table>\n",
              "</div>"
            ],
            "text/plain": [
              "                ACC1           ACC2  ...           EDA          TEMP\n",
              "count  294784.000000  294784.000000  ...  36848.000000  36848.000000\n",
              "mean       -0.493490       0.093974  ...      5.455912     32.660227\n",
              "std         0.289070       0.598363  ...      2.941916      1.531514\n",
              "min        -2.000000      -2.000000  ...      2.217421     29.090000\n",
              "25%        -0.671875      -0.343750  ...      3.466819     31.370000\n",
              "50%        -0.468750      -0.046875  ...      4.735500     32.910000\n",
              "75%        -0.328125       0.578125  ...      6.172111     34.150000\n",
              "max         1.984375       1.984375  ...     17.872803     34.610000\n",
              "\n",
              "[8 rows x 6 columns]"
            ]
          },
          "metadata": {
            "tags": []
          },
          "execution_count": 42
        }
      ]
    },
    {
      "cell_type": "markdown",
      "metadata": {
        "id": "xpvxIHiUKTx1",
        "colab_type": "text"
      },
      "source": [
        "Nous n'avons pas d'observations identique pour une colonne précise par rapport à df_chest"
      ]
    },
    {
      "cell_type": "code",
      "metadata": {
        "id": "z8AIg-0oKl6k",
        "colab_type": "code",
        "outputId": "e33f8e0b-6388-4718-881e-607b5dfc8730",
        "colab": {
          "base_uri": "https://localhost:8080/",
          "height": 225
        }
      },
      "source": [
        "freq = {\"ACC1\" : 32,\"ACC2\" : 32,\"ACC3\" : 32,\"BVP\": 64,\"EDA\":4,\"TEMP\": 4}\n",
        "for column in df_wrist:\n",
        "  print(column,\" : \",len(df_wrist[column].dropna()))\n",
        "  print(column,' divisé par les HZ',' : ',len(df_wrist[column].dropna())/freq[column])"
      ],
      "execution_count": 43,
      "outputs": [
        {
          "output_type": "stream",
          "text": [
            "ACC1  :  294784\n",
            "ACC1  divisé par les HZ  :  9212.0\n",
            "ACC2  :  294784\n",
            "ACC2  divisé par les HZ  :  9212.0\n",
            "ACC3  :  294784\n",
            "ACC3  divisé par les HZ  :  9212.0\n",
            "BVP  :  589568\n",
            "BVP  divisé par les HZ  :  9212.0\n",
            "EDA  :  36848\n",
            "EDA  divisé par les HZ  :  9212.0\n",
            "TEMP  :  36848\n",
            "TEMP  divisé par les HZ  :  9212.0\n"
          ],
          "name": "stdout"
        }
      ]
    },
    {
      "cell_type": "markdown",
      "metadata": {
        "id": "gIoxzpbTLFOg",
        "colab_type": "text"
      },
      "source": [
        "- EDA et TEMP ont la même taille qu'Activité\n",
        "- ACC est le temps chaque seconde\n",
        "- BVP = 2 fois ACC\n",
        "\n",
        "\n",
        "Aide du readme : \n",
        "ACC.csv: sampled at 32 Hz. The 3 data columns refer to the 3 accelerometer channels. Data is provided in units of 1/64g.\n",
        "- BVP.csv: sampled at 64 Hz. Data from photoplethysmograph (PPG).\n",
        "- EDA.csv: sampled at 4 Hz. Data is provided in μS.\n",
        "- TEMP.csv: sampled at 4 Hz. Data is provided in °C.\n",
        "\n",
        "Il faut donc mettre la data sample avec les mêmes Hz"
      ]
    },
    {
      "cell_type": "code",
      "metadata": {
        "id": "TcpxCGqQYzbM",
        "colab_type": "code",
        "colab": {}
      },
      "source": [
        "#Cette fonction permet de plot des electrogrammes en matchant avec les activités\n",
        "def plot_activite_elec(data,name_column,AGRAND_Y):\n",
        "    import matplotlib.pyplot as plt\n",
        "    AGRAND_X = len(data[name_column].dropna())/len(activity['activity'])\n",
        "    print(\"Rapport : \",AGRAND_X)\n",
        "    plt.plot(data[name_column].index, data[name_column])\n",
        "    \n",
        "    plt.plot(activity.index*AGRAND_X,activity['activity']*AGRAND_Y)\n",
        "    plt.show()"
      ],
      "execution_count": 0,
      "outputs": []
    },
    {
      "cell_type": "code",
      "metadata": {
        "id": "LdgpwLmgZ6Tz",
        "colab_type": "code",
        "outputId": "4e5f12ec-8c3a-4714-b82a-f8f1569d9f03",
        "colab": {
          "base_uri": "https://localhost:8080/",
          "height": 282
        }
      },
      "source": [
        "plot_activite_elec(df_wrist,'BVP',70)"
      ],
      "execution_count": 45,
      "outputs": [
        {
          "output_type": "stream",
          "text": [
            "Rapport :  16.0\n"
          ],
          "name": "stdout"
        },
        {
          "output_type": "display_data",
          "data": {
            "image/png": "[encoded data removed]",
            "text/plain": [
              "<Figure size 432x288 with 1 Axes>"
            ]
          },
          "metadata": {
            "tags": []
          }
        }
      ]
    },
    {
      "cell_type": "code",
      "metadata": {
        "id": "vam5s3XocLzy",
        "colab_type": "code",
        "outputId": "afa13ce4-2786-4703-dfc0-5c745958d501",
        "colab": {
          "base_uri": "https://localhost:8080/",
          "height": 282
        }
      },
      "source": [
        "plot_activite_elec(df_wrist,'EDA',5)"
      ],
      "execution_count": 46,
      "outputs": [
        {
          "output_type": "stream",
          "text": [
            "Rapport :  1.0\n"
          ],
          "name": "stdout"
        },
        {
          "output_type": "display_data",
          "data": {
            "image/png": "[encoded data removed]",
            "text/plain": [
              "<Figure size 432x288 with 1 Axes>"
            ]
          },
          "metadata": {
            "tags": []
          }
        }
      ]
    },
    {
      "cell_type": "code",
      "metadata": {
        "id": "DVpqhbuLeKO0",
        "colab_type": "code",
        "outputId": "e53b270b-0b76-47be-8922-b784e1027e46",
        "colab": {
          "base_uri": "https://localhost:8080/",
          "height": 282
        }
      },
      "source": [
        "plot_activite_elec(df_wrist,'TEMP',10)"
      ],
      "execution_count": 47,
      "outputs": [
        {
          "output_type": "stream",
          "text": [
            "Rapport :  1.0\n"
          ],
          "name": "stdout"
        },
        {
          "output_type": "display_data",
          "data": {
            "image/png": "[encoded data removed]",
            "text/plain": [
              "<Figure size 432x288 with 1 Axes>"
            ]
          },
          "metadata": {
            "tags": []
          }
        }
      ]
    },
    {
      "cell_type": "code",
      "metadata": {
        "id": "7H8RwmJnh3BT",
        "colab_type": "code",
        "outputId": "6ce0dc72-2229-4788-93d8-67a4bfa038b5",
        "colab": {
          "base_uri": "https://localhost:8080/",
          "height": 173
        }
      },
      "source": [
        "#Pour mieux visualiser\n",
        "df_wrist['TEMP'].describe()\n",
        "\n",
        "#La température moyenne est de 32 degrés"
      ],
      "execution_count": 48,
      "outputs": [
        {
          "output_type": "execute_result",
          "data": {
            "text/plain": [
              "count    36848.000000\n",
              "mean        32.660227\n",
              "std          1.531514\n",
              "min         29.090000\n",
              "25%         31.370000\n",
              "50%         32.910000\n",
              "75%         34.150000\n",
              "max         34.610000\n",
              "Name: TEMP, dtype: float64"
            ]
          },
          "metadata": {
            "tags": []
          },
          "execution_count": 48
        }
      ]
    },
    {
      "cell_type": "markdown",
      "metadata": {
        "id": "bFBlpNlHKMiO",
        "colab_type": "text"
      },
      "source": [
        "#Analyse groupée : "
      ]
    },
    {
      "cell_type": "code",
      "metadata": {
        "id": "iPdAcY5luTpO",
        "colab_type": "code",
        "outputId": "2d26c13d-b458-4bec-a280-6e3c3cd28f0d",
        "colab": {
          "base_uri": "https://localhost:8080/",
          "height": 282
        }
      },
      "source": [
        "#Une autre analyse\n",
        "plot_activite_elec(df_wrist,'BVP',70)"
      ],
      "execution_count": 49,
      "outputs": [
        {
          "output_type": "stream",
          "text": [
            "Rapport :  16.0\n"
          ],
          "name": "stdout"
        },
        {
          "output_type": "display_data",
          "data": {
            "image/png": "[encoded data removed]",
            "text/plain": [
              "<Figure size 432x288 with 1 Axes>"
            ]
          },
          "metadata": {
            "tags": []
          }
        }
      ]
    },
    {
      "cell_type": "markdown",
      "metadata": {
        "id": "2qNr5Vccjfhw",
        "colab_type": "text"
      },
      "source": [
        "##Analyse des individus :"
      ]
    },
    {
      "cell_type": "code",
      "metadata": {
        "id": "-NlJC4Y89poD",
        "colab_type": "code",
        "outputId": "a18cbbc0-986d-42c8-989a-8618257197c9",
        "colab": {
          "base_uri": "https://localhost:8080/",
          "height": 277
        }
      },
      "source": [
        "#fusion des datas sur les individus\n",
        "questionnaire = pd.DataFrame()\n",
        "for i in range(1,16):\n",
        "  chemin = \"./PPG_FieldStudy/S\"+str(i)+\"/S\"+str(i)+\".pkl\"\n",
        "  print(chemin)\n",
        "  df = pd.read_pickle(chemin)\n",
        "  questionnaire = questionnaire.append(pd.DataFrame(data=[df['questionnaire']]))"
      ],
      "execution_count": 50,
      "outputs": [
        {
          "output_type": "stream",
          "text": [
            "./PPG_FieldStudy/S1/S1.pkl\n",
            "./PPG_FieldStudy/S2/S2.pkl\n",
            "./PPG_FieldStudy/S3/S3.pkl\n",
            "./PPG_FieldStudy/S4/S4.pkl\n",
            "./PPG_FieldStudy/S5/S5.pkl\n",
            "./PPG_FieldStudy/S6/S6.pkl\n",
            "./PPG_FieldStudy/S7/S7.pkl\n",
            "./PPG_FieldStudy/S8/S8.pkl\n",
            "./PPG_FieldStudy/S9/S9.pkl\n",
            "./PPG_FieldStudy/S10/S10.pkl\n",
            "./PPG_FieldStudy/S11/S11.pkl\n",
            "./PPG_FieldStudy/S12/S12.pkl\n",
            "./PPG_FieldStudy/S13/S13.pkl\n",
            "./PPG_FieldStudy/S14/S14.pkl\n",
            "./PPG_FieldStudy/S15/S15.pkl\n"
          ],
          "name": "stdout"
        }
      ]
    },
    {
      "cell_type": "code",
      "metadata": {
        "id": "sEU1VeLL9MuE",
        "colab_type": "code",
        "outputId": "e54a5ba2-1404-46d3-ff77-c5548e492d6b",
        "colab": {
          "base_uri": "https://localhost:8080/",
          "height": 509
        }
      },
      "source": [
        "questionnaire.reset_index(drop = True, inplace = True)\n",
        "questionnaire"
      ],
      "execution_count": 51,
      "outputs": [
        {
          "output_type": "execute_result",
          "data": {
            "text/html": [
              "<div>\n",
              "<style scoped>\n",
              "    .dataframe tbody tr th:only-of-type {\n",
              "        vertical-align: middle;\n",
              "    }\n",
              "\n",
              "    .dataframe tbody tr th {\n",
              "        vertical-align: top;\n",
              "    }\n",
              "\n",
              "    .dataframe thead th {\n",
              "        text-align: right;\n",
              "    }\n",
              "</style>\n",
              "<table border=\"1\" class=\"dataframe\">\n",
              "  <thead>\n",
              "    <tr style=\"text-align: right;\">\n",
              "      <th></th>\n",
              "      <th>WEIGHT</th>\n",
              "      <th>Gender</th>\n",
              "      <th>AGE</th>\n",
              "      <th>HEIGHT</th>\n",
              "      <th>SKIN</th>\n",
              "      <th>SPORT</th>\n",
              "    </tr>\n",
              "  </thead>\n",
              "  <tbody>\n",
              "    <tr>\n",
              "      <th>0</th>\n",
              "      <td>78.0</td>\n",
              "      <td>m</td>\n",
              "      <td>34</td>\n",
              "      <td>182.0</td>\n",
              "      <td>3</td>\n",
              "      <td>6</td>\n",
              "    </tr>\n",
              "    <tr>\n",
              "      <th>1</th>\n",
              "      <td>80.0</td>\n",
              "      <td>m</td>\n",
              "      <td>28</td>\n",
              "      <td>189.0</td>\n",
              "      <td>3</td>\n",
              "      <td>5</td>\n",
              "    </tr>\n",
              "    <tr>\n",
              "      <th>2</th>\n",
              "      <td>60.0</td>\n",
              "      <td>m</td>\n",
              "      <td>25</td>\n",
              "      <td>170.0</td>\n",
              "      <td>3</td>\n",
              "      <td>5</td>\n",
              "    </tr>\n",
              "    <tr>\n",
              "      <th>3</th>\n",
              "      <td>57.0</td>\n",
              "      <td>m</td>\n",
              "      <td>25</td>\n",
              "      <td>168.0</td>\n",
              "      <td>4</td>\n",
              "      <td>5</td>\n",
              "    </tr>\n",
              "    <tr>\n",
              "      <th>4</th>\n",
              "      <td>70.0</td>\n",
              "      <td>f</td>\n",
              "      <td>21</td>\n",
              "      <td>180.0</td>\n",
              "      <td>3</td>\n",
              "      <td>4</td>\n",
              "    </tr>\n",
              "    <tr>\n",
              "      <th>5</th>\n",
              "      <td>70.0</td>\n",
              "      <td>f</td>\n",
              "      <td>37</td>\n",
              "      <td>176.0</td>\n",
              "      <td>3</td>\n",
              "      <td>1</td>\n",
              "    </tr>\n",
              "    <tr>\n",
              "      <th>6</th>\n",
              "      <td>58.0</td>\n",
              "      <td>f</td>\n",
              "      <td>21</td>\n",
              "      <td>168.0</td>\n",
              "      <td>3</td>\n",
              "      <td>2</td>\n",
              "    </tr>\n",
              "    <tr>\n",
              "      <th>7</th>\n",
              "      <td>70.0</td>\n",
              "      <td>m</td>\n",
              "      <td>43</td>\n",
              "      <td>179.0</td>\n",
              "      <td>3</td>\n",
              "      <td>5</td>\n",
              "    </tr>\n",
              "    <tr>\n",
              "      <th>8</th>\n",
              "      <td>60.0</td>\n",
              "      <td>f</td>\n",
              "      <td>28</td>\n",
              "      <td>167.0</td>\n",
              "      <td>4</td>\n",
              "      <td>5</td>\n",
              "    </tr>\n",
              "    <tr>\n",
              "      <th>9</th>\n",
              "      <td>56.0</td>\n",
              "      <td>f</td>\n",
              "      <td>55</td>\n",
              "      <td>164.0</td>\n",
              "      <td>4</td>\n",
              "      <td>5</td>\n",
              "    </tr>\n",
              "    <tr>\n",
              "      <th>10</th>\n",
              "      <td>62.0</td>\n",
              "      <td>f</td>\n",
              "      <td>24</td>\n",
              "      <td>168.0</td>\n",
              "      <td>3</td>\n",
              "      <td>5</td>\n",
              "    </tr>\n",
              "    <tr>\n",
              "      <th>11</th>\n",
              "      <td>105.0</td>\n",
              "      <td>m</td>\n",
              "      <td>43</td>\n",
              "      <td>195.0</td>\n",
              "      <td>3</td>\n",
              "      <td>5</td>\n",
              "    </tr>\n",
              "    <tr>\n",
              "      <th>12</th>\n",
              "      <td>63.0</td>\n",
              "      <td>f</td>\n",
              "      <td>21</td>\n",
              "      <td>170.0</td>\n",
              "      <td>3</td>\n",
              "      <td>6</td>\n",
              "    </tr>\n",
              "    <tr>\n",
              "      <th>13</th>\n",
              "      <td>67.0</td>\n",
              "      <td>f</td>\n",
              "      <td>26</td>\n",
              "      <td>170.0</td>\n",
              "      <td>3</td>\n",
              "      <td>4</td>\n",
              "    </tr>\n",
              "    <tr>\n",
              "      <th>14</th>\n",
              "      <td>79.0</td>\n",
              "      <td>m</td>\n",
              "      <td>28</td>\n",
              "      <td>183.0</td>\n",
              "      <td>2</td>\n",
              "      <td>5</td>\n",
              "    </tr>\n",
              "  </tbody>\n",
              "</table>\n",
              "</div>"
            ],
            "text/plain": [
              "    WEIGHT Gender  AGE  HEIGHT  SKIN  SPORT\n",
              "0     78.0      m   34   182.0     3      6\n",
              "1     80.0      m   28   189.0     3      5\n",
              "2     60.0      m   25   170.0     3      5\n",
              "3     57.0      m   25   168.0     4      5\n",
              "4     70.0      f   21   180.0     3      4\n",
              "5     70.0      f   37   176.0     3      1\n",
              "6     58.0      f   21   168.0     3      2\n",
              "7     70.0      m   43   179.0     3      5\n",
              "8     60.0      f   28   167.0     4      5\n",
              "9     56.0      f   55   164.0     4      5\n",
              "10    62.0      f   24   168.0     3      5\n",
              "11   105.0      m   43   195.0     3      5\n",
              "12    63.0      f   21   170.0     3      6\n",
              "13    67.0      f   26   170.0     3      4\n",
              "14    79.0      m   28   183.0     2      5"
            ]
          },
          "metadata": {
            "tags": []
          },
          "execution_count": 51
        }
      ]
    },
    {
      "cell_type": "code",
      "metadata": {
        "id": "SV3xxdrHjrkJ",
        "colab_type": "code",
        "outputId": "15010d6c-f676-4273-df98-86ef9f989b82",
        "colab": {
          "base_uri": "https://localhost:8080/",
          "height": 294
        }
      },
      "source": [
        "#Pour les valeurs numériques\n",
        "questionnaire.describe()"
      ],
      "execution_count": 52,
      "outputs": [
        {
          "output_type": "execute_result",
          "data": {
            "text/html": [
              "<div>\n",
              "<style scoped>\n",
              "    .dataframe tbody tr th:only-of-type {\n",
              "        vertical-align: middle;\n",
              "    }\n",
              "\n",
              "    .dataframe tbody tr th {\n",
              "        vertical-align: top;\n",
              "    }\n",
              "\n",
              "    .dataframe thead th {\n",
              "        text-align: right;\n",
              "    }\n",
              "</style>\n",
              "<table border=\"1\" class=\"dataframe\">\n",
              "  <thead>\n",
              "    <tr style=\"text-align: right;\">\n",
              "      <th></th>\n",
              "      <th>WEIGHT</th>\n",
              "      <th>AGE</th>\n",
              "      <th>HEIGHT</th>\n",
              "      <th>SKIN</th>\n",
              "      <th>SPORT</th>\n",
              "    </tr>\n",
              "  </thead>\n",
              "  <tbody>\n",
              "    <tr>\n",
              "      <th>count</th>\n",
              "      <td>15.00000</td>\n",
              "      <td>15.000000</td>\n",
              "      <td>15.000000</td>\n",
              "      <td>15.000000</td>\n",
              "      <td>15.000000</td>\n",
              "    </tr>\n",
              "    <tr>\n",
              "      <th>mean</th>\n",
              "      <td>69.00000</td>\n",
              "      <td>30.600000</td>\n",
              "      <td>175.266667</td>\n",
              "      <td>3.133333</td>\n",
              "      <td>4.533333</td>\n",
              "    </tr>\n",
              "    <tr>\n",
              "      <th>std</th>\n",
              "      <td>12.77833</td>\n",
              "      <td>9.926875</td>\n",
              "      <td>9.090550</td>\n",
              "      <td>0.516398</td>\n",
              "      <td>1.355764</td>\n",
              "    </tr>\n",
              "    <tr>\n",
              "      <th>min</th>\n",
              "      <td>56.00000</td>\n",
              "      <td>21.000000</td>\n",
              "      <td>164.000000</td>\n",
              "      <td>2.000000</td>\n",
              "      <td>1.000000</td>\n",
              "    </tr>\n",
              "    <tr>\n",
              "      <th>25%</th>\n",
              "      <td>60.00000</td>\n",
              "      <td>24.500000</td>\n",
              "      <td>168.000000</td>\n",
              "      <td>3.000000</td>\n",
              "      <td>4.500000</td>\n",
              "    </tr>\n",
              "    <tr>\n",
              "      <th>50%</th>\n",
              "      <td>67.00000</td>\n",
              "      <td>28.000000</td>\n",
              "      <td>170.000000</td>\n",
              "      <td>3.000000</td>\n",
              "      <td>5.000000</td>\n",
              "    </tr>\n",
              "    <tr>\n",
              "      <th>75%</th>\n",
              "      <td>74.00000</td>\n",
              "      <td>35.500000</td>\n",
              "      <td>181.000000</td>\n",
              "      <td>3.000000</td>\n",
              "      <td>5.000000</td>\n",
              "    </tr>\n",
              "    <tr>\n",
              "      <th>max</th>\n",
              "      <td>105.00000</td>\n",
              "      <td>55.000000</td>\n",
              "      <td>195.000000</td>\n",
              "      <td>4.000000</td>\n",
              "      <td>6.000000</td>\n",
              "    </tr>\n",
              "  </tbody>\n",
              "</table>\n",
              "</div>"
            ],
            "text/plain": [
              "          WEIGHT        AGE      HEIGHT       SKIN      SPORT\n",
              "count   15.00000  15.000000   15.000000  15.000000  15.000000\n",
              "mean    69.00000  30.600000  175.266667   3.133333   4.533333\n",
              "std     12.77833   9.926875    9.090550   0.516398   1.355764\n",
              "min     56.00000  21.000000  164.000000   2.000000   1.000000\n",
              "25%     60.00000  24.500000  168.000000   3.000000   4.500000\n",
              "50%     67.00000  28.000000  170.000000   3.000000   5.000000\n",
              "75%     74.00000  35.500000  181.000000   3.000000   5.000000\n",
              "max    105.00000  55.000000  195.000000   4.000000   6.000000"
            ]
          },
          "metadata": {
            "tags": []
          },
          "execution_count": 52
        }
      ]
    },
    {
      "cell_type": "markdown",
      "metadata": {
        "id": "6ITlfP3Pm3xt",
        "colab_type": "text"
      },
      "source": [
        "L'âge minimum est 21 ans et l'âge maximum est 55 ans."
      ]
    },
    {
      "cell_type": "code",
      "metadata": {
        "id": "CRs2SgIcj-3H",
        "colab_type": "code",
        "outputId": "1364c4c7-b7e4-4f7d-9ce3-f2d86e2ba239",
        "colab": {
          "base_uri": "https://localhost:8080/",
          "height": 298
        }
      },
      "source": [
        "questionnaire['Gender'].value_counts().plot(kind='barh',title='Genre des individus')\n",
        "#Presque autant d'hommes que de femmes"
      ],
      "execution_count": 53,
      "outputs": [
        {
          "output_type": "execute_result",
          "data": {
            "text/plain": [
              "<matplotlib.axes._subplots.AxesSubplot at 0x7ff3e496d550>"
            ]
          },
          "metadata": {
            "tags": []
          },
          "execution_count": 53
        },
        {
          "output_type": "display_data",
          "data": {
            "image/png": "[encoded data removed]",
            "text/plain": [
              "<Figure size 432x288 with 1 Axes>"
            ]
          },
          "metadata": {
            "tags": []
          }
        }
      ]
    },
    {
      "cell_type": "code",
      "metadata": {
        "id": "SlwRRtuFk2OX",
        "colab_type": "code",
        "outputId": "c53bd2c8-a3e5-4823-c552-ad50f4bbf330",
        "colab": {
          "base_uri": "https://localhost:8080/",
          "height": 298
        }
      },
      "source": [
        "questionnaire['SPORT'].value_counts().plot(kind='barh',title=\"Les niveaux de sportivité\",color=\"pink\")\n",
        "#Sport représente le niveau sportif, Nous avons beaucoup de sportifs (Catégorie 6 et 5) que des non sportifs"
      ],
      "execution_count": 54,
      "outputs": [
        {
          "output_type": "execute_result",
          "data": {
            "text/plain": [
              "<matplotlib.axes._subplots.AxesSubplot at 0x7ff3a37a1198>"
            ]
          },
          "metadata": {
            "tags": []
          },
          "execution_count": 54
        },
        {
          "output_type": "display_data",
          "data": {
            "image/png": "[encoded data removed]",
            "text/plain": [
              "<Figure size 432x288 with 1 Axes>"
            ]
          },
          "metadata": {
            "tags": []
          }
        }
      ]
    },
    {
      "cell_type": "code",
      "metadata": {
        "colab_type": "code",
        "outputId": "37923e76-04f1-443a-8752-09ef025d31bb",
        "id": "cH_j096EIM1D",
        "colab": {
          "base_uri": "https://localhost:8080/",
          "height": 298
        }
      },
      "source": [
        "questionnaire['SKIN'].value_counts().plot(kind='barh',title=\"Répartition des couleurs de visage\",color=\"red\")\n",
        "#Sport représente le niveau sportif, Nous avons beaucoup de sportifs (Catégorie 6 et 5) que des non sportifs"
      ],
      "execution_count": 55,
      "outputs": [
        {
          "output_type": "execute_result",
          "data": {
            "text/plain": [
              "<matplotlib.axes._subplots.AxesSubplot at 0x7ff3a3767358>"
            ]
          },
          "metadata": {
            "tags": []
          },
          "execution_count": 55
        },
        {
          "output_type": "display_data",
          "data": {
            "image/png": "[encoded data removed]",
            "text/plain": [
              "<Figure size 432x288 with 1 Axes>"
            ]
          },
          "metadata": {
            "tags": []
          }
        }
      ]
    },
    {
      "cell_type": "markdown",
      "metadata": {
        "id": "peavZUvedu9P",
        "colab_type": "text"
      },
      "source": [
        "‘activity’: includes the activity labels, providing IDs 0…8 (see activity list in Section II). These\n",
        "activity labels are based on the file SX_activity.csv. However, in order to make further\n",
        "processing of the dataset more convenient, an activity-signal with 4 Hz sampling rate (which\n",
        "is the lowest sampling rate across all recorded raw sensor data) was created.\n",
        "- ‘label’: includes the ground truth heart rate information. As described above, this is provided\n",
        "as the mean of the ECG-based instantaneous heart rate, given on a sliding window of 8\n",
        "seconds, shifted with 2 seconds.\n",
        "- ‘questionnaire’: includes information about the subject, extracted from SX_quest.csv. Details\n",
        "were given above, in Section I.4.\n",
        "- ‘rpeaks’: the index of the identified and corrected R-peaks, referring to the ECG-signal. As\n",
        "described above, the identified R-peaks provide the basis of the heart rate ground truth.\n",
        "- ‘signal’: includes all the synchronised raw data, in two fields:\n",
        "o ‘chest’: RespiBAN data (all the modalities: ACC, ECG, EDA, EMG, RESP, TEMP). As\n",
        "mentioned above, the modalities ‘EDA’, ‘EMG’ and ‘Temp’ only include dummy data\n",
        "and should thus be ignored.\n",
        "o ‘wrist’: Empatica E4 data (all the modalities: ACC, BVP, EDA, TEMP)\n",
        "- ‘subject’: the current subject’s ID\n"
      ]
    },
    {
      "cell_type": "markdown",
      "metadata": {
        "id": "KyqRaIhqLdKu",
        "colab_type": "text"
      },
      "source": [
        "## Création de la dataset avec tous les individus\n",
        "\n",
        "La dataset data contient :\n",
        "- df['questionnaire']\n",
        "- df['label']\n",
        "- df ['activity']\n",
        "- df['signal']"
      ]
    },
    {
      "cell_type": "code",
      "metadata": {
        "id": "GOeGkLTkXqeI",
        "colab_type": "code",
        "colab": {}
      },
      "source": [
        "#Divisé en deux : Chest et wrist \n",
        "def transform_dfchest(df):\n",
        "  df_chest = pd.DataFrame() \n",
        "  for i in df.get('signal').get('chest').keys(): \n",
        "    column = df.get('signal').get('chest').get(i) \n",
        "    df_chest[i] = column.tolist()\n",
        "\n",
        "  for i in df_chest.keys():\n",
        "    if (i == 'ACC'):\n",
        "      acc1 = df_chest[i].apply(lambda x: x[0])\n",
        "      acc2 = df_chest[i].apply(lambda x: x[1])\n",
        "      acc3 = df_chest[i].apply(lambda x: x[2])\n",
        "      df_chest['ACC1'] = acc1\n",
        "      df_chest['ACC2'] = acc2\n",
        "      df_chest['ACC3'] = acc3\n",
        "    else:\n",
        "      new_data = df_chest[i].apply(lambda x: x[0])\n",
        "      df_chest[i]=new_data\n",
        "  df_chest = df_chest.drop('ACC',axis=1)\n",
        "  return df_chest"
      ],
      "execution_count": 0,
      "outputs": []
    },
    {
      "cell_type": "code",
      "metadata": {
        "id": "5XRJtPyaaEcx",
        "colab_type": "code",
        "colab": {}
      },
      "source": [
        "def transform_dfwrist(df):\n",
        "  df_wrist = pd.DataFrame()\n",
        "  for i in df.get('signal').get('wrist').keys():\n",
        "    column = df.get('signal').get('wrist').get(i)\n",
        "    if(i == 'ACC'):\n",
        "      name_column = ['ACC1','ACC2','ACC3']\n",
        "    else:\n",
        "      name_column = [i]\n",
        "    column = pd.DataFrame(column, columns=name_column)\n",
        "    if(i=='BVP'):\n",
        "      column =  column[np.mod(np.arange(column.index.size),2)==0]\n",
        "    if (i=='EDA' or i =='TEMP'):\n",
        "      column = column\n",
        "    else:\n",
        "      column =  column[np.mod(np.arange(column.index.size),8)==0]\n",
        "  \n",
        "    column.reset_index(drop=True, inplace=True)\n",
        "\n",
        "    df_wrist = pd.concat((df_wrist,column), axis=1)\n",
        "    #W pour wrist\n",
        "  df_wrist.columns = ['wACC1', 'wACC2', 'wACC3', 'wBVP', 'wEDA', 'wTEMP']\n",
        "  return df_wrist"
      ],
      "execution_count": 0,
      "outputs": []
    },
    {
      "cell_type": "code",
      "metadata": {
        "id": "znfcTPLbYLW9",
        "colab_type": "code",
        "outputId": "406c0620-16ec-4f64-cce8-8a634e900968",
        "colab": {
          "base_uri": "https://localhost:8080/",
          "height": 138
        }
      },
      "source": [
        "transform_dfwrist(df).isna().sum()"
      ],
      "execution_count": 58,
      "outputs": [
        {
          "output_type": "execute_result",
          "data": {
            "text/plain": [
              "wACC1    0\n",
              "wACC2    0\n",
              "wACC3    0\n",
              "wBVP     0\n",
              "wEDA     0\n",
              "wTEMP    0\n",
              "dtype: int64"
            ]
          },
          "metadata": {
            "tags": []
          },
          "execution_count": 58
        }
      ]
    },
    {
      "cell_type": "code",
      "metadata": {
        "id": "eFZOkwnlrSiS",
        "colab_type": "code",
        "outputId": "7bbe61f0-4c90-4899-ee0a-8bdd213fac7c",
        "colab": {
          "base_uri": "https://localhost:8080/",
          "height": 34
        }
      },
      "source": [
        "df_wrist.columns"
      ],
      "execution_count": 59,
      "outputs": [
        {
          "output_type": "execute_result",
          "data": {
            "text/plain": [
              "Index(['ACC1', 'ACC2', 'ACC3', 'BVP', 'EDA', 'TEMP'], dtype='object')"
            ]
          },
          "metadata": {
            "tags": []
          },
          "execution_count": 59
        }
      ]
    },
    {
      "cell_type": "code",
      "metadata": {
        "id": "SbIk1UfeOIzi",
        "colab_type": "code",
        "outputId": "8bf92fd1-b8f3-4f4e-e3aa-ff9260add1fe",
        "colab": {
          "base_uri": "https://localhost:8080/",
          "height": 277
        }
      },
      "source": [
        "#df_activity = pd.DataFrame(columns = ['activity','Gender'])\n",
        "activity = pd.DataFrame(df['activity'],columns=['activity'])\n",
        "datafinal = pd.DataFrame()\n",
        "for i in range(1,16):\n",
        "  chemin = \"./PPG_FieldStudy/S\"+str(i)+\"/S\"+str(i)+\".pkl\"\n",
        "  print(chemin)\n",
        "  df = pd.read_pickle(chemin)\n",
        "\n",
        "  #Heart Rate\n",
        "  df_label = pd.DataFrame()\n",
        "  for ligne in df['label']:\n",
        "    df_label = df_label.append([ligne]*8)\n",
        "  df_label.columns = ['label']\n",
        "\n",
        "\n",
        "  #Numéro du sujet\n",
        "  df_subject = pd.DataFrame()\n",
        "\n",
        "  #Caractéristique du sujet\n",
        "\n",
        "  d = pd.DataFrame([df['questionnaire']])\n",
        "  df_subject = pd.DataFrame([df['subject']])\n",
        "\n",
        "  quest = pd.concat([d]*len(df['activity']),ignore_index=True)\n",
        "  df_label.reset_index(drop=True, inplace=True)\n",
        "\n",
        "\n",
        "    #Ajout de df[chest]\n",
        "  df_chest = transform_dfchest(df)\n",
        "  df_chest_2 = pd.DataFrame()\n",
        "  df_chest_2 = df_chest[np.mod(np.arange(df_chest.index.size),175)==0]\n",
        "\n",
        "  #da = datafinal.copy()\n",
        "  #da.reset_index(drop=True, inplace=True)\n",
        "  df_chest_2.reset_index(drop=True, inplace=True)\n",
        "\n",
        "  #Fusion de Ajout de df['signal']\n",
        "\n",
        "  wrist = transform_dfwrist(df)\n",
        "  wrist.reset_index(drop=True, inplace=True)\n",
        "\n",
        "  #Fusion des datasets avec df['activity']\n",
        "  datasubject = pd.concat([quest,pd.DataFrame(df['activity'],columns=['Activity']),df_label,df_chest_2,wrist],axis=1)\n",
        "\n",
        "\n",
        "  datasubject.reset_index(drop=True, inplace=True)\n",
        "\n",
        "  #Ajout du sujet dans le dataset final\n",
        "\n",
        "  datafinal =pd.concat([datafinal,datasubject],axis = 0)\n"
      ],
      "execution_count": 60,
      "outputs": [
        {
          "output_type": "stream",
          "text": [
            "./PPG_FieldStudy/S1/S1.pkl\n",
            "./PPG_FieldStudy/S2/S2.pkl\n",
            "./PPG_FieldStudy/S3/S3.pkl\n",
            "./PPG_FieldStudy/S4/S4.pkl\n",
            "./PPG_FieldStudy/S5/S5.pkl\n",
            "./PPG_FieldStudy/S6/S6.pkl\n",
            "./PPG_FieldStudy/S7/S7.pkl\n",
            "./PPG_FieldStudy/S8/S8.pkl\n",
            "./PPG_FieldStudy/S9/S9.pkl\n",
            "./PPG_FieldStudy/S10/S10.pkl\n",
            "./PPG_FieldStudy/S11/S11.pkl\n",
            "./PPG_FieldStudy/S12/S12.pkl\n",
            "./PPG_FieldStudy/S13/S13.pkl\n",
            "./PPG_FieldStudy/S14/S14.pkl\n",
            "./PPG_FieldStudy/S15/S15.pkl\n"
          ],
          "name": "stdout"
        }
      ]
    },
    {
      "cell_type": "code",
      "metadata": {
        "id": "icn6F5v2U_NQ",
        "colab_type": "code",
        "colab": {
          "base_uri": "https://localhost:8080/",
          "height": 416
        },
        "outputId": "b654bf5d-5cad-4d6d-e3a3-bbd8c5dd4f62"
      },
      "source": [
        "import pandas as pd\n",
        "import numpy as np\n",
        "datafinal = datafinal.dropna()\n",
        "datafinal.isna().sum()"
      ],
      "execution_count": 61,
      "outputs": [
        {
          "output_type": "execute_result",
          "data": {
            "text/plain": [
              "WEIGHT      0\n",
              "Gender      0\n",
              "AGE         0\n",
              "HEIGHT      0\n",
              "SKIN        0\n",
              "SPORT       0\n",
              "Activity    0\n",
              "label       0\n",
              "ECG         0\n",
              "EMG         0\n",
              "EDA         0\n",
              "Temp        0\n",
              "Resp        0\n",
              "ACC1        0\n",
              "ACC2        0\n",
              "ACC3        0\n",
              "wACC1       0\n",
              "wACC2       0\n",
              "wACC3       0\n",
              "wBVP        0\n",
              "wEDA        0\n",
              "wTEMP       0\n",
              "dtype: int64"
            ]
          },
          "metadata": {
            "tags": []
          },
          "execution_count": 61
        }
      ]
    },
    {
      "cell_type": "code",
      "metadata": {
        "id": "ynyjQ_Dr6WjX",
        "colab_type": "code",
        "outputId": "eb5e02e7-1109-4dbf-f5aa-7cab568be8fc",
        "colab": {
          "base_uri": "https://localhost:8080/",
          "height": 436
        }
      },
      "source": [
        "datafinal"
      ],
      "execution_count": 62,
      "outputs": [
        {
          "output_type": "execute_result",
          "data": {
            "text/html": [
              "<div>\n",
              "<style scoped>\n",
              "    .dataframe tbody tr th:only-of-type {\n",
              "        vertical-align: middle;\n",
              "    }\n",
              "\n",
              "    .dataframe tbody tr th {\n",
              "        vertical-align: top;\n",
              "    }\n",
              "\n",
              "    .dataframe thead th {\n",
              "        text-align: right;\n",
              "    }\n",
              "</style>\n",
              "<table border=\"1\" class=\"dataframe\">\n",
              "  <thead>\n",
              "    <tr style=\"text-align: right;\">\n",
              "      <th></th>\n",
              "      <th>WEIGHT</th>\n",
              "      <th>Gender</th>\n",
              "      <th>AGE</th>\n",
              "      <th>HEIGHT</th>\n",
              "      <th>SKIN</th>\n",
              "      <th>SPORT</th>\n",
              "      <th>Activity</th>\n",
              "      <th>label</th>\n",
              "      <th>ECG</th>\n",
              "      <th>EMG</th>\n",
              "      <th>EDA</th>\n",
              "      <th>Temp</th>\n",
              "      <th>Resp</th>\n",
              "      <th>ACC1</th>\n",
              "      <th>ACC2</th>\n",
              "      <th>ACC3</th>\n",
              "      <th>wACC1</th>\n",
              "      <th>wACC2</th>\n",
              "      <th>wACC3</th>\n",
              "      <th>wBVP</th>\n",
              "      <th>wEDA</th>\n",
              "      <th>wTEMP</th>\n",
              "    </tr>\n",
              "  </thead>\n",
              "  <tbody>\n",
              "    <tr>\n",
              "      <th>0</th>\n",
              "      <td>78.0</td>\n",
              "      <td>m</td>\n",
              "      <td>34</td>\n",
              "      <td>182.0</td>\n",
              "      <td>3</td>\n",
              "      <td>6</td>\n",
              "      <td>0.0</td>\n",
              "      <td>49.611369</td>\n",
              "      <td>0.015610</td>\n",
              "      <td>-1.5</td>\n",
              "      <td>0.0</td>\n",
              "      <td>-273.149994</td>\n",
              "      <td>4.441833</td>\n",
              "      <td>0.8564</td>\n",
              "      <td>-0.0678</td>\n",
              "      <td>-0.3656</td>\n",
              "      <td>-0.765625</td>\n",
              "      <td>-0.078125</td>\n",
              "      <td>0.671875</td>\n",
              "      <td>7.28</td>\n",
              "      <td>4.722437</td>\n",
              "      <td>32.13</td>\n",
              "    </tr>\n",
              "    <tr>\n",
              "      <th>1</th>\n",
              "      <td>78.0</td>\n",
              "      <td>m</td>\n",
              "      <td>34</td>\n",
              "      <td>182.0</td>\n",
              "      <td>3</td>\n",
              "      <td>6</td>\n",
              "      <td>0.0</td>\n",
              "      <td>49.611369</td>\n",
              "      <td>-0.015747</td>\n",
              "      <td>-1.5</td>\n",
              "      <td>0.0</td>\n",
              "      <td>-273.149994</td>\n",
              "      <td>4.876709</td>\n",
              "      <td>0.8514</td>\n",
              "      <td>-0.0654</td>\n",
              "      <td>-0.3688</td>\n",
              "      <td>-0.765625</td>\n",
              "      <td>-0.078125</td>\n",
              "      <td>0.671875</td>\n",
              "      <td>-11.36</td>\n",
              "      <td>4.728843</td>\n",
              "      <td>32.16</td>\n",
              "    </tr>\n",
              "    <tr>\n",
              "      <th>2</th>\n",
              "      <td>78.0</td>\n",
              "      <td>m</td>\n",
              "      <td>34</td>\n",
              "      <td>182.0</td>\n",
              "      <td>3</td>\n",
              "      <td>6</td>\n",
              "      <td>0.0</td>\n",
              "      <td>49.611369</td>\n",
              "      <td>-0.008743</td>\n",
              "      <td>-1.5</td>\n",
              "      <td>0.0</td>\n",
              "      <td>-273.149994</td>\n",
              "      <td>3.340149</td>\n",
              "      <td>0.8514</td>\n",
              "      <td>-0.0662</td>\n",
              "      <td>-0.3708</td>\n",
              "      <td>-0.765625</td>\n",
              "      <td>-0.078125</td>\n",
              "      <td>0.671875</td>\n",
              "      <td>-51.27</td>\n",
              "      <td>4.718594</td>\n",
              "      <td>32.16</td>\n",
              "    </tr>\n",
              "    <tr>\n",
              "      <th>3</th>\n",
              "      <td>78.0</td>\n",
              "      <td>m</td>\n",
              "      <td>34</td>\n",
              "      <td>182.0</td>\n",
              "      <td>3</td>\n",
              "      <td>6</td>\n",
              "      <td>0.0</td>\n",
              "      <td>49.611369</td>\n",
              "      <td>-0.339523</td>\n",
              "      <td>-1.5</td>\n",
              "      <td>0.0</td>\n",
              "      <td>-273.149994</td>\n",
              "      <td>0.740051</td>\n",
              "      <td>0.8594</td>\n",
              "      <td>-0.0632</td>\n",
              "      <td>-0.3640</td>\n",
              "      <td>-0.750000</td>\n",
              "      <td>-0.078125</td>\n",
              "      <td>0.671875</td>\n",
              "      <td>5.65</td>\n",
              "      <td>4.717312</td>\n",
              "      <td>32.16</td>\n",
              "    </tr>\n",
              "    <tr>\n",
              "      <th>4</th>\n",
              "      <td>78.0</td>\n",
              "      <td>m</td>\n",
              "      <td>34</td>\n",
              "      <td>182.0</td>\n",
              "      <td>3</td>\n",
              "      <td>6</td>\n",
              "      <td>0.0</td>\n",
              "      <td>49.611369</td>\n",
              "      <td>-0.089905</td>\n",
              "      <td>-1.5</td>\n",
              "      <td>0.0</td>\n",
              "      <td>-273.149994</td>\n",
              "      <td>-1.475525</td>\n",
              "      <td>0.8510</td>\n",
              "      <td>-0.0674</td>\n",
              "      <td>-0.3694</td>\n",
              "      <td>-0.765625</td>\n",
              "      <td>-0.078125</td>\n",
              "      <td>0.671875</td>\n",
              "      <td>34.34</td>\n",
              "      <td>4.713469</td>\n",
              "      <td>32.16</td>\n",
              "    </tr>\n",
              "    <tr>\n",
              "      <th>...</th>\n",
              "      <td>...</td>\n",
              "      <td>...</td>\n",
              "      <td>...</td>\n",
              "      <td>...</td>\n",
              "      <td>...</td>\n",
              "      <td>...</td>\n",
              "      <td>...</td>\n",
              "      <td>...</td>\n",
              "      <td>...</td>\n",
              "      <td>...</td>\n",
              "      <td>...</td>\n",
              "      <td>...</td>\n",
              "      <td>...</td>\n",
              "      <td>...</td>\n",
              "      <td>...</td>\n",
              "      <td>...</td>\n",
              "      <td>...</td>\n",
              "      <td>...</td>\n",
              "      <td>...</td>\n",
              "      <td>...</td>\n",
              "      <td>...</td>\n",
              "      <td>...</td>\n",
              "    </tr>\n",
              "    <tr>\n",
              "      <th>31723</th>\n",
              "      <td>79.0</td>\n",
              "      <td>m</td>\n",
              "      <td>28</td>\n",
              "      <td>183.0</td>\n",
              "      <td>2</td>\n",
              "      <td>5</td>\n",
              "      <td>0.0</td>\n",
              "      <td>80.853007</td>\n",
              "      <td>-1.126144</td>\n",
              "      <td>-1.5</td>\n",
              "      <td>0.0</td>\n",
              "      <td>-273.149994</td>\n",
              "      <td>-0.257874</td>\n",
              "      <td>0.8942</td>\n",
              "      <td>0.0204</td>\n",
              "      <td>-0.2178</td>\n",
              "      <td>-0.296875</td>\n",
              "      <td>-0.015625</td>\n",
              "      <td>0.937500</td>\n",
              "      <td>25.31</td>\n",
              "      <td>0.931639</td>\n",
              "      <td>34.00</td>\n",
              "    </tr>\n",
              "    <tr>\n",
              "      <th>31724</th>\n",
              "      <td>79.0</td>\n",
              "      <td>m</td>\n",
              "      <td>28</td>\n",
              "      <td>183.0</td>\n",
              "      <td>2</td>\n",
              "      <td>5</td>\n",
              "      <td>0.0</td>\n",
              "      <td>80.853007</td>\n",
              "      <td>0.322678</td>\n",
              "      <td>-1.5</td>\n",
              "      <td>0.0</td>\n",
              "      <td>-273.149994</td>\n",
              "      <td>-0.440979</td>\n",
              "      <td>0.8986</td>\n",
              "      <td>0.0138</td>\n",
              "      <td>-0.2318</td>\n",
              "      <td>-0.296875</td>\n",
              "      <td>-0.015625</td>\n",
              "      <td>0.953125</td>\n",
              "      <td>1.58</td>\n",
              "      <td>0.931639</td>\n",
              "      <td>34.00</td>\n",
              "    </tr>\n",
              "    <tr>\n",
              "      <th>31725</th>\n",
              "      <td>79.0</td>\n",
              "      <td>m</td>\n",
              "      <td>28</td>\n",
              "      <td>183.0</td>\n",
              "      <td>2</td>\n",
              "      <td>5</td>\n",
              "      <td>0.0</td>\n",
              "      <td>80.853007</td>\n",
              "      <td>-0.133118</td>\n",
              "      <td>-1.5</td>\n",
              "      <td>0.0</td>\n",
              "      <td>-273.149994</td>\n",
              "      <td>-0.627136</td>\n",
              "      <td>0.8952</td>\n",
              "      <td>0.0124</td>\n",
              "      <td>-0.2252</td>\n",
              "      <td>-0.015625</td>\n",
              "      <td>-0.015625</td>\n",
              "      <td>1.015625</td>\n",
              "      <td>-31.06</td>\n",
              "      <td>0.931639</td>\n",
              "      <td>34.00</td>\n",
              "    </tr>\n",
              "    <tr>\n",
              "      <th>31726</th>\n",
              "      <td>79.0</td>\n",
              "      <td>m</td>\n",
              "      <td>28</td>\n",
              "      <td>183.0</td>\n",
              "      <td>2</td>\n",
              "      <td>5</td>\n",
              "      <td>0.0</td>\n",
              "      <td>80.853007</td>\n",
              "      <td>-0.416519</td>\n",
              "      <td>-1.5</td>\n",
              "      <td>0.0</td>\n",
              "      <td>-273.149994</td>\n",
              "      <td>-0.543213</td>\n",
              "      <td>0.8968</td>\n",
              "      <td>0.0146</td>\n",
              "      <td>-0.2274</td>\n",
              "      <td>-0.171875</td>\n",
              "      <td>1.656250</td>\n",
              "      <td>1.984375</td>\n",
              "      <td>24.94</td>\n",
              "      <td>0.923953</td>\n",
              "      <td>34.00</td>\n",
              "    </tr>\n",
              "    <tr>\n",
              "      <th>31727</th>\n",
              "      <td>79.0</td>\n",
              "      <td>m</td>\n",
              "      <td>28</td>\n",
              "      <td>183.0</td>\n",
              "      <td>2</td>\n",
              "      <td>5</td>\n",
              "      <td>0.0</td>\n",
              "      <td>80.853007</td>\n",
              "      <td>0.384018</td>\n",
              "      <td>-1.5</td>\n",
              "      <td>0.0</td>\n",
              "      <td>-273.149994</td>\n",
              "      <td>0.157166</td>\n",
              "      <td>0.8922</td>\n",
              "      <td>0.0138</td>\n",
              "      <td>-0.2306</td>\n",
              "      <td>-1.156250</td>\n",
              "      <td>-0.015625</td>\n",
              "      <td>-0.546875</td>\n",
              "      <td>1.79</td>\n",
              "      <td>0.912424</td>\n",
              "      <td>34.00</td>\n",
              "    </tr>\n",
              "  </tbody>\n",
              "</table>\n",
              "<p>517576 rows × 22 columns</p>\n",
              "</div>"
            ],
            "text/plain": [
              "       WEIGHT Gender  AGE  HEIGHT  ...     wACC3   wBVP      wEDA  wTEMP\n",
              "0        78.0      m   34   182.0  ...  0.671875   7.28  4.722437  32.13\n",
              "1        78.0      m   34   182.0  ...  0.671875 -11.36  4.728843  32.16\n",
              "2        78.0      m   34   182.0  ...  0.671875 -51.27  4.718594  32.16\n",
              "3        78.0      m   34   182.0  ...  0.671875   5.65  4.717312  32.16\n",
              "4        78.0      m   34   182.0  ...  0.671875  34.34  4.713469  32.16\n",
              "...       ...    ...  ...     ...  ...       ...    ...       ...    ...\n",
              "31723    79.0      m   28   183.0  ...  0.937500  25.31  0.931639  34.00\n",
              "31724    79.0      m   28   183.0  ...  0.953125   1.58  0.931639  34.00\n",
              "31725    79.0      m   28   183.0  ...  1.015625 -31.06  0.931639  34.00\n",
              "31726    79.0      m   28   183.0  ...  1.984375  24.94  0.923953  34.00\n",
              "31727    79.0      m   28   183.0  ... -0.546875   1.79  0.912424  34.00\n",
              "\n",
              "[517576 rows x 22 columns]"
            ]
          },
          "metadata": {
            "tags": []
          },
          "execution_count": 62
        }
      ]
    },
    {
      "cell_type": "code",
      "metadata": {
        "id": "2IV3fjpL6Wzw",
        "colab_type": "code",
        "colab": {}
      },
      "source": [
        "datafinal.reset_index()\n",
        "datafinal.to_csv('data.csv', sep=',', encoding='utf-8',index=False)"
      ],
      "execution_count": 0,
      "outputs": []
    },
    {
      "cell_type": "markdown",
      "metadata": {
        "id": "73zQ5cwQZwAq",
        "colab_type": "text"
      },
      "source": [
        "\n",
        "\n",
        "## Analyse des activités + signaux :"
      ]
    },
    {
      "cell_type": "code",
      "metadata": {
        "id": "QGaILnrTZ1ok",
        "colab_type": "code",
        "outputId": "b68c640a-4dd4-4e65-9105-ed7d428bf24f",
        "colab": {
          "base_uri": "https://localhost:8080/",
          "height": 353
        }
      },
      "source": [
        "plot_activity(datafinal,'Activity')"
      ],
      "execution_count": 64,
      "outputs": [
        {
          "output_type": "display_data",
          "data": {
            "image/png": "[encoded data removed]",
            "text/plain": [
              "<Figure size 720x360 with 1 Axes>"
            ]
          },
          "metadata": {
            "tags": []
          }
        }
      ]
    },
    {
      "cell_type": "code",
      "metadata": {
        "id": "Nq00O_w5PzzS",
        "colab_type": "code",
        "outputId": "5123daf9-dac1-4073-c7ff-46f45d8f451e",
        "colab": {
          "base_uri": "https://localhost:8080/",
          "height": 314
        }
      },
      "source": [
        "datafinal.describe()"
      ],
      "execution_count": 65,
      "outputs": [
        {
          "output_type": "execute_result",
          "data": {
            "text/html": [
              "<div>\n",
              "<style scoped>\n",
              "    .dataframe tbody tr th:only-of-type {\n",
              "        vertical-align: middle;\n",
              "    }\n",
              "\n",
              "    .dataframe tbody tr th {\n",
              "        vertical-align: top;\n",
              "    }\n",
              "\n",
              "    .dataframe thead th {\n",
              "        text-align: right;\n",
              "    }\n",
              "</style>\n",
              "<table border=\"1\" class=\"dataframe\">\n",
              "  <thead>\n",
              "    <tr style=\"text-align: right;\">\n",
              "      <th></th>\n",
              "      <th>WEIGHT</th>\n",
              "      <th>AGE</th>\n",
              "      <th>HEIGHT</th>\n",
              "      <th>SKIN</th>\n",
              "      <th>SPORT</th>\n",
              "      <th>Activity</th>\n",
              "      <th>label</th>\n",
              "      <th>ECG</th>\n",
              "      <th>EMG</th>\n",
              "      <th>EDA</th>\n",
              "      <th>Temp</th>\n",
              "      <th>Resp</th>\n",
              "      <th>ACC1</th>\n",
              "      <th>ACC2</th>\n",
              "      <th>ACC3</th>\n",
              "      <th>wACC1</th>\n",
              "      <th>wACC2</th>\n",
              "      <th>wACC3</th>\n",
              "      <th>wBVP</th>\n",
              "      <th>wEDA</th>\n",
              "      <th>wTEMP</th>\n",
              "    </tr>\n",
              "  </thead>\n",
              "  <tbody>\n",
              "    <tr>\n",
              "      <th>count</th>\n",
              "      <td>517576.000000</td>\n",
              "      <td>517576.000000</td>\n",
              "      <td>517576.000000</td>\n",
              "      <td>517576.000000</td>\n",
              "      <td>517576.000000</td>\n",
              "      <td>517576.000000</td>\n",
              "      <td>517576.000000</td>\n",
              "      <td>517576.000000</td>\n",
              "      <td>517576.0</td>\n",
              "      <td>517576.0</td>\n",
              "      <td>517576.000000</td>\n",
              "      <td>517576.000000</td>\n",
              "      <td>517576.000000</td>\n",
              "      <td>517576.000000</td>\n",
              "      <td>517576.000000</td>\n",
              "      <td>517576.000000</td>\n",
              "      <td>517576.000000</td>\n",
              "      <td>517576.000000</td>\n",
              "      <td>517576.000000</td>\n",
              "      <td>517576.000000</td>\n",
              "      <td>517576.000000</td>\n",
              "    </tr>\n",
              "    <tr>\n",
              "      <th>mean</th>\n",
              "      <td>68.360990</td>\n",
              "      <td>30.530581</td>\n",
              "      <td>174.788491</td>\n",
              "      <td>3.157720</td>\n",
              "      <td>4.622100</td>\n",
              "      <td>3.838431</td>\n",
              "      <td>89.428670</td>\n",
              "      <td>0.001349</td>\n",
              "      <td>-1.5</td>\n",
              "      <td>0.0</td>\n",
              "      <td>-273.149994</td>\n",
              "      <td>0.047633</td>\n",
              "      <td>0.864410</td>\n",
              "      <td>-0.006772</td>\n",
              "      <td>-0.101691</td>\n",
              "      <td>-0.523253</td>\n",
              "      <td>0.100456</td>\n",
              "      <td>0.356236</td>\n",
              "      <td>0.044228</td>\n",
              "      <td>5.101319</td>\n",
              "      <td>33.067739</td>\n",
              "    </tr>\n",
              "    <tr>\n",
              "      <th>std</th>\n",
              "      <td>12.181993</td>\n",
              "      <td>10.016977</td>\n",
              "      <td>8.766433</td>\n",
              "      <td>0.505418</td>\n",
              "      <td>1.199061</td>\n",
              "      <td>2.978633</td>\n",
              "      <td>22.827144</td>\n",
              "      <td>0.313008</td>\n",
              "      <td>0.0</td>\n",
              "      <td>0.0</td>\n",
              "      <td>0.000000</td>\n",
              "      <td>4.421867</td>\n",
              "      <td>0.175112</td>\n",
              "      <td>0.118013</td>\n",
              "      <td>0.302608</td>\n",
              "      <td>0.350994</td>\n",
              "      <td>0.644812</td>\n",
              "      <td>0.404892</td>\n",
              "      <td>83.811277</td>\n",
              "      <td>5.710474</td>\n",
              "      <td>1.812680</td>\n",
              "    </tr>\n",
              "    <tr>\n",
              "      <th>min</th>\n",
              "      <td>56.000000</td>\n",
              "      <td>21.000000</td>\n",
              "      <td>164.000000</td>\n",
              "      <td>2.000000</td>\n",
              "      <td>1.000000</td>\n",
              "      <td>0.000000</td>\n",
              "      <td>41.690851</td>\n",
              "      <td>-1.499817</td>\n",
              "      <td>-1.5</td>\n",
              "      <td>0.0</td>\n",
              "      <td>-273.149994</td>\n",
              "      <td>-49.980164</td>\n",
              "      <td>-0.670200</td>\n",
              "      <td>-1.150200</td>\n",
              "      <td>-4.021200</td>\n",
              "      <td>-2.000000</td>\n",
              "      <td>-2.000000</td>\n",
              "      <td>-2.000000</td>\n",
              "      <td>-1581.680000</td>\n",
              "      <td>0.000000</td>\n",
              "      <td>26.270000</td>\n",
              "    </tr>\n",
              "    <tr>\n",
              "      <th>25%</th>\n",
              "      <td>60.000000</td>\n",
              "      <td>24.000000</td>\n",
              "      <td>168.000000</td>\n",
              "      <td>3.000000</td>\n",
              "      <td>4.000000</td>\n",
              "      <td>0.000000</td>\n",
              "      <td>73.715484</td>\n",
              "      <td>-0.134171</td>\n",
              "      <td>-1.5</td>\n",
              "      <td>0.0</td>\n",
              "      <td>-273.149994</td>\n",
              "      <td>-2.247620</td>\n",
              "      <td>0.789000</td>\n",
              "      <td>-0.079200</td>\n",
              "      <td>-0.282400</td>\n",
              "      <td>-0.796875</td>\n",
              "      <td>-0.343750</td>\n",
              "      <td>0.109375</td>\n",
              "      <td>-31.350000</td>\n",
              "      <td>0.969005</td>\n",
              "      <td>31.810000</td>\n",
              "    </tr>\n",
              "    <tr>\n",
              "      <th>50%</th>\n",
              "      <td>67.000000</td>\n",
              "      <td>28.000000</td>\n",
              "      <td>170.000000</td>\n",
              "      <td>3.000000</td>\n",
              "      <td>5.000000</td>\n",
              "      <td>5.000000</td>\n",
              "      <td>85.285525</td>\n",
              "      <td>-0.042526</td>\n",
              "      <td>-1.5</td>\n",
              "      <td>0.0</td>\n",
              "      <td>-273.149994</td>\n",
              "      <td>-0.067139</td>\n",
              "      <td>0.885000</td>\n",
              "      <td>-0.013000</td>\n",
              "      <td>-0.097800</td>\n",
              "      <td>-0.515625</td>\n",
              "      <td>-0.015625</td>\n",
              "      <td>0.343750</td>\n",
              "      <td>2.730000</td>\n",
              "      <td>3.493723</td>\n",
              "      <td>33.500000</td>\n",
              "    </tr>\n",
              "    <tr>\n",
              "      <th>75%</th>\n",
              "      <td>78.000000</td>\n",
              "      <td>34.000000</td>\n",
              "      <td>182.000000</td>\n",
              "      <td>3.000000</td>\n",
              "      <td>5.000000</td>\n",
              "      <td>6.000000</td>\n",
              "      <td>101.350260</td>\n",
              "      <td>0.079880</td>\n",
              "      <td>-1.5</td>\n",
              "      <td>0.0</td>\n",
              "      <td>-273.149994</td>\n",
              "      <td>2.232361</td>\n",
              "      <td>0.915000</td>\n",
              "      <td>0.061600</td>\n",
              "      <td>0.094200</td>\n",
              "      <td>-0.281250</td>\n",
              "      <td>0.640625</td>\n",
              "      <td>0.687500</td>\n",
              "      <td>33.860000</td>\n",
              "      <td>6.787108</td>\n",
              "      <td>34.340000</td>\n",
              "    </tr>\n",
              "    <tr>\n",
              "      <th>max</th>\n",
              "      <td>105.000000</td>\n",
              "      <td>55.000000</td>\n",
              "      <td>195.000000</td>\n",
              "      <td>4.000000</td>\n",
              "      <td>6.000000</td>\n",
              "      <td>8.000000</td>\n",
              "      <td>187.015425</td>\n",
              "      <td>1.499954</td>\n",
              "      <td>-1.5</td>\n",
              "      <td>0.0</td>\n",
              "      <td>-273.149994</td>\n",
              "      <td>49.974060</td>\n",
              "      <td>3.737400</td>\n",
              "      <td>0.943800</td>\n",
              "      <td>4.641400</td>\n",
              "      <td>1.984375</td>\n",
              "      <td>1.984375</td>\n",
              "      <td>1.984375</td>\n",
              "      <td>1806.390000</td>\n",
              "      <td>40.250900</td>\n",
              "      <td>36.450000</td>\n",
              "    </tr>\n",
              "  </tbody>\n",
              "</table>\n",
              "</div>"
            ],
            "text/plain": [
              "              WEIGHT            AGE  ...           wEDA          wTEMP\n",
              "count  517576.000000  517576.000000  ...  517576.000000  517576.000000\n",
              "mean       68.360990      30.530581  ...       5.101319      33.067739\n",
              "std        12.181993      10.016977  ...       5.710474       1.812680\n",
              "min        56.000000      21.000000  ...       0.000000      26.270000\n",
              "25%        60.000000      24.000000  ...       0.969005      31.810000\n",
              "50%        67.000000      28.000000  ...       3.493723      33.500000\n",
              "75%        78.000000      34.000000  ...       6.787108      34.340000\n",
              "max       105.000000      55.000000  ...      40.250900      36.450000\n",
              "\n",
              "[8 rows x 21 columns]"
            ]
          },
          "metadata": {
            "tags": []
          },
          "execution_count": 65
        }
      ]
    },
    {
      "cell_type": "markdown",
      "metadata": {
        "id": "K3Wn0qsysMYN",
        "colab_type": "text"
      },
      "source": [
        "# Machine learning"
      ]
    },
    {
      "cell_type": "code",
      "metadata": {
        "id": "36U3Xt1pqxXB",
        "colab_type": "code",
        "outputId": "e53a0638-b8b8-4f04-ac6e-8ab132f4095c",
        "colab": {
          "base_uri": "https://localhost:8080/",
          "height": 436
        }
      },
      "source": [
        "import pandas as pd\n",
        "datafinal = pd.read_csv('data.csv',encoding='latin1',sep = ',',index_col=0)\n",
        "datafinal.reset_index()"
      ],
      "execution_count": 66,
      "outputs": [
        {
          "output_type": "execute_result",
          "data": {
            "text/html": [
              "<div>\n",
              "<style scoped>\n",
              "    .dataframe tbody tr th:only-of-type {\n",
              "        vertical-align: middle;\n",
              "    }\n",
              "\n",
              "    .dataframe tbody tr th {\n",
              "        vertical-align: top;\n",
              "    }\n",
              "\n",
              "    .dataframe thead th {\n",
              "        text-align: right;\n",
              "    }\n",
              "</style>\n",
              "<table border=\"1\" class=\"dataframe\">\n",
              "  <thead>\n",
              "    <tr style=\"text-align: right;\">\n",
              "      <th></th>\n",
              "      <th>index</th>\n",
              "      <th>WEIGHT</th>\n",
              "      <th>Gender</th>\n",
              "      <th>AGE</th>\n",
              "      <th>HEIGHT</th>\n",
              "      <th>SKIN</th>\n",
              "      <th>SPORT</th>\n",
              "      <th>Activity</th>\n",
              "      <th>label</th>\n",
              "      <th>ECG</th>\n",
              "      <th>EMG</th>\n",
              "      <th>EDA</th>\n",
              "      <th>Temp</th>\n",
              "      <th>Resp</th>\n",
              "      <th>ACC1</th>\n",
              "      <th>ACC2</th>\n",
              "      <th>ACC3</th>\n",
              "      <th>wACC1</th>\n",
              "      <th>wACC2</th>\n",
              "      <th>wACC3</th>\n",
              "      <th>wBVP</th>\n",
              "      <th>wEDA</th>\n",
              "      <th>wTEMP</th>\n",
              "    </tr>\n",
              "  </thead>\n",
              "  <tbody>\n",
              "    <tr>\n",
              "      <th>0</th>\n",
              "      <td>0</td>\n",
              "      <td>78.0</td>\n",
              "      <td>m</td>\n",
              "      <td>34</td>\n",
              "      <td>182.0</td>\n",
              "      <td>3</td>\n",
              "      <td>6</td>\n",
              "      <td>0.0</td>\n",
              "      <td>49.611369</td>\n",
              "      <td>0.015610</td>\n",
              "      <td>-1.5</td>\n",
              "      <td>0.0</td>\n",
              "      <td>-273.149994</td>\n",
              "      <td>4.441833</td>\n",
              "      <td>0.8564</td>\n",
              "      <td>-0.0678</td>\n",
              "      <td>-0.3656</td>\n",
              "      <td>-0.765625</td>\n",
              "      <td>-0.078125</td>\n",
              "      <td>0.671875</td>\n",
              "      <td>7.28</td>\n",
              "      <td>4.722437</td>\n",
              "      <td>32.13</td>\n",
              "    </tr>\n",
              "    <tr>\n",
              "      <th>1</th>\n",
              "      <td>1</td>\n",
              "      <td>78.0</td>\n",
              "      <td>m</td>\n",
              "      <td>34</td>\n",
              "      <td>182.0</td>\n",
              "      <td>3</td>\n",
              "      <td>6</td>\n",
              "      <td>0.0</td>\n",
              "      <td>49.611369</td>\n",
              "      <td>-0.015747</td>\n",
              "      <td>-1.5</td>\n",
              "      <td>0.0</td>\n",
              "      <td>-273.149994</td>\n",
              "      <td>4.876709</td>\n",
              "      <td>0.8514</td>\n",
              "      <td>-0.0654</td>\n",
              "      <td>-0.3688</td>\n",
              "      <td>-0.765625</td>\n",
              "      <td>-0.078125</td>\n",
              "      <td>0.671875</td>\n",
              "      <td>-11.36</td>\n",
              "      <td>4.728843</td>\n",
              "      <td>32.16</td>\n",
              "    </tr>\n",
              "    <tr>\n",
              "      <th>2</th>\n",
              "      <td>2</td>\n",
              "      <td>78.0</td>\n",
              "      <td>m</td>\n",
              "      <td>34</td>\n",
              "      <td>182.0</td>\n",
              "      <td>3</td>\n",
              "      <td>6</td>\n",
              "      <td>0.0</td>\n",
              "      <td>49.611369</td>\n",
              "      <td>-0.008743</td>\n",
              "      <td>-1.5</td>\n",
              "      <td>0.0</td>\n",
              "      <td>-273.149994</td>\n",
              "      <td>3.340149</td>\n",
              "      <td>0.8514</td>\n",
              "      <td>-0.0662</td>\n",
              "      <td>-0.3708</td>\n",
              "      <td>-0.765625</td>\n",
              "      <td>-0.078125</td>\n",
              "      <td>0.671875</td>\n",
              "      <td>-51.27</td>\n",
              "      <td>4.718594</td>\n",
              "      <td>32.16</td>\n",
              "    </tr>\n",
              "    <tr>\n",
              "      <th>3</th>\n",
              "      <td>3</td>\n",
              "      <td>78.0</td>\n",
              "      <td>m</td>\n",
              "      <td>34</td>\n",
              "      <td>182.0</td>\n",
              "      <td>3</td>\n",
              "      <td>6</td>\n",
              "      <td>0.0</td>\n",
              "      <td>49.611369</td>\n",
              "      <td>-0.339523</td>\n",
              "      <td>-1.5</td>\n",
              "      <td>0.0</td>\n",
              "      <td>-273.149994</td>\n",
              "      <td>0.740051</td>\n",
              "      <td>0.8594</td>\n",
              "      <td>-0.0632</td>\n",
              "      <td>-0.3640</td>\n",
              "      <td>-0.750000</td>\n",
              "      <td>-0.078125</td>\n",
              "      <td>0.671875</td>\n",
              "      <td>5.65</td>\n",
              "      <td>4.717312</td>\n",
              "      <td>32.16</td>\n",
              "    </tr>\n",
              "    <tr>\n",
              "      <th>4</th>\n",
              "      <td>4</td>\n",
              "      <td>78.0</td>\n",
              "      <td>m</td>\n",
              "      <td>34</td>\n",
              "      <td>182.0</td>\n",
              "      <td>3</td>\n",
              "      <td>6</td>\n",
              "      <td>0.0</td>\n",
              "      <td>49.611369</td>\n",
              "      <td>-0.089905</td>\n",
              "      <td>-1.5</td>\n",
              "      <td>0.0</td>\n",
              "      <td>-273.149994</td>\n",
              "      <td>-1.475525</td>\n",
              "      <td>0.8510</td>\n",
              "      <td>-0.0674</td>\n",
              "      <td>-0.3694</td>\n",
              "      <td>-0.765625</td>\n",
              "      <td>-0.078125</td>\n",
              "      <td>0.671875</td>\n",
              "      <td>34.34</td>\n",
              "      <td>4.713469</td>\n",
              "      <td>32.16</td>\n",
              "    </tr>\n",
              "    <tr>\n",
              "      <th>...</th>\n",
              "      <td>...</td>\n",
              "      <td>...</td>\n",
              "      <td>...</td>\n",
              "      <td>...</td>\n",
              "      <td>...</td>\n",
              "      <td>...</td>\n",
              "      <td>...</td>\n",
              "      <td>...</td>\n",
              "      <td>...</td>\n",
              "      <td>...</td>\n",
              "      <td>...</td>\n",
              "      <td>...</td>\n",
              "      <td>...</td>\n",
              "      <td>...</td>\n",
              "      <td>...</td>\n",
              "      <td>...</td>\n",
              "      <td>...</td>\n",
              "      <td>...</td>\n",
              "      <td>...</td>\n",
              "      <td>...</td>\n",
              "      <td>...</td>\n",
              "      <td>...</td>\n",
              "      <td>...</td>\n",
              "    </tr>\n",
              "    <tr>\n",
              "      <th>517571</th>\n",
              "      <td>31723</td>\n",
              "      <td>79.0</td>\n",
              "      <td>m</td>\n",
              "      <td>28</td>\n",
              "      <td>183.0</td>\n",
              "      <td>2</td>\n",
              "      <td>5</td>\n",
              "      <td>0.0</td>\n",
              "      <td>80.853007</td>\n",
              "      <td>-1.126144</td>\n",
              "      <td>-1.5</td>\n",
              "      <td>0.0</td>\n",
              "      <td>-273.149994</td>\n",
              "      <td>-0.257874</td>\n",
              "      <td>0.8942</td>\n",
              "      <td>0.0204</td>\n",
              "      <td>-0.2178</td>\n",
              "      <td>-0.296875</td>\n",
              "      <td>-0.015625</td>\n",
              "      <td>0.937500</td>\n",
              "      <td>25.31</td>\n",
              "      <td>0.931639</td>\n",
              "      <td>34.00</td>\n",
              "    </tr>\n",
              "    <tr>\n",
              "      <th>517572</th>\n",
              "      <td>31724</td>\n",
              "      <td>79.0</td>\n",
              "      <td>m</td>\n",
              "      <td>28</td>\n",
              "      <td>183.0</td>\n",
              "      <td>2</td>\n",
              "      <td>5</td>\n",
              "      <td>0.0</td>\n",
              "      <td>80.853007</td>\n",
              "      <td>0.322678</td>\n",
              "      <td>-1.5</td>\n",
              "      <td>0.0</td>\n",
              "      <td>-273.149994</td>\n",
              "      <td>-0.440979</td>\n",
              "      <td>0.8986</td>\n",
              "      <td>0.0138</td>\n",
              "      <td>-0.2318</td>\n",
              "      <td>-0.296875</td>\n",
              "      <td>-0.015625</td>\n",
              "      <td>0.953125</td>\n",
              "      <td>1.58</td>\n",
              "      <td>0.931639</td>\n",
              "      <td>34.00</td>\n",
              "    </tr>\n",
              "    <tr>\n",
              "      <th>517573</th>\n",
              "      <td>31725</td>\n",
              "      <td>79.0</td>\n",
              "      <td>m</td>\n",
              "      <td>28</td>\n",
              "      <td>183.0</td>\n",
              "      <td>2</td>\n",
              "      <td>5</td>\n",
              "      <td>0.0</td>\n",
              "      <td>80.853007</td>\n",
              "      <td>-0.133118</td>\n",
              "      <td>-1.5</td>\n",
              "      <td>0.0</td>\n",
              "      <td>-273.149994</td>\n",
              "      <td>-0.627136</td>\n",
              "      <td>0.8952</td>\n",
              "      <td>0.0124</td>\n",
              "      <td>-0.2252</td>\n",
              "      <td>-0.015625</td>\n",
              "      <td>-0.015625</td>\n",
              "      <td>1.015625</td>\n",
              "      <td>-31.06</td>\n",
              "      <td>0.931639</td>\n",
              "      <td>34.00</td>\n",
              "    </tr>\n",
              "    <tr>\n",
              "      <th>517574</th>\n",
              "      <td>31726</td>\n",
              "      <td>79.0</td>\n",
              "      <td>m</td>\n",
              "      <td>28</td>\n",
              "      <td>183.0</td>\n",
              "      <td>2</td>\n",
              "      <td>5</td>\n",
              "      <td>0.0</td>\n",
              "      <td>80.853007</td>\n",
              "      <td>-0.416519</td>\n",
              "      <td>-1.5</td>\n",
              "      <td>0.0</td>\n",
              "      <td>-273.149994</td>\n",
              "      <td>-0.543213</td>\n",
              "      <td>0.8968</td>\n",
              "      <td>0.0146</td>\n",
              "      <td>-0.2274</td>\n",
              "      <td>-0.171875</td>\n",
              "      <td>1.656250</td>\n",
              "      <td>1.984375</td>\n",
              "      <td>24.94</td>\n",
              "      <td>0.923953</td>\n",
              "      <td>34.00</td>\n",
              "    </tr>\n",
              "    <tr>\n",
              "      <th>517575</th>\n",
              "      <td>31727</td>\n",
              "      <td>79.0</td>\n",
              "      <td>m</td>\n",
              "      <td>28</td>\n",
              "      <td>183.0</td>\n",
              "      <td>2</td>\n",
              "      <td>5</td>\n",
              "      <td>0.0</td>\n",
              "      <td>80.853007</td>\n",
              "      <td>0.384018</td>\n",
              "      <td>-1.5</td>\n",
              "      <td>0.0</td>\n",
              "      <td>-273.149994</td>\n",
              "      <td>0.157166</td>\n",
              "      <td>0.8922</td>\n",
              "      <td>0.0138</td>\n",
              "      <td>-0.2306</td>\n",
              "      <td>-1.156250</td>\n",
              "      <td>-0.015625</td>\n",
              "      <td>-0.546875</td>\n",
              "      <td>1.79</td>\n",
              "      <td>0.912424</td>\n",
              "      <td>34.00</td>\n",
              "    </tr>\n",
              "  </tbody>\n",
              "</table>\n",
              "<p>517576 rows × 23 columns</p>\n",
              "</div>"
            ],
            "text/plain": [
              "        index  WEIGHT Gender  AGE  ...     wACC3   wBVP      wEDA  wTEMP\n",
              "0           0    78.0      m   34  ...  0.671875   7.28  4.722437  32.13\n",
              "1           1    78.0      m   34  ...  0.671875 -11.36  4.728843  32.16\n",
              "2           2    78.0      m   34  ...  0.671875 -51.27  4.718594  32.16\n",
              "3           3    78.0      m   34  ...  0.671875   5.65  4.717312  32.16\n",
              "4           4    78.0      m   34  ...  0.671875  34.34  4.713469  32.16\n",
              "...       ...     ...    ...  ...  ...       ...    ...       ...    ...\n",
              "517571  31723    79.0      m   28  ...  0.937500  25.31  0.931639  34.00\n",
              "517572  31724    79.0      m   28  ...  0.953125   1.58  0.931639  34.00\n",
              "517573  31725    79.0      m   28  ...  1.015625 -31.06  0.931639  34.00\n",
              "517574  31726    79.0      m   28  ...  1.984375  24.94  0.923953  34.00\n",
              "517575  31727    79.0      m   28  ... -0.546875   1.79  0.912424  34.00\n",
              "\n",
              "[517576 rows x 23 columns]"
            ]
          },
          "metadata": {
            "tags": []
          },
          "execution_count": 66
        }
      ]
    },
    {
      "cell_type": "code",
      "metadata": {
        "id": "8MoUswBnq5M9",
        "colab_type": "code",
        "outputId": "ed5c41a9-3dcb-4170-e123-ef26dadc2537",
        "colab": {
          "base_uri": "https://localhost:8080/",
          "height": 436
        }
      },
      "source": [
        "datafinal\n",
        "datafinal.reset_index()"
      ],
      "execution_count": 67,
      "outputs": [
        {
          "output_type": "execute_result",
          "data": {
            "text/html": [
              "<div>\n",
              "<style scoped>\n",
              "    .dataframe tbody tr th:only-of-type {\n",
              "        vertical-align: middle;\n",
              "    }\n",
              "\n",
              "    .dataframe tbody tr th {\n",
              "        vertical-align: top;\n",
              "    }\n",
              "\n",
              "    .dataframe thead th {\n",
              "        text-align: right;\n",
              "    }\n",
              "</style>\n",
              "<table border=\"1\" class=\"dataframe\">\n",
              "  <thead>\n",
              "    <tr style=\"text-align: right;\">\n",
              "      <th></th>\n",
              "      <th>index</th>\n",
              "      <th>WEIGHT</th>\n",
              "      <th>Gender</th>\n",
              "      <th>AGE</th>\n",
              "      <th>HEIGHT</th>\n",
              "      <th>SKIN</th>\n",
              "      <th>SPORT</th>\n",
              "      <th>Activity</th>\n",
              "      <th>label</th>\n",
              "      <th>ECG</th>\n",
              "      <th>EMG</th>\n",
              "      <th>EDA</th>\n",
              "      <th>Temp</th>\n",
              "      <th>Resp</th>\n",
              "      <th>ACC1</th>\n",
              "      <th>ACC2</th>\n",
              "      <th>ACC3</th>\n",
              "      <th>wACC1</th>\n",
              "      <th>wACC2</th>\n",
              "      <th>wACC3</th>\n",
              "      <th>wBVP</th>\n",
              "      <th>wEDA</th>\n",
              "      <th>wTEMP</th>\n",
              "    </tr>\n",
              "  </thead>\n",
              "  <tbody>\n",
              "    <tr>\n",
              "      <th>0</th>\n",
              "      <td>0</td>\n",
              "      <td>78.0</td>\n",
              "      <td>m</td>\n",
              "      <td>34</td>\n",
              "      <td>182.0</td>\n",
              "      <td>3</td>\n",
              "      <td>6</td>\n",
              "      <td>0.0</td>\n",
              "      <td>49.611369</td>\n",
              "      <td>0.015610</td>\n",
              "      <td>-1.5</td>\n",
              "      <td>0.0</td>\n",
              "      <td>-273.149994</td>\n",
              "      <td>4.441833</td>\n",
              "      <td>0.8564</td>\n",
              "      <td>-0.0678</td>\n",
              "      <td>-0.3656</td>\n",
              "      <td>-0.765625</td>\n",
              "      <td>-0.078125</td>\n",
              "      <td>0.671875</td>\n",
              "      <td>7.28</td>\n",
              "      <td>4.722437</td>\n",
              "      <td>32.13</td>\n",
              "    </tr>\n",
              "    <tr>\n",
              "      <th>1</th>\n",
              "      <td>1</td>\n",
              "      <td>78.0</td>\n",
              "      <td>m</td>\n",
              "      <td>34</td>\n",
              "      <td>182.0</td>\n",
              "      <td>3</td>\n",
              "      <td>6</td>\n",
              "      <td>0.0</td>\n",
              "      <td>49.611369</td>\n",
              "      <td>-0.015747</td>\n",
              "      <td>-1.5</td>\n",
              "      <td>0.0</td>\n",
              "      <td>-273.149994</td>\n",
              "      <td>4.876709</td>\n",
              "      <td>0.8514</td>\n",
              "      <td>-0.0654</td>\n",
              "      <td>-0.3688</td>\n",
              "      <td>-0.765625</td>\n",
              "      <td>-0.078125</td>\n",
              "      <td>0.671875</td>\n",
              "      <td>-11.36</td>\n",
              "      <td>4.728843</td>\n",
              "      <td>32.16</td>\n",
              "    </tr>\n",
              "    <tr>\n",
              "      <th>2</th>\n",
              "      <td>2</td>\n",
              "      <td>78.0</td>\n",
              "      <td>m</td>\n",
              "      <td>34</td>\n",
              "      <td>182.0</td>\n",
              "      <td>3</td>\n",
              "      <td>6</td>\n",
              "      <td>0.0</td>\n",
              "      <td>49.611369</td>\n",
              "      <td>-0.008743</td>\n",
              "      <td>-1.5</td>\n",
              "      <td>0.0</td>\n",
              "      <td>-273.149994</td>\n",
              "      <td>3.340149</td>\n",
              "      <td>0.8514</td>\n",
              "      <td>-0.0662</td>\n",
              "      <td>-0.3708</td>\n",
              "      <td>-0.765625</td>\n",
              "      <td>-0.078125</td>\n",
              "      <td>0.671875</td>\n",
              "      <td>-51.27</td>\n",
              "      <td>4.718594</td>\n",
              "      <td>32.16</td>\n",
              "    </tr>\n",
              "    <tr>\n",
              "      <th>3</th>\n",
              "      <td>3</td>\n",
              "      <td>78.0</td>\n",
              "      <td>m</td>\n",
              "      <td>34</td>\n",
              "      <td>182.0</td>\n",
              "      <td>3</td>\n",
              "      <td>6</td>\n",
              "      <td>0.0</td>\n",
              "      <td>49.611369</td>\n",
              "      <td>-0.339523</td>\n",
              "      <td>-1.5</td>\n",
              "      <td>0.0</td>\n",
              "      <td>-273.149994</td>\n",
              "      <td>0.740051</td>\n",
              "      <td>0.8594</td>\n",
              "      <td>-0.0632</td>\n",
              "      <td>-0.3640</td>\n",
              "      <td>-0.750000</td>\n",
              "      <td>-0.078125</td>\n",
              "      <td>0.671875</td>\n",
              "      <td>5.65</td>\n",
              "      <td>4.717312</td>\n",
              "      <td>32.16</td>\n",
              "    </tr>\n",
              "    <tr>\n",
              "      <th>4</th>\n",
              "      <td>4</td>\n",
              "      <td>78.0</td>\n",
              "      <td>m</td>\n",
              "      <td>34</td>\n",
              "      <td>182.0</td>\n",
              "      <td>3</td>\n",
              "      <td>6</td>\n",
              "      <td>0.0</td>\n",
              "      <td>49.611369</td>\n",
              "      <td>-0.089905</td>\n",
              "      <td>-1.5</td>\n",
              "      <td>0.0</td>\n",
              "      <td>-273.149994</td>\n",
              "      <td>-1.475525</td>\n",
              "      <td>0.8510</td>\n",
              "      <td>-0.0674</td>\n",
              "      <td>-0.3694</td>\n",
              "      <td>-0.765625</td>\n",
              "      <td>-0.078125</td>\n",
              "      <td>0.671875</td>\n",
              "      <td>34.34</td>\n",
              "      <td>4.713469</td>\n",
              "      <td>32.16</td>\n",
              "    </tr>\n",
              "    <tr>\n",
              "      <th>...</th>\n",
              "      <td>...</td>\n",
              "      <td>...</td>\n",
              "      <td>...</td>\n",
              "      <td>...</td>\n",
              "      <td>...</td>\n",
              "      <td>...</td>\n",
              "      <td>...</td>\n",
              "      <td>...</td>\n",
              "      <td>...</td>\n",
              "      <td>...</td>\n",
              "      <td>...</td>\n",
              "      <td>...</td>\n",
              "      <td>...</td>\n",
              "      <td>...</td>\n",
              "      <td>...</td>\n",
              "      <td>...</td>\n",
              "      <td>...</td>\n",
              "      <td>...</td>\n",
              "      <td>...</td>\n",
              "      <td>...</td>\n",
              "      <td>...</td>\n",
              "      <td>...</td>\n",
              "      <td>...</td>\n",
              "    </tr>\n",
              "    <tr>\n",
              "      <th>517571</th>\n",
              "      <td>31723</td>\n",
              "      <td>79.0</td>\n",
              "      <td>m</td>\n",
              "      <td>28</td>\n",
              "      <td>183.0</td>\n",
              "      <td>2</td>\n",
              "      <td>5</td>\n",
              "      <td>0.0</td>\n",
              "      <td>80.853007</td>\n",
              "      <td>-1.126144</td>\n",
              "      <td>-1.5</td>\n",
              "      <td>0.0</td>\n",
              "      <td>-273.149994</td>\n",
              "      <td>-0.257874</td>\n",
              "      <td>0.8942</td>\n",
              "      <td>0.0204</td>\n",
              "      <td>-0.2178</td>\n",
              "      <td>-0.296875</td>\n",
              "      <td>-0.015625</td>\n",
              "      <td>0.937500</td>\n",
              "      <td>25.31</td>\n",
              "      <td>0.931639</td>\n",
              "      <td>34.00</td>\n",
              "    </tr>\n",
              "    <tr>\n",
              "      <th>517572</th>\n",
              "      <td>31724</td>\n",
              "      <td>79.0</td>\n",
              "      <td>m</td>\n",
              "      <td>28</td>\n",
              "      <td>183.0</td>\n",
              "      <td>2</td>\n",
              "      <td>5</td>\n",
              "      <td>0.0</td>\n",
              "      <td>80.853007</td>\n",
              "      <td>0.322678</td>\n",
              "      <td>-1.5</td>\n",
              "      <td>0.0</td>\n",
              "      <td>-273.149994</td>\n",
              "      <td>-0.440979</td>\n",
              "      <td>0.8986</td>\n",
              "      <td>0.0138</td>\n",
              "      <td>-0.2318</td>\n",
              "      <td>-0.296875</td>\n",
              "      <td>-0.015625</td>\n",
              "      <td>0.953125</td>\n",
              "      <td>1.58</td>\n",
              "      <td>0.931639</td>\n",
              "      <td>34.00</td>\n",
              "    </tr>\n",
              "    <tr>\n",
              "      <th>517573</th>\n",
              "      <td>31725</td>\n",
              "      <td>79.0</td>\n",
              "      <td>m</td>\n",
              "      <td>28</td>\n",
              "      <td>183.0</td>\n",
              "      <td>2</td>\n",
              "      <td>5</td>\n",
              "      <td>0.0</td>\n",
              "      <td>80.853007</td>\n",
              "      <td>-0.133118</td>\n",
              "      <td>-1.5</td>\n",
              "      <td>0.0</td>\n",
              "      <td>-273.149994</td>\n",
              "      <td>-0.627136</td>\n",
              "      <td>0.8952</td>\n",
              "      <td>0.0124</td>\n",
              "      <td>-0.2252</td>\n",
              "      <td>-0.015625</td>\n",
              "      <td>-0.015625</td>\n",
              "      <td>1.015625</td>\n",
              "      <td>-31.06</td>\n",
              "      <td>0.931639</td>\n",
              "      <td>34.00</td>\n",
              "    </tr>\n",
              "    <tr>\n",
              "      <th>517574</th>\n",
              "      <td>31726</td>\n",
              "      <td>79.0</td>\n",
              "      <td>m</td>\n",
              "      <td>28</td>\n",
              "      <td>183.0</td>\n",
              "      <td>2</td>\n",
              "      <td>5</td>\n",
              "      <td>0.0</td>\n",
              "      <td>80.853007</td>\n",
              "      <td>-0.416519</td>\n",
              "      <td>-1.5</td>\n",
              "      <td>0.0</td>\n",
              "      <td>-273.149994</td>\n",
              "      <td>-0.543213</td>\n",
              "      <td>0.8968</td>\n",
              "      <td>0.0146</td>\n",
              "      <td>-0.2274</td>\n",
              "      <td>-0.171875</td>\n",
              "      <td>1.656250</td>\n",
              "      <td>1.984375</td>\n",
              "      <td>24.94</td>\n",
              "      <td>0.923953</td>\n",
              "      <td>34.00</td>\n",
              "    </tr>\n",
              "    <tr>\n",
              "      <th>517575</th>\n",
              "      <td>31727</td>\n",
              "      <td>79.0</td>\n",
              "      <td>m</td>\n",
              "      <td>28</td>\n",
              "      <td>183.0</td>\n",
              "      <td>2</td>\n",
              "      <td>5</td>\n",
              "      <td>0.0</td>\n",
              "      <td>80.853007</td>\n",
              "      <td>0.384018</td>\n",
              "      <td>-1.5</td>\n",
              "      <td>0.0</td>\n",
              "      <td>-273.149994</td>\n",
              "      <td>0.157166</td>\n",
              "      <td>0.8922</td>\n",
              "      <td>0.0138</td>\n",
              "      <td>-0.2306</td>\n",
              "      <td>-1.156250</td>\n",
              "      <td>-0.015625</td>\n",
              "      <td>-0.546875</td>\n",
              "      <td>1.79</td>\n",
              "      <td>0.912424</td>\n",
              "      <td>34.00</td>\n",
              "    </tr>\n",
              "  </tbody>\n",
              "</table>\n",
              "<p>517576 rows × 23 columns</p>\n",
              "</div>"
            ],
            "text/plain": [
              "        index  WEIGHT Gender  AGE  ...     wACC3   wBVP      wEDA  wTEMP\n",
              "0           0    78.0      m   34  ...  0.671875   7.28  4.722437  32.13\n",
              "1           1    78.0      m   34  ...  0.671875 -11.36  4.728843  32.16\n",
              "2           2    78.0      m   34  ...  0.671875 -51.27  4.718594  32.16\n",
              "3           3    78.0      m   34  ...  0.671875   5.65  4.717312  32.16\n",
              "4           4    78.0      m   34  ...  0.671875  34.34  4.713469  32.16\n",
              "...       ...     ...    ...  ...  ...       ...    ...       ...    ...\n",
              "517571  31723    79.0      m   28  ...  0.937500  25.31  0.931639  34.00\n",
              "517572  31724    79.0      m   28  ...  0.953125   1.58  0.931639  34.00\n",
              "517573  31725    79.0      m   28  ...  1.015625 -31.06  0.931639  34.00\n",
              "517574  31726    79.0      m   28  ...  1.984375  24.94  0.923953  34.00\n",
              "517575  31727    79.0      m   28  ... -0.546875   1.79  0.912424  34.00\n",
              "\n",
              "[517576 rows x 23 columns]"
            ]
          },
          "metadata": {
            "tags": []
          },
          "execution_count": 67
        }
      ]
    },
    {
      "cell_type": "code",
      "metadata": {
        "id": "GZfih7-G-OmS",
        "colab_type": "code",
        "outputId": "4f18c6af-a43d-4221-c5e1-79dce051f866",
        "colab": {
          "base_uri": "https://localhost:8080/",
          "height": 416
        }
      },
      "source": [
        "d = datafinal\n",
        "d.dtypes"
      ],
      "execution_count": 68,
      "outputs": [
        {
          "output_type": "execute_result",
          "data": {
            "text/plain": [
              "WEIGHT      float64\n",
              "Gender       object\n",
              "AGE           int64\n",
              "HEIGHT      float64\n",
              "SKIN          int64\n",
              "SPORT         int64\n",
              "Activity    float64\n",
              "label       float64\n",
              "ECG         float64\n",
              "EMG         float64\n",
              "EDA         float64\n",
              "Temp        float64\n",
              "Resp        float64\n",
              "ACC1        float64\n",
              "ACC2        float64\n",
              "ACC3        float64\n",
              "wACC1       float64\n",
              "wACC2       float64\n",
              "wACC3       float64\n",
              "wBVP        float64\n",
              "wEDA        float64\n",
              "wTEMP       float64\n",
              "dtype: object"
            ]
          },
          "metadata": {
            "tags": []
          },
          "execution_count": 68
        }
      ]
    },
    {
      "cell_type": "code",
      "metadata": {
        "id": "FlmloLpA1HXr",
        "colab_type": "code",
        "outputId": "d958d0b4-72f4-48bd-9529-008057eeffa7",
        "colab": {
          "base_uri": "https://localhost:8080/",
          "height": 436
        }
      },
      "source": [
        "d"
      ],
      "execution_count": 69,
      "outputs": [
        {
          "output_type": "execute_result",
          "data": {
            "text/html": [
              "<div>\n",
              "<style scoped>\n",
              "    .dataframe tbody tr th:only-of-type {\n",
              "        vertical-align: middle;\n",
              "    }\n",
              "\n",
              "    .dataframe tbody tr th {\n",
              "        vertical-align: top;\n",
              "    }\n",
              "\n",
              "    .dataframe thead th {\n",
              "        text-align: right;\n",
              "    }\n",
              "</style>\n",
              "<table border=\"1\" class=\"dataframe\">\n",
              "  <thead>\n",
              "    <tr style=\"text-align: right;\">\n",
              "      <th></th>\n",
              "      <th>WEIGHT</th>\n",
              "      <th>Gender</th>\n",
              "      <th>AGE</th>\n",
              "      <th>HEIGHT</th>\n",
              "      <th>SKIN</th>\n",
              "      <th>SPORT</th>\n",
              "      <th>Activity</th>\n",
              "      <th>label</th>\n",
              "      <th>ECG</th>\n",
              "      <th>EMG</th>\n",
              "      <th>EDA</th>\n",
              "      <th>Temp</th>\n",
              "      <th>Resp</th>\n",
              "      <th>ACC1</th>\n",
              "      <th>ACC2</th>\n",
              "      <th>ACC3</th>\n",
              "      <th>wACC1</th>\n",
              "      <th>wACC2</th>\n",
              "      <th>wACC3</th>\n",
              "      <th>wBVP</th>\n",
              "      <th>wEDA</th>\n",
              "      <th>wTEMP</th>\n",
              "    </tr>\n",
              "  </thead>\n",
              "  <tbody>\n",
              "    <tr>\n",
              "      <th>0</th>\n",
              "      <td>78.0</td>\n",
              "      <td>m</td>\n",
              "      <td>34</td>\n",
              "      <td>182.0</td>\n",
              "      <td>3</td>\n",
              "      <td>6</td>\n",
              "      <td>0.0</td>\n",
              "      <td>49.611369</td>\n",
              "      <td>0.015610</td>\n",
              "      <td>-1.5</td>\n",
              "      <td>0.0</td>\n",
              "      <td>-273.149994</td>\n",
              "      <td>4.441833</td>\n",
              "      <td>0.8564</td>\n",
              "      <td>-0.0678</td>\n",
              "      <td>-0.3656</td>\n",
              "      <td>-0.765625</td>\n",
              "      <td>-0.078125</td>\n",
              "      <td>0.671875</td>\n",
              "      <td>7.28</td>\n",
              "      <td>4.722437</td>\n",
              "      <td>32.13</td>\n",
              "    </tr>\n",
              "    <tr>\n",
              "      <th>1</th>\n",
              "      <td>78.0</td>\n",
              "      <td>m</td>\n",
              "      <td>34</td>\n",
              "      <td>182.0</td>\n",
              "      <td>3</td>\n",
              "      <td>6</td>\n",
              "      <td>0.0</td>\n",
              "      <td>49.611369</td>\n",
              "      <td>-0.015747</td>\n",
              "      <td>-1.5</td>\n",
              "      <td>0.0</td>\n",
              "      <td>-273.149994</td>\n",
              "      <td>4.876709</td>\n",
              "      <td>0.8514</td>\n",
              "      <td>-0.0654</td>\n",
              "      <td>-0.3688</td>\n",
              "      <td>-0.765625</td>\n",
              "      <td>-0.078125</td>\n",
              "      <td>0.671875</td>\n",
              "      <td>-11.36</td>\n",
              "      <td>4.728843</td>\n",
              "      <td>32.16</td>\n",
              "    </tr>\n",
              "    <tr>\n",
              "      <th>2</th>\n",
              "      <td>78.0</td>\n",
              "      <td>m</td>\n",
              "      <td>34</td>\n",
              "      <td>182.0</td>\n",
              "      <td>3</td>\n",
              "      <td>6</td>\n",
              "      <td>0.0</td>\n",
              "      <td>49.611369</td>\n",
              "      <td>-0.008743</td>\n",
              "      <td>-1.5</td>\n",
              "      <td>0.0</td>\n",
              "      <td>-273.149994</td>\n",
              "      <td>3.340149</td>\n",
              "      <td>0.8514</td>\n",
              "      <td>-0.0662</td>\n",
              "      <td>-0.3708</td>\n",
              "      <td>-0.765625</td>\n",
              "      <td>-0.078125</td>\n",
              "      <td>0.671875</td>\n",
              "      <td>-51.27</td>\n",
              "      <td>4.718594</td>\n",
              "      <td>32.16</td>\n",
              "    </tr>\n",
              "    <tr>\n",
              "      <th>3</th>\n",
              "      <td>78.0</td>\n",
              "      <td>m</td>\n",
              "      <td>34</td>\n",
              "      <td>182.0</td>\n",
              "      <td>3</td>\n",
              "      <td>6</td>\n",
              "      <td>0.0</td>\n",
              "      <td>49.611369</td>\n",
              "      <td>-0.339523</td>\n",
              "      <td>-1.5</td>\n",
              "      <td>0.0</td>\n",
              "      <td>-273.149994</td>\n",
              "      <td>0.740051</td>\n",
              "      <td>0.8594</td>\n",
              "      <td>-0.0632</td>\n",
              "      <td>-0.3640</td>\n",
              "      <td>-0.750000</td>\n",
              "      <td>-0.078125</td>\n",
              "      <td>0.671875</td>\n",
              "      <td>5.65</td>\n",
              "      <td>4.717312</td>\n",
              "      <td>32.16</td>\n",
              "    </tr>\n",
              "    <tr>\n",
              "      <th>4</th>\n",
              "      <td>78.0</td>\n",
              "      <td>m</td>\n",
              "      <td>34</td>\n",
              "      <td>182.0</td>\n",
              "      <td>3</td>\n",
              "      <td>6</td>\n",
              "      <td>0.0</td>\n",
              "      <td>49.611369</td>\n",
              "      <td>-0.089905</td>\n",
              "      <td>-1.5</td>\n",
              "      <td>0.0</td>\n",
              "      <td>-273.149994</td>\n",
              "      <td>-1.475525</td>\n",
              "      <td>0.8510</td>\n",
              "      <td>-0.0674</td>\n",
              "      <td>-0.3694</td>\n",
              "      <td>-0.765625</td>\n",
              "      <td>-0.078125</td>\n",
              "      <td>0.671875</td>\n",
              "      <td>34.34</td>\n",
              "      <td>4.713469</td>\n",
              "      <td>32.16</td>\n",
              "    </tr>\n",
              "    <tr>\n",
              "      <th>...</th>\n",
              "      <td>...</td>\n",
              "      <td>...</td>\n",
              "      <td>...</td>\n",
              "      <td>...</td>\n",
              "      <td>...</td>\n",
              "      <td>...</td>\n",
              "      <td>...</td>\n",
              "      <td>...</td>\n",
              "      <td>...</td>\n",
              "      <td>...</td>\n",
              "      <td>...</td>\n",
              "      <td>...</td>\n",
              "      <td>...</td>\n",
              "      <td>...</td>\n",
              "      <td>...</td>\n",
              "      <td>...</td>\n",
              "      <td>...</td>\n",
              "      <td>...</td>\n",
              "      <td>...</td>\n",
              "      <td>...</td>\n",
              "      <td>...</td>\n",
              "      <td>...</td>\n",
              "    </tr>\n",
              "    <tr>\n",
              "      <th>31723</th>\n",
              "      <td>79.0</td>\n",
              "      <td>m</td>\n",
              "      <td>28</td>\n",
              "      <td>183.0</td>\n",
              "      <td>2</td>\n",
              "      <td>5</td>\n",
              "      <td>0.0</td>\n",
              "      <td>80.853007</td>\n",
              "      <td>-1.126144</td>\n",
              "      <td>-1.5</td>\n",
              "      <td>0.0</td>\n",
              "      <td>-273.149994</td>\n",
              "      <td>-0.257874</td>\n",
              "      <td>0.8942</td>\n",
              "      <td>0.0204</td>\n",
              "      <td>-0.2178</td>\n",
              "      <td>-0.296875</td>\n",
              "      <td>-0.015625</td>\n",
              "      <td>0.937500</td>\n",
              "      <td>25.31</td>\n",
              "      <td>0.931639</td>\n",
              "      <td>34.00</td>\n",
              "    </tr>\n",
              "    <tr>\n",
              "      <th>31724</th>\n",
              "      <td>79.0</td>\n",
              "      <td>m</td>\n",
              "      <td>28</td>\n",
              "      <td>183.0</td>\n",
              "      <td>2</td>\n",
              "      <td>5</td>\n",
              "      <td>0.0</td>\n",
              "      <td>80.853007</td>\n",
              "      <td>0.322678</td>\n",
              "      <td>-1.5</td>\n",
              "      <td>0.0</td>\n",
              "      <td>-273.149994</td>\n",
              "      <td>-0.440979</td>\n",
              "      <td>0.8986</td>\n",
              "      <td>0.0138</td>\n",
              "      <td>-0.2318</td>\n",
              "      <td>-0.296875</td>\n",
              "      <td>-0.015625</td>\n",
              "      <td>0.953125</td>\n",
              "      <td>1.58</td>\n",
              "      <td>0.931639</td>\n",
              "      <td>34.00</td>\n",
              "    </tr>\n",
              "    <tr>\n",
              "      <th>31725</th>\n",
              "      <td>79.0</td>\n",
              "      <td>m</td>\n",
              "      <td>28</td>\n",
              "      <td>183.0</td>\n",
              "      <td>2</td>\n",
              "      <td>5</td>\n",
              "      <td>0.0</td>\n",
              "      <td>80.853007</td>\n",
              "      <td>-0.133118</td>\n",
              "      <td>-1.5</td>\n",
              "      <td>0.0</td>\n",
              "      <td>-273.149994</td>\n",
              "      <td>-0.627136</td>\n",
              "      <td>0.8952</td>\n",
              "      <td>0.0124</td>\n",
              "      <td>-0.2252</td>\n",
              "      <td>-0.015625</td>\n",
              "      <td>-0.015625</td>\n",
              "      <td>1.015625</td>\n",
              "      <td>-31.06</td>\n",
              "      <td>0.931639</td>\n",
              "      <td>34.00</td>\n",
              "    </tr>\n",
              "    <tr>\n",
              "      <th>31726</th>\n",
              "      <td>79.0</td>\n",
              "      <td>m</td>\n",
              "      <td>28</td>\n",
              "      <td>183.0</td>\n",
              "      <td>2</td>\n",
              "      <td>5</td>\n",
              "      <td>0.0</td>\n",
              "      <td>80.853007</td>\n",
              "      <td>-0.416519</td>\n",
              "      <td>-1.5</td>\n",
              "      <td>0.0</td>\n",
              "      <td>-273.149994</td>\n",
              "      <td>-0.543213</td>\n",
              "      <td>0.8968</td>\n",
              "      <td>0.0146</td>\n",
              "      <td>-0.2274</td>\n",
              "      <td>-0.171875</td>\n",
              "      <td>1.656250</td>\n",
              "      <td>1.984375</td>\n",
              "      <td>24.94</td>\n",
              "      <td>0.923953</td>\n",
              "      <td>34.00</td>\n",
              "    </tr>\n",
              "    <tr>\n",
              "      <th>31727</th>\n",
              "      <td>79.0</td>\n",
              "      <td>m</td>\n",
              "      <td>28</td>\n",
              "      <td>183.0</td>\n",
              "      <td>2</td>\n",
              "      <td>5</td>\n",
              "      <td>0.0</td>\n",
              "      <td>80.853007</td>\n",
              "      <td>0.384018</td>\n",
              "      <td>-1.5</td>\n",
              "      <td>0.0</td>\n",
              "      <td>-273.149994</td>\n",
              "      <td>0.157166</td>\n",
              "      <td>0.8922</td>\n",
              "      <td>0.0138</td>\n",
              "      <td>-0.2306</td>\n",
              "      <td>-1.156250</td>\n",
              "      <td>-0.015625</td>\n",
              "      <td>-0.546875</td>\n",
              "      <td>1.79</td>\n",
              "      <td>0.912424</td>\n",
              "      <td>34.00</td>\n",
              "    </tr>\n",
              "  </tbody>\n",
              "</table>\n",
              "<p>517576 rows × 22 columns</p>\n",
              "</div>"
            ],
            "text/plain": [
              "       WEIGHT Gender  AGE  HEIGHT  ...     wACC3   wBVP      wEDA  wTEMP\n",
              "0        78.0      m   34   182.0  ...  0.671875   7.28  4.722437  32.13\n",
              "1        78.0      m   34   182.0  ...  0.671875 -11.36  4.728843  32.16\n",
              "2        78.0      m   34   182.0  ...  0.671875 -51.27  4.718594  32.16\n",
              "3        78.0      m   34   182.0  ...  0.671875   5.65  4.717312  32.16\n",
              "4        78.0      m   34   182.0  ...  0.671875  34.34  4.713469  32.16\n",
              "...       ...    ...  ...     ...  ...       ...    ...       ...    ...\n",
              "31723    79.0      m   28   183.0  ...  0.937500  25.31  0.931639  34.00\n",
              "31724    79.0      m   28   183.0  ...  0.953125   1.58  0.931639  34.00\n",
              "31725    79.0      m   28   183.0  ...  1.015625 -31.06  0.931639  34.00\n",
              "31726    79.0      m   28   183.0  ...  1.984375  24.94  0.923953  34.00\n",
              "31727    79.0      m   28   183.0  ... -0.546875   1.79  0.912424  34.00\n",
              "\n",
              "[517576 rows x 22 columns]"
            ]
          },
          "metadata": {
            "tags": []
          },
          "execution_count": 69
        }
      ]
    },
    {
      "cell_type": "code",
      "metadata": {
        "id": "L3gvroGdIuzi",
        "colab_type": "code",
        "outputId": "419303c0-0fee-406c-e8f7-025f5d056e1f",
        "colab": {
          "base_uri": "https://localhost:8080/",
          "height": 381
        }
      },
      "source": [
        "a = list(d.columns)\n",
        "a.remove('Activity')\n",
        "a"
      ],
      "execution_count": 70,
      "outputs": [
        {
          "output_type": "execute_result",
          "data": {
            "text/plain": [
              "['WEIGHT',\n",
              " 'Gender',\n",
              " 'AGE',\n",
              " 'HEIGHT',\n",
              " 'SKIN',\n",
              " 'SPORT',\n",
              " 'label',\n",
              " 'ECG',\n",
              " 'EMG',\n",
              " 'EDA',\n",
              " 'Temp',\n",
              " 'Resp',\n",
              " 'ACC1',\n",
              " 'ACC2',\n",
              " 'ACC3',\n",
              " 'wACC1',\n",
              " 'wACC2',\n",
              " 'wACC3',\n",
              " 'wBVP',\n",
              " 'wEDA',\n",
              " 'wTEMP']"
            ]
          },
          "metadata": {
            "tags": []
          },
          "execution_count": 70
        }
      ]
    },
    {
      "cell_type": "code",
      "metadata": {
        "id": "AOYko-F0EC5H",
        "colab_type": "code",
        "colab": {
          "base_uri": "https://localhost:8080/",
          "height": 398
        },
        "outputId": "83a2b561-57a9-420a-f25c-cbb358677721"
      },
      "source": [
        "list(d.columns)"
      ],
      "execution_count": 71,
      "outputs": [
        {
          "output_type": "execute_result",
          "data": {
            "text/plain": [
              "['WEIGHT',\n",
              " 'Gender',\n",
              " 'AGE',\n",
              " 'HEIGHT',\n",
              " 'SKIN',\n",
              " 'SPORT',\n",
              " 'Activity',\n",
              " 'label',\n",
              " 'ECG',\n",
              " 'EMG',\n",
              " 'EDA',\n",
              " 'Temp',\n",
              " 'Resp',\n",
              " 'ACC1',\n",
              " 'ACC2',\n",
              " 'ACC3',\n",
              " 'wACC1',\n",
              " 'wACC2',\n",
              " 'wACC3',\n",
              " 'wBVP',\n",
              " 'wEDA',\n",
              " 'wTEMP']"
            ]
          },
          "metadata": {
            "tags": []
          },
          "execution_count": 71
        }
      ]
    },
    {
      "cell_type": "code",
      "metadata": {
        "id": "GKcMdFj9sPCe",
        "colab_type": "code",
        "colab": {}
      },
      "source": [
        "target = 'Activity'\n",
        "d['Gender'] = d['Gender'].apply(lambda r : True if (r == 'f') else False)\n",
        "\n",
        "X = d[a]\n",
        "y = d[target]"
      ],
      "execution_count": 0,
      "outputs": []
    },
    {
      "cell_type": "code",
      "metadata": {
        "id": "r_936WQFDGQa",
        "colab_type": "code",
        "outputId": "02954696-34da-436b-e27d-b9a30ae4aaea",
        "colab": {
          "base_uri": "https://localhost:8080/",
          "height": 416
        }
      },
      "source": [
        "d.astype('float32').dtypes"
      ],
      "execution_count": 73,
      "outputs": [
        {
          "output_type": "execute_result",
          "data": {
            "text/plain": [
              "WEIGHT      float32\n",
              "Gender      float32\n",
              "AGE         float32\n",
              "HEIGHT      float32\n",
              "SKIN        float32\n",
              "SPORT       float32\n",
              "Activity    float32\n",
              "label       float32\n",
              "ECG         float32\n",
              "EMG         float32\n",
              "EDA         float32\n",
              "Temp        float32\n",
              "Resp        float32\n",
              "ACC1        float32\n",
              "ACC2        float32\n",
              "ACC3        float32\n",
              "wACC1       float32\n",
              "wACC2       float32\n",
              "wACC3       float32\n",
              "wBVP        float32\n",
              "wEDA        float32\n",
              "wTEMP       float32\n",
              "dtype: object"
            ]
          },
          "metadata": {
            "tags": []
          },
          "execution_count": 73
        }
      ]
    },
    {
      "cell_type": "code",
      "metadata": {
        "id": "xUtv0_qdxags",
        "colab_type": "code",
        "outputId": "5eb7693d-07df-476c-8896-87c3a8a1c806",
        "colab": {
          "base_uri": "https://localhost:8080/",
          "height": 225
        }
      },
      "source": [
        "d.Activity.astype(int)"
      ],
      "execution_count": 74,
      "outputs": [
        {
          "output_type": "execute_result",
          "data": {
            "text/plain": [
              "0        0\n",
              "1        0\n",
              "2        0\n",
              "3        0\n",
              "4        0\n",
              "        ..\n",
              "31723    0\n",
              "31724    0\n",
              "31725    0\n",
              "31726    0\n",
              "31727    0\n",
              "Name: Activity, Length: 517576, dtype: int64"
            ]
          },
          "metadata": {
            "tags": []
          },
          "execution_count": 74
        }
      ]
    },
    {
      "cell_type": "markdown",
      "metadata": {
        "id": "jTwjSxNf41qv",
        "colab_type": "text"
      },
      "source": [
        "## Random Forest"
      ]
    },
    {
      "cell_type": "code",
      "metadata": {
        "id": "kefr-0hKsmNR",
        "colab_type": "code",
        "colab": {}
      },
      "source": [
        "from sklearn.model_selection import train_test_split\n",
        "from sklearn.preprocessing import StandardScaler\n",
        "from sklearn.ensemble import RandomForestRegressor\n",
        "\n",
        "X_train, X_test, y_train, y_test = train_test_split(X, y, test_size=0.2, random_state=27)\n",
        "\n",
        "sc = StandardScaler()\n",
        "X_train = sc.fit_transform(X_train)\n",
        "X_test = sc.transform(X_test)\n",
        "\n",
        "\n",
        "regressor = RandomForestRegressor(n_estimators=20, random_state=67,n_jobs=2)\n",
        "regressor.fit(X_train, y_train)\n",
        "y_pred = regressor.predict(X_test)"
      ],
      "execution_count": 0,
      "outputs": []
    },
    {
      "cell_type": "code",
      "metadata": {
        "id": "BdUqCi-2Fo7k",
        "colab_type": "code",
        "outputId": "418b4d9d-7939-4000-8a69-ed737989ab73",
        "colab": {
          "base_uri": "https://localhost:8080/",
          "height": 34
        }
      },
      "source": [
        "print(y_pred)"
      ],
      "execution_count": 76,
      "outputs": [
        {
          "output_type": "stream",
          "text": [
            "[1.   4.   8.   ... 8.   1.   0.25]\n"
          ],
          "name": "stdout"
        }
      ]
    },
    {
      "cell_type": "code",
      "metadata": {
        "id": "qqkoKAvLtYGh",
        "colab_type": "code",
        "outputId": "ad848e03-5b8a-43f4-8352-69ceebc12df5",
        "colab": {
          "base_uri": "https://localhost:8080/",
          "height": 69
        }
      },
      "source": [
        "from sklearn import metrics\n",
        "\n",
        "print('Mean Absolute Error:', metrics.mean_absolute_error(y_test, y_pred))\n",
        "print('Mean Squared Error:', metrics.mean_squared_error(y_test, y_pred))\n",
        "print('Root Mean Squared Error:', np.sqrt(metrics.mean_squared_error(y_test, y_pred)))"
      ],
      "execution_count": 77,
      "outputs": [
        {
          "output_type": "stream",
          "text": [
            "Mean Absolute Error: 0.13445216198462073\n",
            "Mean Squared Error: 0.25962162854051546\n",
            "Root Mean Squared Error: 0.5095307925341858\n"
          ],
          "name": "stdout"
        }
      ]
    },
    {
      "cell_type": "code",
      "metadata": {
        "id": "vl_gz7dUuUKC",
        "colab_type": "code",
        "colab": {}
      },
      "source": [
        "y_testint = []\n",
        "[y_testint.append(int(i)) for i in y_test]\n",
        "\n",
        "\n",
        "y_predint = []\n",
        "[y_predint.append(int(round(i))) for i in y_pred]"
      ],
      "execution_count": 0,
      "outputs": []
    },
    {
      "cell_type": "code",
      "metadata": {
        "id": "wk9QmS_PvIhJ",
        "colab_type": "code",
        "outputId": "fe988655-1e3b-4e8c-f79f-666aa6a1c0d1",
        "colab": {
          "base_uri": "https://localhost:8080/",
          "height": 34
        }
      },
      "source": [
        "from collections import Counter\n",
        "\n",
        "Counter(y_testint).keys() # equals to list(set(words))\n",
        "Counter(y_testint).values() # counts the elements' frequency"
      ],
      "execution_count": 79,
      "outputs": [
        {
          "output_type": "execute_result",
          "data": {
            "text/plain": [
              "dict_values([7285, 5625, 13557, 5270, 27953, 21841, 3714, 10665, 7606])"
            ]
          },
          "metadata": {
            "tags": []
          },
          "execution_count": 79
        }
      ]
    },
    {
      "cell_type": "code",
      "metadata": {
        "id": "fThDwpblHKhE",
        "colab_type": "code",
        "colab": {}
      },
      "source": [
        "def matrice_confusion(y_testint,y_predint):\n",
        "  import numpy as np\n",
        "  import matplotlib.pyplot as plt\n",
        "\n",
        "  from sklearn.metrics import plot_confusion_matrix\n",
        "  from mlxtend.plotting import plot_confusion_matrix\n",
        "  from sklearn.metrics import confusion_matrix\n",
        "\n",
        "  fig, ax = plot_confusion_matrix(conf_mat=confusion_matrix(y_testint, y_predint),\n",
        "                                colorbar=True,\n",
        "                                figsize= (15,15),\n",
        "                                show_absolute=False,\n",
        "                                show_normed=True)\n",
        "  "
      ],
      "execution_count": 0,
      "outputs": []
    },
    {
      "cell_type": "code",
      "metadata": {
        "id": "6Y7JLXiKsGAL",
        "colab_type": "code",
        "outputId": "51b4b917-7788-4910-e08b-bf970d744fef",
        "colab": {
          "base_uri": "https://localhost:8080/",
          "height": 852
        }
      },
      "source": [
        "matrice_confusion(y_testint,y_predint)"
      ],
      "execution_count": 81,
      "outputs": [
        {
          "output_type": "display_data",
          "data": {
            "image/png": "[encoded data removed]",
            "text/plain": [
              "<Figure size 1080x1080 with 2 Axes>"
            ]
          },
          "metadata": {
            "tags": []
          }
        }
      ]
    },
    {
      "cell_type": "code",
      "metadata": {
        "id": "qqeDLfDw5EnB",
        "colab_type": "code",
        "outputId": "8afdcdbf-147b-4d3c-c8fe-411f4deedd92",
        "colab": {
          "base_uri": "https://localhost:8080/",
          "height": 34
        }
      },
      "source": [
        "from sklearn.metrics import accuracy_score\n",
        "accuracy_score(y_testint, y_predint)"
      ],
      "execution_count": 82,
      "outputs": [
        {
          "output_type": "execute_result",
          "data": {
            "text/plain": [
              "0.9281946752192898"
            ]
          },
          "metadata": {
            "tags": []
          },
          "execution_count": 82
        }
      ]
    },
    {
      "cell_type": "code",
      "metadata": {
        "id": "bzfHX8XbqMKc",
        "colab_type": "code",
        "outputId": "48dc9a49-130f-437d-f998-7c738e1fd127",
        "colab": {
          "base_uri": "https://localhost:8080/",
          "height": 398
        }
      },
      "source": [
        "#Variables importantes\n",
        "feature_imp = pd.Series(regressor.feature_importances_,index=a).sort_values(ascending=False)\n",
        "feature_imp"
      ],
      "execution_count": 83,
      "outputs": [
        {
          "output_type": "execute_result",
          "data": {
            "text/plain": [
              "wTEMP     0.254073\n",
              "wEDA      0.193511\n",
              "label     0.162585\n",
              "wACC2     0.094895\n",
              "ACC3      0.056226\n",
              "wACC3     0.043831\n",
              "AGE       0.042746\n",
              "HEIGHT    0.040329\n",
              "WEIGHT    0.032406\n",
              "ACC2      0.027240\n",
              "SPORT     0.017515\n",
              "wACC1     0.010337\n",
              "ACC1      0.009031\n",
              "SKIN      0.006136\n",
              "Resp      0.004913\n",
              "wBVP      0.002277\n",
              "ECG       0.001951\n",
              "EDA       0.000000\n",
              "EMG       0.000000\n",
              "Gender    0.000000\n",
              "Temp      0.000000\n",
              "dtype: float64"
            ]
          },
          "metadata": {
            "tags": []
          },
          "execution_count": 83
        }
      ]
    },
    {
      "cell_type": "code",
      "metadata": {
        "id": "fgWKd6m0q2Ge",
        "colab_type": "code",
        "outputId": "e6de6418-8f3c-439a-b459-fe342d3db803",
        "colab": {
          "base_uri": "https://localhost:8080/",
          "height": 312
        }
      },
      "source": [
        "import matplotlib.pyplot as plt\n",
        "import seaborn as sns\n",
        "%matplotlib inline\n",
        "# Creating a bar plot\n",
        "sns.barplot(x=feature_imp, y=feature_imp.index)\n",
        "# Add labels to your graph\n",
        "plt.xlabel('Feature Importance Score')\n",
        "plt.ylabel('Features')\n",
        "plt.title(\"Visualizing Important Features\")\n",
        "plt.legend()\n",
        "plt.show()"
      ],
      "execution_count": 84,
      "outputs": [
        {
          "output_type": "stream",
          "text": [
            "No handles with labels found to put in legend.\n"
          ],
          "name": "stderr"
        },
        {
          "output_type": "display_data",
          "data": {
            "image/png": "[encoded data removed]",
            "text/plain": [
              "<Figure size 432x288 with 1 Axes>"
            ]
          },
          "metadata": {
            "tags": []
          }
        }
      ]
    },
    {
      "cell_type": "code",
      "metadata": {
        "id": "LoTFVXSWtFEm",
        "colab_type": "code",
        "outputId": "c127a204-8689-488c-c466-329c925b5a73",
        "colab": {
          "base_uri": "https://localhost:8080/",
          "height": 34
        }
      },
      "source": [
        "from sklearn.model_selection import RandomizedSearchCV\n",
        "# Number of trees in random forest\n",
        "n_estimators = [20]\n",
        "# Number of features to consider at every split\n",
        "max_features = ['auto', 'sqrt']\n",
        "# Minimum number of samples required to split a node\n",
        "min_samples_split = [2, 5, 10]\n",
        "# Minimum number of samples required at each leaf node\n",
        "min_samples_leaf = [1, 2, 4]\n",
        "# Method of selecting samples for training each tree\n",
        "bootstrap = [True, False]\n",
        "# Create the random grid\n",
        "random_grid = {'n_estimators': n_estimators,\n",
        "               'max_features': max_features,\n",
        "               'min_samples_split': min_samples_split,\n",
        "               'min_samples_leaf': min_samples_leaf,\n",
        "               'bootstrap': bootstrap}\n",
        "print(random_grid)\n"
      ],
      "execution_count": 111,
      "outputs": [
        {
          "output_type": "stream",
          "text": [
            "{'n_estimators': [20], 'max_features': ['auto', 'sqrt'], 'min_samples_split': [2, 5, 10], 'min_samples_leaf': [1, 2, 4], 'bootstrap': [True, False]}\n"
          ],
          "name": "stdout"
        }
      ]
    },
    {
      "cell_type": "code",
      "metadata": {
        "id": "NlNrBSgytVGr",
        "colab_type": "code",
        "colab": {}
      },
      "source": [
        "# Use the random grid to search for best hyperparameters\n",
        "# First create the base model to tune\n",
        "rf = RandomForestRegressor()\n",
        "# Random search of parameters, using 3 fold cross validation, \n",
        "# search across 100 different combinations, and use all available cores\n",
        "rf_random = RandomizedSearchCV(estimator = rf, param_distributions = random_grid, n_iter = 50, cv = 3, verbose=2, random_state=42, n_jobs = -1)\n",
        "# Fit the random search model\n",
        "rf_random.fit(X_train, y_train)"
      ],
      "execution_count": 0,
      "outputs": []
    },
    {
      "cell_type": "markdown",
      "metadata": {
        "id": "5Cu46dwi4vEE",
        "colab_type": "text"
      },
      "source": [
        "## Regression logistique"
      ]
    },
    {
      "cell_type": "code",
      "metadata": {
        "id": "Sr2Pug1a4Q5E",
        "colab_type": "code",
        "outputId": "d57ae943-a0bc-4d92-e8ac-2211f5d1dcb2",
        "colab": {
          "base_uri": "https://localhost:8080/",
          "height": 173
        }
      },
      "source": [
        "#Link : https://scikit-learn.org/stable/modules/generated/sklearn.linear_model.LogisticRegression.html\n",
        "\n",
        "from sklearn.linear_model import LogisticRegression\n",
        "X_train, X_test, y_train, y_test = train_test_split(X, y, test_size=0.2, random_state=27)\n",
        "\n",
        "clf = LogisticRegression().fit(X_train, y_train)\n",
        "y_pred = clf.predict(X_test)\n",
        "\n",
        "y_testint = []\n",
        "[y_testint.append(int(i)) for i in y_test]\n",
        "\n",
        "\n",
        "y_predint = []\n",
        "[y_predint.append(int(round(i))) for i in y_pred]\n",
        "accuracy_score(y_testint, y_predint)"
      ],
      "execution_count": 87,
      "outputs": [
        {
          "output_type": "stream",
          "text": [
            "/usr/local/lib/python3.6/dist-packages/sklearn/linear_model/_logistic.py:940: ConvergenceWarning: lbfgs failed to converge (status=1):\n",
            "STOP: TOTAL NO. of ITERATIONS REACHED LIMIT.\n",
            "\n",
            "Increase the number of iterations (max_iter) or scale the data as shown in:\n",
            "    https://scikit-learn.org/stable/modules/preprocessing.html\n",
            "Please also refer to the documentation for alternative solver options:\n",
            "    https://scikit-learn.org/stable/modules/linear_model.html#logistic-regression\n",
            "  extra_warning_msg=_LOGISTIC_SOLVER_CONVERGENCE_MSG)\n"
          ],
          "name": "stderr"
        },
        {
          "output_type": "execute_result",
          "data": {
            "text/plain": [
              "0.44048263070443217"
            ]
          },
          "metadata": {
            "tags": []
          },
          "execution_count": 87
        }
      ]
    },
    {
      "cell_type": "markdown",
      "metadata": {
        "id": "i7rKhkxHA9iQ",
        "colab_type": "text"
      },
      "source": [
        "## SVM : Trop lent"
      ]
    },
    {
      "cell_type": "code",
      "metadata": {
        "id": "gULc-iPJA_ZZ",
        "colab_type": "code",
        "colab": {}
      },
      "source": [
        "from sklearn import svm\n",
        "algorithme = svm.SVR(kernel='linear')\n",
        "algorithme.fit(X_train,y_train)\n",
        "score      = algorithme.score(X_test, y_test)\n",
        "performances[algorithme] = score"
      ],
      "execution_count": 0,
      "outputs": []
    },
    {
      "cell_type": "markdown",
      "metadata": {
        "id": "ErYGUn0OA6Ok",
        "colab_type": "text"
      },
      "source": [
        "#Save the model "
      ]
    },
    {
      "cell_type": "code",
      "metadata": {
        "id": "xFrhPS0QFXqI",
        "colab_type": "code",
        "colab": {
          "base_uri": "https://localhost:8080/",
          "height": 34
        },
        "outputId": "ce2ba0d9-57c5-4e90-8298-cc520bcbd672"
      },
      "source": [
        "from sklearn.externals import joblib\n",
        "filename = 'randomforest.sav'\n",
        "joblib.dump(regressor, filename)\n",
        "\n",
        "\n",
        "#Scalar \n",
        "filename2 = 'sc.sav'\n",
        "joblib.dump(sc, filename2)"
      ],
      "execution_count": 96,
      "outputs": [
        {
          "output_type": "execute_result",
          "data": {
            "text/plain": [
              "['sc.sav']"
            ]
          },
          "metadata": {
            "tags": []
          },
          "execution_count": 96
        }
      ]
    },
    {
      "cell_type": "code",
      "metadata": {
        "id": "6R3kA2WWF-UQ",
        "colab_type": "code",
        "colab": {}
      },
      "source": [
        "scaler2 = joblib.load(\"sc.sav\")\n",
        "X = scaler2.transform(X)\n",
        "lm2 = joblib.load(\"randomforest.sav\")"
      ],
      "execution_count": 0,
      "outputs": []
    },
    {
      "cell_type": "code",
      "metadata": {
        "id": "vb05A4ZfGAIt",
        "colab_type": "code",
        "colab": {
          "base_uri": "https://localhost:8080/",
          "height": 34
        },
        "outputId": "5f833002-75c8-4d44-9f7e-7052acd51de0"
      },
      "source": [
        "lm2.predict(X)"
      ],
      "execution_count": 100,
      "outputs": [
        {
          "output_type": "execute_result",
          "data": {
            "text/plain": [
              "array([4.4 , 4.4 , 4.4 , ..., 2.65, 2.65, 2.35])"
            ]
          },
          "metadata": {
            "tags": []
          },
          "execution_count": 100
        }
      ]
    },
    {
      "cell_type": "code",
      "metadata": {
        "id": "NN2WPpeugniU",
        "colab_type": "code",
        "colab": {}
      },
      "source": [
        ""
      ],
      "execution_count": 0,
      "outputs": []
    }
  ]
}