{
  "nbformat": 4,
  "nbformat_minor": 0,
  "metadata": {
    "colab": {
      "name": "Pythonanalysis.ipynb",
      "provenance": [],
      "toc_visible": true,
      "include_colab_link": true
    },
    "kernelspec": {
      "name": "python3",
      "display_name": "Python 3"
    },
    "accelerator": "TPU"
  },
  "cells": [
    {
      "cell_type": "markdown",
      "metadata": {
        "id": "view-in-github",
        "colab_type": "text"
      },
      "source": [
        "<a href=\"https://colab.research.google.com/github/lydiasu1/pythonanalysis/blob/master/Pythonanalysis.ipynb\" target=\"_parent\"><img src=\"https://colab.research.google.com/assets/colab-badge.svg\" alt=\"Open In Colab\"/></a>"
      ]
    },
    {
      "cell_type": "markdown",
      "metadata": {
        "id": "JUCr9TeMMluV",
        "colab_type": "text"
      },
      "source": [
        "Lien de la dataset : https://archive.ics.uci.edu/ml/datasets/PPG-DaLiA\n",
        "\n",
        "PPG-DaLiA contains data from 15 subjects wearing physiological and motion sensors, providing a PPG dataset for motion compensation and heart rate estimation in Daily Life Activities.\n",
        "\n",
        "Objectif : Classification -> Prédire l'activité de la personne\n",
        "\n",
        "Enregistrement des données sur 15 personnes\n",
        "Informations de ces 15 personnes dans SX_quest.csv\n",
        "Informations sur les activités et leur durées : Table 2\n",
        "\n",
        "\n",
        "A faire : \n",
        "- Comprendre comment utiliser rpeaks\n",
        "\n",
        "Faites : \n"
      ]
    },
    {
      "cell_type": "code",
      "metadata": {
        "id": "7iNlASAaMkj2",
        "colab_type": "code",
        "outputId": "697003de-a581-4c87-8569-2c62316e66b1",
        "colab": {
          "base_uri": "https://localhost:8080/",
          "height": 66
        }
      },
      "source": [
        "!curl https://archive.ics.uci.edu/ml/machine-learning-databases/00495/data.zip --output data"
      ],
      "execution_count": 3,
      "outputs": [
        {
          "output_type": "stream",
          "text": [
            "  % Total    % Received % Xferd  Average Speed   Time    Time     Time  Current\n",
            "                                 Dload  Upload   Total   Spent    Left  Speed\n",
            "100 2731M  100 2731M    0     0  72.3M      0  0:00:37  0:00:37 --:--:-- 73.5M\n"
          ],
          "name": "stdout"
        }
      ]
    },
    {
      "cell_type": "code",
      "metadata": {
        "id": "cZS0qhrlUfBb",
        "colab_type": "code",
        "colab": {
          "base_uri": "https://localhost:8080/",
          "height": 1000
        },
        "outputId": "adb72ef1-d60b-4b08-aa9b-aa1991b8b91f"
      },
      "source": [
        "!unzip data"
      ],
      "execution_count": 4,
      "outputs": [
        {
          "output_type": "stream",
          "text": [
            "Archive:  data\n",
            "   creating: PPG_FieldStudy/\n",
            "  inflating: PPG_FieldStudy/PPG_FieldStudy_readme.pdf  \n",
            "   creating: PPG_FieldStudy/S1/\n",
            "   creating: PPG_FieldStudy/S10/\n",
            "  inflating: PPG_FieldStudy/S10/S10.pkl  \n",
            "  inflating: PPG_FieldStudy/S10/S10_activity.csv  \n",
            "  inflating: PPG_FieldStudy/S10/S10_E4.zip  \n",
            "  inflating: PPG_FieldStudy/S10/S10_quest.csv  \n",
            "  inflating: PPG_FieldStudy/S10/S10_RespiBAN.h5  \n",
            "   creating: PPG_FieldStudy/S11/\n",
            "  inflating: PPG_FieldStudy/S11/S11.pkl  \n",
            "  inflating: PPG_FieldStudy/S11/S11_activity.csv  \n",
            "  inflating: PPG_FieldStudy/S11/S11_E4.zip  \n",
            "  inflating: PPG_FieldStudy/S11/S11_quest.csv  \n",
            "  inflating: PPG_FieldStudy/S11/S11_RespiBAN.h5  \n",
            "   creating: PPG_FieldStudy/S12/\n",
            "  inflating: PPG_FieldStudy/S12/S12.pkl  \n",
            "  inflating: PPG_FieldStudy/S12/S12_activity.csv  \n",
            "  inflating: PPG_FieldStudy/S12/S12_E4.zip  \n",
            "  inflating: PPG_FieldStudy/S12/S12_quest.csv  \n",
            "  inflating: PPG_FieldStudy/S12/S12_RespiBAN.h5  \n",
            "   creating: PPG_FieldStudy/S13/\n",
            "  inflating: PPG_FieldStudy/S13/S13.pkl  \n",
            "  inflating: PPG_FieldStudy/S13/S13_activity.csv  \n",
            "  inflating: PPG_FieldStudy/S13/S13_E4.zip  \n",
            "  inflating: PPG_FieldStudy/S13/S13_quest.csv  \n",
            "  inflating: PPG_FieldStudy/S13/S13_RespiBAN.h5  \n",
            "   creating: PPG_FieldStudy/S14/\n",
            "  inflating: PPG_FieldStudy/S14/S14.pkl  \n",
            "  inflating: PPG_FieldStudy/S14/S14_activity.csv  \n",
            "  inflating: PPG_FieldStudy/S14/S14_E4.zip  \n",
            "  inflating: PPG_FieldStudy/S14/S14_quest.csv  \n",
            "  inflating: PPG_FieldStudy/S14/S14_RespiBAN.h5  \n",
            "   creating: PPG_FieldStudy/S15/\n",
            "  inflating: PPG_FieldStudy/S15/S15.pkl  \n",
            "  inflating: PPG_FieldStudy/S15/S15_activity.csv  \n",
            "  inflating: PPG_FieldStudy/S15/S15_E4.zip  \n",
            "  inflating: PPG_FieldStudy/S15/S15_quest.csv  \n",
            "  inflating: PPG_FieldStudy/S15/S15_RespiBAN.h5  \n",
            "  inflating: PPG_FieldStudy/S1/S1.pkl  \n",
            "  inflating: PPG_FieldStudy/S1/S1_activity.csv  \n",
            "  inflating: PPG_FieldStudy/S1/S1_E4.zip  \n",
            "  inflating: PPG_FieldStudy/S1/S1_quest.csv  \n",
            "  inflating: PPG_FieldStudy/S1/S1_RespiBAN.h5  \n",
            "   creating: PPG_FieldStudy/S2/\n",
            "  inflating: PPG_FieldStudy/S2/S2.pkl  \n",
            "  inflating: PPG_FieldStudy/S2/S2_activity.csv  \n",
            "  inflating: PPG_FieldStudy/S2/S2_E4.zip  \n",
            "  inflating: PPG_FieldStudy/S2/S2_quest.csv  \n",
            "  inflating: PPG_FieldStudy/S2/S2_RespiBAN.h5  \n",
            "   creating: PPG_FieldStudy/S3/\n",
            "  inflating: PPG_FieldStudy/S3/S3.pkl  \n",
            "  inflating: PPG_FieldStudy/S3/S3_activity.csv  \n",
            "  inflating: PPG_FieldStudy/S3/S3_E4.zip  \n",
            "  inflating: PPG_FieldStudy/S3/S3_quest.csv  \n",
            "  inflating: PPG_FieldStudy/S3/S3_RespiBAN.h5  \n",
            "   creating: PPG_FieldStudy/S4/\n",
            "  inflating: PPG_FieldStudy/S4/S4.pkl  \n",
            "  inflating: PPG_FieldStudy/S4/S4_activity.csv  \n",
            "  inflating: PPG_FieldStudy/S4/S4_E4.zip  \n",
            "  inflating: PPG_FieldStudy/S4/S4_quest.csv  \n",
            "  inflating: PPG_FieldStudy/S4/S4_RespiBAN.h5  \n",
            "   creating: PPG_FieldStudy/S5/\n",
            "  inflating: PPG_FieldStudy/S5/S5.pkl  \n",
            "  inflating: PPG_FieldStudy/S5/S5_activity.csv  \n",
            "  inflating: PPG_FieldStudy/S5/S5_E4.zip  \n",
            "  inflating: PPG_FieldStudy/S5/S5_quest.csv  \n",
            "  inflating: PPG_FieldStudy/S5/S5_RespiBAN.h5  \n",
            "   creating: PPG_FieldStudy/S6/\n",
            "  inflating: PPG_FieldStudy/S6/S6.pkl  \n",
            "  inflating: PPG_FieldStudy/S6/S6_activity.csv  \n",
            "  inflating: PPG_FieldStudy/S6/S6_E4.zip  \n",
            "  inflating: PPG_FieldStudy/S6/S6_quest.csv  \n",
            "  inflating: PPG_FieldStudy/S6/S6_RespiBAN.h5  \n",
            "   creating: PPG_FieldStudy/S7/\n",
            "  inflating: PPG_FieldStudy/S7/S7.pkl  \n",
            "  inflating: PPG_FieldStudy/S7/S7_activity.csv  \n",
            "  inflating: PPG_FieldStudy/S7/S7_E4.zip  \n",
            "  inflating: PPG_FieldStudy/S7/S7_quest.csv  \n",
            "  inflating: PPG_FieldStudy/S7/S7_RespiBAN.h5  \n",
            "   creating: PPG_FieldStudy/S8/\n",
            "  inflating: PPG_FieldStudy/S8/S8.pkl  \n",
            "  inflating: PPG_FieldStudy/S8/S8_activity.csv  \n",
            "  inflating: PPG_FieldStudy/S8/S8_E4.zip  \n",
            "  inflating: PPG_FieldStudy/S8/S8_quest.csv  \n",
            "  inflating: PPG_FieldStudy/S8/S8_RespiBAN.h5  \n",
            "   creating: PPG_FieldStudy/S9/\n",
            "  inflating: PPG_FieldStudy/S9/S9.pkl  \n",
            "  inflating: PPG_FieldStudy/S9/S9_activity.csv  \n",
            "  inflating: PPG_FieldStudy/S9/S9_E4.zip  \n",
            "  inflating: PPG_FieldStudy/S9/S9_quest.csv  \n",
            "  inflating: PPG_FieldStudy/S9/S9_RespiBAN.h5  \n"
          ],
          "name": "stdout"
        }
      ]
    },
    {
      "cell_type": "markdown",
      "metadata": {
        "id": "U2eI7oAojpRx",
        "colab_type": "text"
      },
      "source": [
        "# **Compréhension de la data**\n",
        "Je réalise des analyses que sur le sujet 1 pour comprendre le sens de la donnée"
      ]
    },
    {
      "cell_type": "code",
      "metadata": {
        "id": "QEx3vGYlXRR7",
        "colab_type": "code",
        "colab": {}
      },
      "source": [
        "import pandas as pd\n",
        "\n",
        "df= pd.read_pickle(\"./PPG_FieldStudy/S1/S1.pkl\")"
      ],
      "execution_count": 0,
      "outputs": []
    },
    {
      "cell_type": "code",
      "metadata": {
        "id": "kFmCAfKTX8GM",
        "colab_type": "code",
        "colab": {}
      },
      "source": [
        "#Organisation de la data\n",
        "print(f\"La data est organisée en différentes catégories : {list(df.keys())}\")\n",
        "\n",
        "#ID du sujet\n",
        "print(f\"Il s'agit du sujet : {df['subject']}\")\n",
        "\n",
        "#Caractéristiques du sujet (Poids, genre, age, taille, couleur de peau, niveau de sportivité)\n",
        "\n",
        "print(f\"Les caractéristiques du sujet sont les suivantes : {df['questionnaire']}\")\n",
        "\n",
        "#Les activités sont sous forme d'array\n",
        "print(f'Activités : {df[\"activity\"]} \\n Taille de l\\'array : {len(df[\"activity\"])}')"
      ],
      "execution_count": 0,
      "outputs": []
    },
    {
      "cell_type": "markdown",
      "metadata": {
        "id": "g94fJtJ20PWz",
        "colab_type": "text"
      },
      "source": [
        "## Activity :"
      ]
    },
    {
      "cell_type": "code",
      "metadata": {
        "id": "BaUeuM6JeAPZ",
        "colab_type": "code",
        "colab": {}
      },
      "source": [
        "def plot_activity(data,name_column):\n",
        "  import matplotlib.pyplot as plt\n",
        "  import seaborn as sns\n",
        "  import numpy as np\n",
        "  sns.set_style('whitegrid')\n",
        "  unique, counts = np.unique(data[name_column], return_counts=True)\n",
        "  dict(zip(unique, counts))\n",
        "  plt.figure(figsize=(10,5))\n",
        "  sns.barplot(unique, counts, alpha=0.8)\n",
        "  for i in range(len(unique)):\n",
        "    plt.text(x = unique[i]-0.2 , y = counts[i]+10, s = counts[i], size = 10)\n",
        "  plt.title('Visualisation de la répartition des activités')\n",
        "  plt.ylabel(\"Nombres d'occurences\", fontsize=12)\n",
        "  plt.xlabel('Numéro des activités', fontsize=12)\n",
        "  plt.show()"
      ],
      "execution_count": 0,
      "outputs": []
    },
    {
      "cell_type": "code",
      "metadata": {
        "id": "R1PIEOoSq7qz",
        "colab_type": "code",
        "colab": {}
      },
      "source": [
        "plot_activity(df,'activity')\n",
        "#A voir après si on conserve les numéros ou on les remplace par leur noms"
      ],
      "execution_count": 0,
      "outputs": []
    },
    {
      "cell_type": "code",
      "metadata": {
        "id": "BJdovYlh2BYx",
        "colab_type": "code",
        "colab": {}
      },
      "source": [
        "activity = pd.DataFrame(df['activity'],columns=['activity'])\n",
        "activity.plot(y='activity', use_index=True)"
      ],
      "execution_count": 0,
      "outputs": []
    },
    {
      "cell_type": "markdown",
      "metadata": {
        "id": "Js2OFezb2CDH",
        "colab_type": "text"
      },
      "source": [
        "D'après l'histogramme, les activités les plus réalisées par notre sujet 1 est l'acitvité 0 c'est à dire la période de transition entre les activités et l'activité 6 qui est la pause déjeuner\n",
        "\n",
        "On voit bien dans le deuxième graphique les périodes de transition (Quand activité = 0) et on voit bien que l'activité 6 a pris un temps plus important que les autres activités"
      ]
    },
    {
      "cell_type": "markdown",
      "metadata": {
        "id": "JO7zwwtguUc6",
        "colab_type": "text"
      },
      "source": [
        "##Rpeaks : "
      ]
    },
    {
      "cell_type": "code",
      "metadata": {
        "id": "DQ_4qhXArYr5",
        "colab_type": "code",
        "colab": {}
      },
      "source": [
        "import numpy as np\n",
        "unique, counts = np.unique(df['rpeaks'], return_counts=True)\n",
        "dico_rpeaks = sorted(dict(zip(unique, counts)))\n",
        "#Ce sont des index donc normalement valeurs uniques\n",
        "print('En enlevant les doublons : ',len(set(df['rpeaks'])),'\\nSans doublons :  ',len(df['rpeaks']))\n",
        "print(f'Les valeurs de rpeaks pour le sujet 1 sont comprises entre {min(dico_rpeaks)} et {max(dico_rpeaks)}.La taille de l array est de {len(df[\"rpeaks\"])}')\n",
        "\n",
        "#D'après le readme, rpeaks correspond aux index qui référent aux EGC signal inclus dans label"
      ],
      "execution_count": 0,
      "outputs": []
    },
    {
      "cell_type": "markdown",
      "metadata": {
        "id": "iH73DblHvSx5",
        "colab_type": "text"
      },
      "source": [
        "## Label : "
      ]
    },
    {
      "cell_type": "code",
      "metadata": {
        "id": "1ZqM3u8JvR-r",
        "colab_type": "code",
        "colab": {}
      },
      "source": [
        "print(f\"\"\"Label est de type {type(df['label'])}.\n",
        "Les valeurs sont de type {type(df['label'][0])}\n",
        "Son minimum est {min(df['label'])}\n",
        "Son maximum est {max(df['label'])}\n",
        "La taille de l'array est de {len(df['label'])}\n",
        "\"\"\")"
      ],
      "execution_count": 0,
      "outputs": []
    },
    {
      "cell_type": "code",
      "metadata": {
        "id": "H90Q8OhW0li3",
        "colab_type": "code",
        "colab": {}
      },
      "source": [
        "label = pd.DataFrame(df['label'],columns=['labels'])\n",
        "label\n",
        "label.plot(y='labels', use_index=True)\n"
      ],
      "execution_count": 0,
      "outputs": []
    },
    {
      "cell_type": "markdown",
      "metadata": {
        "id": "2Fa47r5I1K55",
        "colab_type": "text"
      },
      "source": [
        "Nous avons fait un plot représentant les données dans de la colonne label. Il s'agit de la représentation dans le temps du ground truth heart rate information.\n",
        "\n",
        "## Lien etre label et activity :"
      ]
    },
    {
      "cell_type": "code",
      "metadata": {
        "id": "lmGpU2vt3rsV",
        "colab_type": "code",
        "colab": {}
      },
      "source": [
        "taille_activite = len(df['activity'])\n",
        "taille_label = len(df['label'])\n",
        "print(f\"\"\"\n",
        "\n",
        "Taille de la data activité : {taille_activite}\n",
        "Taille de la data label    : {taille_label}\n",
        "\n",
        "Dans les données, ils nous parlent de windows de 8s. Ils ont fait une moyenne des battements de coeurs tous les 8 secondes.\n",
        "\n",
        "Multiplication des deux variables : {taille_label*8}\n",
        "\n",
        "Différence est de : {taille_activite - taille_label*8}\n",
        "\n",
        "\"\"\")"
      ],
      "execution_count": 0,
      "outputs": []
    },
    {
      "cell_type": "code",
      "metadata": {
        "id": "8oIOpM4c6I4q",
        "colab_type": "code",
        "colab": {}
      },
      "source": [
        "import matplotlib.pyplot as plt\n",
        "\n",
        "plt.plot(label.index*8, label['labels'])\n",
        "\n",
        "#Multiplier par 20 pour l'échelle\n",
        "plt.plot(activity.index,activity['activity']*20)\n",
        "plt.show()"
      ],
      "execution_count": 0,
      "outputs": []
    },
    {
      "cell_type": "markdown",
      "metadata": {
        "id": "mLfzr_s39OMW",
        "colab_type": "text"
      },
      "source": [
        "On peut remarquer des segmentations similaires c'est à dire que les battements de coeur ont l'air de changer selon l'activité"
      ]
    },
    {
      "cell_type": "markdown",
      "metadata": {
        "id": "QwTs6Zx_9qft",
        "colab_type": "text"
      },
      "source": [
        "##Signal :"
      ]
    },
    {
      "cell_type": "code",
      "metadata": {
        "id": "Lresut7p9rvR",
        "colab_type": "code",
        "colab": {}
      },
      "source": [
        "print(f\"Dans signal, nous avons un dataset en {len(df['signal'].keys())} parties : {list(df['signal'].keys())})\")\n",
        "print(f\"\"\"\n",
        "\n",
        "Dans chest, nous avons la structure suivante : {list(df['signal'].get('chest').keys())}\n",
        "Dans wrist, nous avons la structure suivante : {list(df['signal'].get('wrist').keys())}\n",
        "\n",
        "\"\"\")"
      ],
      "execution_count": 0,
      "outputs": []
    },
    {
      "cell_type": "code",
      "metadata": {
        "id": "qaxPSyHV9nuQ",
        "colab_type": "code",
        "colab": {}
      },
      "source": [
        "#Divisé en deux : Chest et wrist\n",
        "df_chest = pd.DataFrame()\n",
        "for i in df.get('signal').get('chest').keys():\n",
        "  column = df.get('signal').get('chest').get(i)\n",
        "  df_chest[i] = column.tolist()"
      ],
      "execution_count": 0,
      "outputs": []
    },
    {
      "cell_type": "code",
      "metadata": {
        "id": "8o0xn-NaGggK",
        "colab_type": "code",
        "colab": {}
      },
      "source": [
        "for i in df_chest.keys():\n",
        "  if (i == 'ACC'):\n",
        "    acc1 = df_chest[i].apply(lambda x: x[0])\n",
        "    acc2 = df_chest[i].apply(lambda x: x[1])\n",
        "    acc3 = df_chest[i].apply(lambda x: x[2])\n",
        "    df_chest['ACC1'] = acc1\n",
        "    df_chest['ACC2'] = acc2\n",
        "    df_chest['ACC3'] = acc3\n",
        "    df_chest.drop('ACC',axis=1)\n",
        "  else:\n",
        "    new_data = df_chest[i].apply(lambda x: x[0])\n",
        "    df_chest[i]=new_data"
      ],
      "execution_count": 0,
      "outputs": []
    },
    {
      "cell_type": "markdown",
      "metadata": {
        "id": "jIpaCmlDEtJS",
        "colab_type": "text"
      },
      "source": [
        "ACC : 3 dimensions\n",
        "ECG :\n",
        "EMG : \n",
        "DA :\n",
        "Temp : \n",
        "Resp :"
      ]
    },
    {
      "cell_type": "code",
      "metadata": {
        "id": "VBix8tykESpN",
        "colab_type": "code",
        "colab": {}
      },
      "source": [
        "df_chest.head()"
      ],
      "execution_count": 0,
      "outputs": []
    },
    {
      "cell_type": "code",
      "metadata": {
        "id": "sE0XZ6w8LRa7",
        "colab_type": "code",
        "colab": {}
      },
      "source": [
        ""
      ],
      "execution_count": 0,
      "outputs": []
    },
    {
      "cell_type": "code",
      "metadata": {
        "id": "skwRwjKvF3Ma",
        "colab_type": "code",
        "colab": {}
      },
      "source": [
        "a = [[1],[1] ]\n",
        "a[0]\n",
        "type(a[0][0])"
      ],
      "execution_count": 0,
      "outputs": []
    },
    {
      "cell_type": "code",
      "metadata": {
        "id": "LcXGAGeQH6nE",
        "colab_type": "code",
        "colab": {}
      },
      "source": [
        "df_with = pd.DataFrame()\n",
        "a = df_chest['ECG']\n",
        "b = []"
      ],
      "execution_count": 0,
      "outputs": []
    },
    {
      "cell_type": "code",
      "metadata": {
        "id": "nfDbTjM5CwkN",
        "colab_type": "code",
        "colab": {}
      },
      "source": [
        "df_wrist=pd.DataFrame([df.get('signal').get('wrist')])\n",
        "df_wrist"
      ],
      "execution_count": 0,
      "outputs": []
    },
    {
      "cell_type": "code",
      "metadata": {
        "id": "Csi1oLNjCS-3",
        "colab_type": "code",
        "colab": {}
      },
      "source": [
        "df_wrist = pd.DataFrame()\n",
        "for i in df.get('signal').get('wrist').keys():\n",
        "  column = df.get('signal').get('wrist').get(i)\n",
        "  df_wrist[i] = 0\n",
        "  print(len(column.tolist()))\n",
        "\n",
        "\n"
      ],
      "execution_count": 0,
      "outputs": []
    },
    {
      "cell_type": "code",
      "metadata": {
        "id": "EBBMhMzgDUrO",
        "colab_type": "code",
        "colab": {}
      },
      "source": [
        "df_wrist"
      ],
      "execution_count": 0,
      "outputs": []
    },
    {
      "cell_type": "code",
      "metadata": {
        "id": "-NlJC4Y89poD",
        "colab_type": "code",
        "colab": {
          "base_uri": "https://localhost:8080/",
          "height": 98
        },
        "outputId": "b3213a86-ad45-430f-f9a8-7429785a8b5b"
      },
      "source": [
        "#fusion des datas sur les individus\n",
        "questionnaire = pd.DataFrame()\n",
        "for i in range(1,16):\n",
        "  chemin = \"./PPG_FieldStudy/S\"+str(i)+\"/S\"+str(i)+\".pkl\"\n",
        "  print(chemin)\n",
        "  df = pd.read_pickle(chemin)\n",
        "  questionnaire = questionnaire.append(pd.DataFrame(data=[df['questionnaire']]))"
      ],
      "execution_count": 0,
      "outputs": [
        {
          "output_type": "stream",
          "text": [
            "./PPG_FieldStudy/S2/S2.pkl\n",
            "./PPG_FieldStudy/S3/S3.pkl\n",
            "./PPG_FieldStudy/S4/S4.pkl\n",
            "./PPG_FieldStudy/S5/S5.pkl\n",
            "./PPG_FieldStudy/S6/S6.pkl\n"
          ],
          "name": "stdout"
        }
      ]
    },
    {
      "cell_type": "code",
      "metadata": {
        "id": "sEU1VeLL9MuE",
        "colab_type": "code",
        "colab": {}
      },
      "source": [
        "questionnaire.reset_index(drop = True, inplace = True)\n",
        "questionnaire"
      ],
      "execution_count": 0,
      "outputs": []
    },
    {
      "cell_type": "code",
      "metadata": {
        "id": "2xNnv-eJIyLw",
        "colab_type": "code",
        "colab": {}
      },
      "source": [
        "#Ils ne font pas tous la même taille\n",
        "rpeaks_all = pd.DataFrame()\n",
        "for i in range(1,3):\n",
        "  chemin = \"./PPG_FieldStudy/S\"+str(i)+\"/S\"+str(i)+\".pkl\"\n",
        "  print(chemin)\n",
        "  df = pd.read_pickle(chemin)\n",
        "  print(len(df['rpeaks']))\n",
        "  rpeaks_all[df['subject']]= df['rpeaks']"
      ],
      "execution_count": 0,
      "outputs": []
    },
    {
      "cell_type": "markdown",
      "metadata": {
        "id": "peavZUvedu9P",
        "colab_type": "text"
      },
      "source": [
        "‘activity’: includes the activity labels, providing IDs 0…8 (see activity list in Section II). These\n",
        "activity labels are based on the file SX_activity.csv. However, in order to make further\n",
        "processing of the dataset more convenient, an activity-signal with 4 Hz sampling rate (which\n",
        "is the lowest sampling rate across all recorded raw sensor data) was created.\n",
        "- ‘label’: includes the ground truth heart rate information. As described above, this is provided\n",
        "as the mean of the ECG-based instantaneous heart rate, given on a sliding window of 8\n",
        "seconds, shifted with 2 seconds.\n",
        "- ‘questionnaire’: includes information about the subject, extracted from SX_quest.csv. Details\n",
        "were given above, in Section I.4.\n",
        "- ‘rpeaks’: the index of the identified and corrected R-peaks, referring to the ECG-signal. As\n",
        "described above, the identified R-peaks provide the basis of the heart rate ground truth.\n",
        "- ‘signal’: includes all the synchronised raw data, in two fields:\n",
        "o ‘chest’: RespiBAN data (all the modalities: ACC, ECG, EDA, EMG, RESP, TEMP). As\n",
        "mentioned above, the modalities ‘EDA’, ‘EMG’ and ‘Temp’ only include dummy data\n",
        "and should thus be ignored.\n",
        "o ‘wrist’: Empatica E4 data (all the modalities: ACC, BVP, EDA, TEMP)\n",
        "- ‘subject’: the current subject’s ID\n"
      ]
    },
    {
      "cell_type": "code",
      "metadata": {
        "id": "K3YQPg9VNVXv",
        "colab_type": "code",
        "colab": {}
      },
      "source": [
        "#Plot des activités\n",
        "for i in range(1,16):\n",
        "  chemin = \"./PPG_FieldStudy/S\"+str(i)+\"/S\"+str(i)+\".pkl\"\n",
        "  print(chemin)\n",
        "  df = pd.read_pickle(chemin)\n",
        "  plot_activity(df)"
      ],
      "execution_count": 0,
      "outputs": []
    },
    {
      "cell_type": "code",
      "metadata": {
        "id": "JGm43q2feciB",
        "colab_type": "code",
        "colab": {}
      },
      "source": [
        "dataframe = df.get('signal').get('chest')\n",
        "df_signal = pd.DataFrame([dataframe])\n",
        "df_signal['Temp']\n",
        "#Divisé en deux : Chest et waist"
      ],
      "execution_count": 0,
      "outputs": []
    },
    {
      "cell_type": "code",
      "metadata": {
        "id": "RhJcPvm2V1OF",
        "colab_type": "code",
        "colab": {}
      },
      "source": [
        "#Pour chest\n",
        "df_signal = pd.DataFrame()\n",
        "for i in df.get('signal').get('chest').keys():\n",
        "  column = df.get('signal').get('chest').get(i)\n",
        "  da[i] = column.tolist()"
      ],
      "execution_count": 0,
      "outputs": []
    },
    {
      "cell_type": "code",
      "metadata": {
        "id": "3bhGAUSGX3Bl",
        "colab_type": "code",
        "colab": {}
      },
      "source": [
        "#Pour "
      ],
      "execution_count": 0,
      "outputs": []
    },
    {
      "cell_type": "code",
      "metadata": {
        "id": "jQI28H7kWzVu",
        "colab_type": "code",
        "colab": {}
      },
      "source": [
        "#A séparer en trois colonnes\n",
        "da['ACC'][0]"
      ],
      "execution_count": 0,
      "outputs": []
    }
  ]
}