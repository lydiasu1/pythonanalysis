{
  "nbformat": 4,
  "nbformat_minor": 0,
  "metadata": {
    "colab": {
      "name": "Pythonanalysis.ipynb",
      "provenance": [],
      "toc_visible": true,
      "include_colab_link": true
    },
    "kernelspec": {
      "name": "python3",
      "display_name": "Python 3"
    },
    "accelerator": "TPU"
  },
  "cells": [
    {
      "cell_type": "markdown",
      "metadata": {
        "id": "view-in-github",
        "colab_type": "text"
      },
      "source": [
        "<a href=\"https://colab.research.google.com/github/lydiasu1/pythonanalysis/blob/master/Pythonanalysis.ipynb\" target=\"_parent\"><img src=\"https://colab.research.google.com/assets/colab-badge.svg\" alt=\"Open In Colab\"/></a>"
      ]
    },
    {
      "cell_type": "markdown",
      "metadata": {
        "id": "JUCr9TeMMluV",
        "colab_type": "text"
      },
      "source": [
        "Lien de la dataset : https://archive.ics.uci.edu/ml/datasets/PPG-DaLiA\n",
        "\n",
        "PPG-DaLiA contains data from 15 subjects wearing physiological and motion sensors, providing a PPG dataset for motion compensation and heart rate estimation in Daily Life Activities.\n",
        "\n",
        "Objectif : Classification -> Prédire l'activité de la personne\n",
        "\n",
        "Enregistrement des données sur 15 personnes\n",
        "Informations de ces 15 personnes dans SX_quest.csv\n",
        "Informations sur les activités et leur durées : Table 2\n",
        "\n",
        "\n",
        "A faire : \n",
        "- Comprendre comment utiliser rpeaks\n",
        "\n",
        "Faites : \n"
      ]
    },
    {
      "cell_type": "code",
      "metadata": {
        "id": "7iNlASAaMkj2",
        "colab_type": "code",
        "outputId": "697003de-a581-4c87-8569-2c62316e66b1",
        "colab": {
          "base_uri": "https://localhost:8080/",
          "height": 66
        }
      },
      "source": [
        "!curl https://archive.ics.uci.edu/ml/machine-learning-databases/00495/data.zip --output data"
      ],
      "execution_count": 3,
      "outputs": [
        {
          "output_type": "stream",
          "text": [
            "  % Total    % Received % Xferd  Average Speed   Time    Time     Time  Current\n",
            "                                 Dload  Upload   Total   Spent    Left  Speed\n",
            "100 2731M  100 2731M    0     0  72.3M      0  0:00:37  0:00:37 --:--:-- 73.5M\n"
          ],
          "name": "stdout"
        }
      ]
    },
    {
      "cell_type": "code",
      "metadata": {
        "id": "cZS0qhrlUfBb",
        "colab_type": "code",
        "colab": {
          "base_uri": "https://localhost:8080/",
          "height": 1000
        },
        "outputId": "adb72ef1-d60b-4b08-aa9b-aa1991b8b91f"
      },
      "source": [
        "!unzip data"
      ],
      "execution_count": 4,
      "outputs": [
        {
          "output_type": "stream",
          "text": [
            "Archive:  data\n",
            "   creating: PPG_FieldStudy/\n",
            "  inflating: PPG_FieldStudy/PPG_FieldStudy_readme.pdf  \n",
            "   creating: PPG_FieldStudy/S1/\n",
            "   creating: PPG_FieldStudy/S10/\n",
            "  inflating: PPG_FieldStudy/S10/S10.pkl  \n",
            "  inflating: PPG_FieldStudy/S10/S10_activity.csv  \n",
            "  inflating: PPG_FieldStudy/S10/S10_E4.zip  \n",
            "  inflating: PPG_FieldStudy/S10/S10_quest.csv  \n",
            "  inflating: PPG_FieldStudy/S10/S10_RespiBAN.h5  \n",
            "   creating: PPG_FieldStudy/S11/\n",
            "  inflating: PPG_FieldStudy/S11/S11.pkl  \n",
            "  inflating: PPG_FieldStudy/S11/S11_activity.csv  \n",
            "  inflating: PPG_FieldStudy/S11/S11_E4.zip  \n",
            "  inflating: PPG_FieldStudy/S11/S11_quest.csv  \n",
            "  inflating: PPG_FieldStudy/S11/S11_RespiBAN.h5  \n",
            "   creating: PPG_FieldStudy/S12/\n",
            "  inflating: PPG_FieldStudy/S12/S12.pkl  \n",
            "  inflating: PPG_FieldStudy/S12/S12_activity.csv  \n",
            "  inflating: PPG_FieldStudy/S12/S12_E4.zip  \n",
            "  inflating: PPG_FieldStudy/S12/S12_quest.csv  \n",
            "  inflating: PPG_FieldStudy/S12/S12_RespiBAN.h5  \n",
            "   creating: PPG_FieldStudy/S13/\n",
            "  inflating: PPG_FieldStudy/S13/S13.pkl  \n",
            "  inflating: PPG_FieldStudy/S13/S13_activity.csv  \n",
            "  inflating: PPG_FieldStudy/S13/S13_E4.zip  \n",
            "  inflating: PPG_FieldStudy/S13/S13_quest.csv  \n",
            "  inflating: PPG_FieldStudy/S13/S13_RespiBAN.h5  \n",
            "   creating: PPG_FieldStudy/S14/\n",
            "  inflating: PPG_FieldStudy/S14/S14.pkl  \n",
            "  inflating: PPG_FieldStudy/S14/S14_activity.csv  \n",
            "  inflating: PPG_FieldStudy/S14/S14_E4.zip  \n",
            "  inflating: PPG_FieldStudy/S14/S14_quest.csv  \n",
            "  inflating: PPG_FieldStudy/S14/S14_RespiBAN.h5  \n",
            "   creating: PPG_FieldStudy/S15/\n",
            "  inflating: PPG_FieldStudy/S15/S15.pkl  \n",
            "  inflating: PPG_FieldStudy/S15/S15_activity.csv  \n",
            "  inflating: PPG_FieldStudy/S15/S15_E4.zip  \n",
            "  inflating: PPG_FieldStudy/S15/S15_quest.csv  \n",
            "  inflating: PPG_FieldStudy/S15/S15_RespiBAN.h5  \n",
            "  inflating: PPG_FieldStudy/S1/S1.pkl  \n",
            "  inflating: PPG_FieldStudy/S1/S1_activity.csv  \n",
            "  inflating: PPG_FieldStudy/S1/S1_E4.zip  \n",
            "  inflating: PPG_FieldStudy/S1/S1_quest.csv  \n",
            "  inflating: PPG_FieldStudy/S1/S1_RespiBAN.h5  \n",
            "   creating: PPG_FieldStudy/S2/\n",
            "  inflating: PPG_FieldStudy/S2/S2.pkl  \n",
            "  inflating: PPG_FieldStudy/S2/S2_activity.csv  \n",
            "  inflating: PPG_FieldStudy/S2/S2_E4.zip  \n",
            "  inflating: PPG_FieldStudy/S2/S2_quest.csv  \n",
            "  inflating: PPG_FieldStudy/S2/S2_RespiBAN.h5  \n",
            "   creating: PPG_FieldStudy/S3/\n",
            "  inflating: PPG_FieldStudy/S3/S3.pkl  \n",
            "  inflating: PPG_FieldStudy/S3/S3_activity.csv  \n",
            "  inflating: PPG_FieldStudy/S3/S3_E4.zip  \n",
            "  inflating: PPG_FieldStudy/S3/S3_quest.csv  \n",
            "  inflating: PPG_FieldStudy/S3/S3_RespiBAN.h5  \n",
            "   creating: PPG_FieldStudy/S4/\n",
            "  inflating: PPG_FieldStudy/S4/S4.pkl  \n",
            "  inflating: PPG_FieldStudy/S4/S4_activity.csv  \n",
            "  inflating: PPG_FieldStudy/S4/S4_E4.zip  \n",
            "  inflating: PPG_FieldStudy/S4/S4_quest.csv  \n",
            "  inflating: PPG_FieldStudy/S4/S4_RespiBAN.h5  \n",
            "   creating: PPG_FieldStudy/S5/\n",
            "  inflating: PPG_FieldStudy/S5/S5.pkl  \n",
            "  inflating: PPG_FieldStudy/S5/S5_activity.csv  \n",
            "  inflating: PPG_FieldStudy/S5/S5_E4.zip  \n",
            "  inflating: PPG_FieldStudy/S5/S5_quest.csv  \n",
            "  inflating: PPG_FieldStudy/S5/S5_RespiBAN.h5  \n",
            "   creating: PPG_FieldStudy/S6/\n",
            "  inflating: PPG_FieldStudy/S6/S6.pkl  \n",
            "  inflating: PPG_FieldStudy/S6/S6_activity.csv  \n",
            "  inflating: PPG_FieldStudy/S6/S6_E4.zip  \n",
            "  inflating: PPG_FieldStudy/S6/S6_quest.csv  \n",
            "  inflating: PPG_FieldStudy/S6/S6_RespiBAN.h5  \n",
            "   creating: PPG_FieldStudy/S7/\n",
            "  inflating: PPG_FieldStudy/S7/S7.pkl  \n",
            "  inflating: PPG_FieldStudy/S7/S7_activity.csv  \n",
            "  inflating: PPG_FieldStudy/S7/S7_E4.zip  \n",
            "  inflating: PPG_FieldStudy/S7/S7_quest.csv  \n",
            "  inflating: PPG_FieldStudy/S7/S7_RespiBAN.h5  \n",
            "   creating: PPG_FieldStudy/S8/\n",
            "  inflating: PPG_FieldStudy/S8/S8.pkl  \n",
            "  inflating: PPG_FieldStudy/S8/S8_activity.csv  \n",
            "  inflating: PPG_FieldStudy/S8/S8_E4.zip  \n",
            "  inflating: PPG_FieldStudy/S8/S8_quest.csv  \n",
            "  inflating: PPG_FieldStudy/S8/S8_RespiBAN.h5  \n",
            "   creating: PPG_FieldStudy/S9/\n",
            "  inflating: PPG_FieldStudy/S9/S9.pkl  \n",
            "  inflating: PPG_FieldStudy/S9/S9_activity.csv  \n",
            "  inflating: PPG_FieldStudy/S9/S9_E4.zip  \n",
            "  inflating: PPG_FieldStudy/S9/S9_quest.csv  \n",
            "  inflating: PPG_FieldStudy/S9/S9_RespiBAN.h5  \n"
          ],
          "name": "stdout"
        }
      ]
    },
    {
      "cell_type": "markdown",
      "metadata": {
        "id": "U2eI7oAojpRx",
        "colab_type": "text"
      },
      "source": [
        "# **Compréhension de la data**\n",
        "Je réalise des analyses que sur le sujet 1 pour comprendre le sens de la donnée"
      ]
    },
    {
      "cell_type": "code",
      "metadata": {
        "id": "QEx3vGYlXRR7",
        "colab_type": "code",
        "colab": {}
      },
      "source": [
        "import pandas as pd\n",
        "\n",
        "df= pd.read_pickle(\"./PPG_FieldStudy/S1/S1.pkl\")"
      ],
      "execution_count": 0,
      "outputs": []
    },
    {
      "cell_type": "code",
      "metadata": {
        "id": "kFmCAfKTX8GM",
        "colab_type": "code",
        "colab": {}
      },
      "source": [
        "#Organisation de la data\n",
        "print(f\"La data est organisée en différentes catégories : {list(df.keys())}\")\n",
        "\n",
        "#ID du sujet\n",
        "print(f\"Il s'agit du sujet : {df['subject']}\")\n",
        "\n",
        "#Caractéristiques du sujet (Poids, genre, age, taille, couleur de peau, niveau de sportivité)\n",
        "\n",
        "print(f\"Les caractéristiques du sujet sont les suivantes : {df['questionnaire']}\")\n",
        "\n",
        "#Les activités sont sous forme d'array\n",
        "print(f'Activités : {df[\"activity\"]} \\n Taille de l\\'array : {len(df[\"activity\"])}')"
      ],
      "execution_count": 0,
      "outputs": []
    },
    {
      "cell_type": "markdown",
      "metadata": {
        "id": "g94fJtJ20PWz",
        "colab_type": "text"
      },
      "source": [
        "## Activity :"
      ]
    },
    {
      "cell_type": "code",
      "metadata": {
        "id": "BaUeuM6JeAPZ",
        "colab_type": "code",
        "colab": {}
      },
      "source": [
        "def plot_activity(data,name_column):\n",
        "  import matplotlib.pyplot as plt\n",
        "  import seaborn as sns\n",
        "  import numpy as np\n",
        "  sns.set_style('whitegrid')\n",
        "  unique, counts = np.unique(data[name_column], return_counts=True)\n",
        "  dict(zip(unique, counts))\n",
        "  plt.figure(figsize=(10,5))\n",
        "  sns.barplot(unique, counts, alpha=0.8)\n",
        "  for i in range(len(unique)):\n",
        "    plt.text(x = unique[i]-0.2 , y = counts[i]+10, s = counts[i], size = 10)\n",
        "  plt.title('Visualisation de la répartition des activités')\n",
        "  plt.ylabel(\"Nombres d'occurences\", fontsize=12)\n",
        "  plt.xlabel('Numéro des activités', fontsize=12)\n",
        "  plt.show()"
      ],
      "execution_count": 0,
      "outputs": []
    },
    {
      "cell_type": "code",
      "metadata": {
        "id": "R1PIEOoSq7qz",
        "colab_type": "code",
        "colab": {}
      },
      "source": [
        "plot_activity(df,'activity')\n",
        "#A voir après si on conserve les numéros ou on les remplace par leur noms"
      ],
      "execution_count": 0,
      "outputs": []
    },
    {
      "cell_type": "code",
      "metadata": {
        "id": "BJdovYlh2BYx",
        "colab_type": "code",
        "colab": {}
      },
      "source": [
        "activity = pd.DataFrame(df['activity'],columns=['activity'])\n",
        "activity.plot(y='activity', use_index=True)"
      ],
      "execution_count": 0,
      "outputs": []
    },
    {
      "cell_type": "markdown",
      "metadata": {
        "id": "Js2OFezb2CDH",
        "colab_type": "text"
      },
      "source": [
        "D'après l'histogramme, les activités les plus réalisées par notre sujet 1 est l'acitvité 0 c'est à dire la période de transition entre les activités et l'activité 6 qui est la pause déjeuner\n",
        "\n",
        "On voit bien dans le deuxième graphique les périodes de transition (Quand activité = 0) et on voit bien que l'activité 6 a pris un temps plus important que les autres activités"
      ]
    },
    {
      "cell_type": "markdown",
      "metadata": {
        "id": "JO7zwwtguUc6",
        "colab_type": "text"
      },
      "source": [
        "##Rpeaks : "
      ]
    },
    {
      "cell_type": "code",
      "metadata": {
        "id": "DQ_4qhXArYr5",
        "colab_type": "code",
        "colab": {}
      },
      "source": [
        "import numpy as np\n",
        "unique, counts = np.unique(df['rpeaks'], return_counts=True)\n",
        "dico_rpeaks = sorted(dict(zip(unique, counts)))\n",
        "#Ce sont des index donc normalement valeurs uniques\n",
        "print('En enlevant les doublons : ',len(set(df['rpeaks'])),'\\nSans doublons :  ',len(df['rpeaks']))\n",
        "print(f'Les valeurs de rpeaks pour le sujet 1 sont comprises entre {min(dico_rpeaks)} et {max(dico_rpeaks)}.La taille de l array est de {len(df[\"rpeaks\"])}')\n",
        "\n",
        "#D'après le readme, rpeaks correspond aux index qui référent aux EGC signal inclus dans label"
      ],
      "execution_count": 0,
      "outputs": []
    },
    {
      "cell_type": "markdown",
      "metadata": {
        "id": "iH73DblHvSx5",
        "colab_type": "text"
      },
      "source": [
        "## Label : "
      ]
    },
    {
      "cell_type": "code",
      "metadata": {
        "id": "1ZqM3u8JvR-r",
        "colab_type": "code",
        "colab": {}
      },
      "source": [
        "print(f\"\"\"Label est de type {type(df['label'])}.\n",
        "Les valeurs sont de type {type(df['label'][0])}\n",
        "Son minimum est {min(df['label'])}\n",
        "Son maximum est {max(df['label'])}\n",
        "La taille de l'array est de {len(df['label'])}\n",
        "\"\"\")"
      ],
      "execution_count": 0,
      "outputs": []
    },
    {
      "cell_type": "code",
      "metadata": {
        "id": "H90Q8OhW0li3",
        "colab_type": "code",
        "colab": {}
      },
      "source": [
        "label = pd.DataFrame(df['label'],columns=['labels'])\n",
        "label\n",
        "label.plot(y='labels', use_index=True)\n"
      ],
      "execution_count": 0,
      "outputs": []
    },
    {
      "cell_type": "markdown",
      "metadata": {
        "id": "2Fa47r5I1K55",
        "colab_type": "text"
      },
      "source": [
        "Nous avons fait un plot représentant les données dans de la colonne label. Il s'agit de la représentation dans le temps du ground truth heart rate information.\n",
        "\n",
        "## Lien etre label et activity :"
      ]
    },
    {
      "cell_type": "code",
      "metadata": {
        "id": "lmGpU2vt3rsV",
        "colab_type": "code",
        "colab": {}
      },
      "source": [
        "taille_activite = len(df['activity'])\n",
        "taille_label = len(df['label'])\n",
        "print(f\"\"\"\n",
        "\n",
        "Taille de la data activité : {taille_activite}\n",
        "Taille de la data label    : {taille_label}\n",
        "\n",
        "Dans les données, ils nous parlent de windows de 8s. Ils ont fait une moyenne des battements de coeurs tous les 8 secondes.\n",
        "\n",
        "Multiplication des deux variables : {taille_label*8}\n",
        "\n",
        "Différence est de : {taille_activite - taille_label*8}\n",
        "\n",
        "\"\"\")"
      ],
      "execution_count": 0,
      "outputs": []
    },
    {
      "cell_type": "code",
      "metadata": {
        "id": "8oIOpM4c6I4q",
        "colab_type": "code",
        "colab": {}
      },
      "source": [
        "import matplotlib.pyplot as plt\n",
        "\n",
        "plt.plot(label.index*8, label['labels'])\n",
        "\n",
        "#Multiplier par 20 pour l'échelle\n",
        "plt.plot(activity.index,activity['activity']*20)\n",
        "plt.show()"
      ],
      "execution_count": 0,
      "outputs": []
    },
    {
      "cell_type": "markdown",
      "metadata": {
        "id": "mLfzr_s39OMW",
        "colab_type": "text"
      },
      "source": [
        "On peut remarquer des segmentations similaires c'est à dire que les battements de coeur ont l'air de changer selon l'activité"
      ]
    },
    {
      "cell_type": "markdown",
      "metadata": {
        "id": "QwTs6Zx_9qft",
        "colab_type": "text"
      },
      "source": [
        "##Signal :"
      ]
    },
    {
      "cell_type": "code",
      "metadata": {
        "id": "Lresut7p9rvR",
        "colab_type": "code",
        "colab": {}
      },
      "source": [
        "print(f\"Dans signal, nous avons un dataset en {len(df['signal'].keys())} parties : {list(df['signal'].keys())})\")\n",
        "print(f\"\"\"\n",
        "\n",
        "Dans chest, nous avons la structure suivante : {list(df['signal'].get('chest').keys())}\n",
        "Dans wrist, nous avons la structure suivante : {list(df['signal'].get('wrist').keys())}\n",
        "\n",
        "\"\"\")"
      ],
      "execution_count": 0,
      "outputs": []
    },
    {
      "cell_type": "code",
      "metadata": {
        "id": "qaxPSyHV9nuQ",
        "colab_type": "code",
        "colab": {}
      },
      "source": [
        "#Divisé en deux : Chest et wrist\n",
        "df_chest = pd.DataFrame()\n",
        "for i in df.get('signal').get('chest').keys():\n",
        "  column = df.get('signal').get('chest').get(i)\n",
        "  df_chest[i] = column.tolist()"
      ],
      "execution_count": 0,
      "outputs": []
    },
    {
      "cell_type": "code",
      "metadata": {
        "id": "8o0xn-NaGggK",
        "colab_type": "code",
        "colab": {}
      },
      "source": [
        "for i in df_chest.keys():\n",
        "  if (i == 'ACC'):\n",
        "    acc1 = df_chest[i].apply(lambda x: x[0])\n",
        "    acc2 = df_chest[i].apply(lambda x: x[1])\n",
        "    acc3 = df_chest[i].apply(lambda x: x[2])\n",
        "    df_chest['ACC1'] = acc1\n",
        "    df_chest['ACC2'] = acc2\n",
        "    df_chest['ACC3'] = acc3\n",
        "  else:\n",
        "    new_data = df_chest[i].apply(lambda x: x[0])\n",
        "    df_chest[i]=new_data"
      ],
      "execution_count": 0,
      "outputs": []
    },
    {
      "cell_type": "markdown",
      "metadata": {
        "id": "jIpaCmlDEtJS",
        "colab_type": "text"
      },
      "source": [
        "ACC : 3 dimensions\n",
        "ECG :\n",
        "EMG : \n",
        "DA :\n",
        "Temp : \n",
        "Resp :"
      ]
    },
    {
      "cell_type": "code",
      "metadata": {
        "id": "VBix8tykESpN",
        "colab_type": "code",
        "colab": {
          "base_uri": "https://localhost:8080/",
          "height": 191
        },
        "outputId": "ed15fc3e-855f-478c-ddec-1ca1d638c35f"
      },
      "source": [
        "df_chest.head()"
      ],
      "execution_count": 25,
      "outputs": [
        {
          "output_type": "execute_result",
          "data": {
            "text/html": [
              "<div>\n",
              "<style scoped>\n",
              "    .dataframe tbody tr th:only-of-type {\n",
              "        vertical-align: middle;\n",
              "    }\n",
              "\n",
              "    .dataframe tbody tr th {\n",
              "        vertical-align: top;\n",
              "    }\n",
              "\n",
              "    .dataframe thead th {\n",
              "        text-align: right;\n",
              "    }\n",
              "</style>\n",
              "<table border=\"1\" class=\"dataframe\">\n",
              "  <thead>\n",
              "    <tr style=\"text-align: right;\">\n",
              "      <th></th>\n",
              "      <th>ACC</th>\n",
              "      <th>ECG</th>\n",
              "      <th>EMG</th>\n",
              "      <th>EDA</th>\n",
              "      <th>Temp</th>\n",
              "      <th>Resp</th>\n",
              "      <th>ACC1</th>\n",
              "      <th>ACC2</th>\n",
              "      <th>ACC3</th>\n",
              "    </tr>\n",
              "  </thead>\n",
              "  <tbody>\n",
              "    <tr>\n",
              "      <th>0</th>\n",
              "      <td>[0.8564000129699707, -0.06779998540878296, -0....</td>\n",
              "      <td>0.015610</td>\n",
              "      <td>-1.5</td>\n",
              "      <td>0.0</td>\n",
              "      <td>-273.149994</td>\n",
              "      <td>4.441833</td>\n",
              "      <td>0.8564</td>\n",
              "      <td>-0.0678</td>\n",
              "      <td>-0.3656</td>\n",
              "    </tr>\n",
              "    <tr>\n",
              "      <th>1</th>\n",
              "      <td>[0.8555999994277954, -0.0690000057220459, -0.3...</td>\n",
              "      <td>0.018127</td>\n",
              "      <td>-1.5</td>\n",
              "      <td>0.0</td>\n",
              "      <td>-273.149994</td>\n",
              "      <td>4.450989</td>\n",
              "      <td>0.8556</td>\n",
              "      <td>-0.0690</td>\n",
              "      <td>-0.3646</td>\n",
              "    </tr>\n",
              "    <tr>\n",
              "      <th>2</th>\n",
              "      <td>[0.8519999980926514, -0.07020002603530884, -0....</td>\n",
              "      <td>0.017532</td>\n",
              "      <td>-1.5</td>\n",
              "      <td>0.0</td>\n",
              "      <td>-273.149994</td>\n",
              "      <td>4.473877</td>\n",
              "      <td>0.8520</td>\n",
              "      <td>-0.0702</td>\n",
              "      <td>-0.3642</td>\n",
              "    </tr>\n",
              "    <tr>\n",
              "      <th>3</th>\n",
              "      <td>[0.8525999784469604, -0.0690000057220459, -0.3...</td>\n",
              "      <td>0.013412</td>\n",
              "      <td>-1.5</td>\n",
              "      <td>0.0</td>\n",
              "      <td>-273.149994</td>\n",
              "      <td>4.478455</td>\n",
              "      <td>0.8526</td>\n",
              "      <td>-0.0690</td>\n",
              "      <td>-0.3640</td>\n",
              "    </tr>\n",
              "    <tr>\n",
              "      <th>4</th>\n",
              "      <td>[0.8525999784469604, -0.06980001926422119, -0....</td>\n",
              "      <td>0.011948</td>\n",
              "      <td>-1.5</td>\n",
              "      <td>0.0</td>\n",
              "      <td>-273.149994</td>\n",
              "      <td>4.510498</td>\n",
              "      <td>0.8526</td>\n",
              "      <td>-0.0698</td>\n",
              "      <td>-0.3654</td>\n",
              "    </tr>\n",
              "  </tbody>\n",
              "</table>\n",
              "</div>"
            ],
            "text/plain": [
              "                                                 ACC       ECG  ...    ACC2    ACC3\n",
              "0  [0.8564000129699707, -0.06779998540878296, -0....  0.015610  ... -0.0678 -0.3656\n",
              "1  [0.8555999994277954, -0.0690000057220459, -0.3...  0.018127  ... -0.0690 -0.3646\n",
              "2  [0.8519999980926514, -0.07020002603530884, -0....  0.017532  ... -0.0702 -0.3642\n",
              "3  [0.8525999784469604, -0.0690000057220459, -0.3...  0.013412  ... -0.0690 -0.3640\n",
              "4  [0.8525999784469604, -0.06980001926422119, -0....  0.011948  ... -0.0698 -0.3654\n",
              "\n",
              "[5 rows x 9 columns]"
            ]
          },
          "metadata": {
            "tags": []
          },
          "execution_count": 25
        }
      ]
    },
    {
      "cell_type": "code",
      "metadata": {
        "id": "sE0XZ6w8LRa7",
        "colab_type": "code",
        "colab": {}
      },
      "source": [
        "df_chest.drop('ACC',axis=1)"
      ],
      "execution_count": 0,
      "outputs": []
    },
    {
      "cell_type": "code",
      "metadata": {
        "id": "cRRGCnWMTANL",
        "colab_type": "code",
        "colab": {
          "base_uri": "https://localhost:8080/",
          "height": 277
        },
        "outputId": "792ec96e-71fd-473b-dc93-13cc5f348fef"
      },
      "source": [
        "df_chest.describe()"
      ],
      "execution_count": 27,
      "outputs": [
        {
          "output_type": "execute_result",
          "data": {
            "text/html": [
              "<div>\n",
              "<style scoped>\n",
              "    .dataframe tbody tr th:only-of-type {\n",
              "        vertical-align: middle;\n",
              "    }\n",
              "\n",
              "    .dataframe tbody tr th {\n",
              "        vertical-align: top;\n",
              "    }\n",
              "\n",
              "    .dataframe thead th {\n",
              "        text-align: right;\n",
              "    }\n",
              "</style>\n",
              "<table border=\"1\" class=\"dataframe\">\n",
              "  <thead>\n",
              "    <tr style=\"text-align: right;\">\n",
              "      <th></th>\n",
              "      <th>ECG</th>\n",
              "      <th>EMG</th>\n",
              "      <th>EDA</th>\n",
              "      <th>Temp</th>\n",
              "      <th>Resp</th>\n",
              "      <th>ACC1</th>\n",
              "      <th>ACC2</th>\n",
              "      <th>ACC3</th>\n",
              "    </tr>\n",
              "  </thead>\n",
              "  <tbody>\n",
              "    <tr>\n",
              "      <th>count</th>\n",
              "      <td>6.448400e+06</td>\n",
              "      <td>6448400.0</td>\n",
              "      <td>6448400.0</td>\n",
              "      <td>6.448400e+06</td>\n",
              "      <td>6.448400e+06</td>\n",
              "      <td>6.448400e+06</td>\n",
              "      <td>6.448400e+06</td>\n",
              "      <td>6.448400e+06</td>\n",
              "    </tr>\n",
              "    <tr>\n",
              "      <th>mean</th>\n",
              "      <td>7.078980e-04</td>\n",
              "      <td>-1.5</td>\n",
              "      <td>0.0</td>\n",
              "      <td>-2.731500e+02</td>\n",
              "      <td>4.976702e-02</td>\n",
              "      <td>8.307913e-01</td>\n",
              "      <td>-6.681915e-02</td>\n",
              "      <td>-3.551541e-01</td>\n",
              "    </tr>\n",
              "    <tr>\n",
              "      <th>std</th>\n",
              "      <td>2.942117e-01</td>\n",
              "      <td>0.0</td>\n",
              "      <td>0.0</td>\n",
              "      <td>0.000000e+00</td>\n",
              "      <td>3.311963e+00</td>\n",
              "      <td>1.819352e-01</td>\n",
              "      <td>8.429531e-02</td>\n",
              "      <td>2.320015e-01</td>\n",
              "    </tr>\n",
              "    <tr>\n",
              "      <th>min</th>\n",
              "      <td>-1.499908e+00</td>\n",
              "      <td>-1.5</td>\n",
              "      <td>0.0</td>\n",
              "      <td>-2.731500e+02</td>\n",
              "      <td>-2.011871e+01</td>\n",
              "      <td>-6.956000e-01</td>\n",
              "      <td>-1.483000e+00</td>\n",
              "      <td>-4.249000e+00</td>\n",
              "    </tr>\n",
              "    <tr>\n",
              "      <th>25%</th>\n",
              "      <td>-1.335754e-01</td>\n",
              "      <td>-1.5</td>\n",
              "      <td>0.0</td>\n",
              "      <td>-2.731500e+02</td>\n",
              "      <td>-1.930237e+00</td>\n",
              "      <td>7.448000e-01</td>\n",
              "      <td>-1.026000e-01</td>\n",
              "      <td>-5.622000e-01</td>\n",
              "    </tr>\n",
              "    <tr>\n",
              "      <th>50%</th>\n",
              "      <td>-6.166077e-02</td>\n",
              "      <td>-1.5</td>\n",
              "      <td>0.0</td>\n",
              "      <td>-2.731500e+02</td>\n",
              "      <td>3.509521e-02</td>\n",
              "      <td>8.386000e-01</td>\n",
              "      <td>-7.539999e-02</td>\n",
              "      <td>-3.374000e-01</td>\n",
              "    </tr>\n",
              "    <tr>\n",
              "      <th>75%</th>\n",
              "      <td>5.351257e-02</td>\n",
              "      <td>-1.5</td>\n",
              "      <td>0.0</td>\n",
              "      <td>-2.731500e+02</td>\n",
              "      <td>1.853943e+00</td>\n",
              "      <td>9.028000e-01</td>\n",
              "      <td>-3.439999e-02</td>\n",
              "      <td>-1.924000e-01</td>\n",
              "    </tr>\n",
              "    <tr>\n",
              "      <th>max</th>\n",
              "      <td>1.499954e+00</td>\n",
              "      <td>-1.5</td>\n",
              "      <td>0.0</td>\n",
              "      <td>-2.731500e+02</td>\n",
              "      <td>2.664185e+01</td>\n",
              "      <td>3.951200e+00</td>\n",
              "      <td>1.244200e+00</td>\n",
              "      <td>2.957800e+00</td>\n",
              "    </tr>\n",
              "  </tbody>\n",
              "</table>\n",
              "</div>"
            ],
            "text/plain": [
              "                ECG        EMG  ...          ACC2          ACC3\n",
              "count  6.448400e+06  6448400.0  ...  6.448400e+06  6.448400e+06\n",
              "mean   7.078980e-04       -1.5  ... -6.681915e-02 -3.551541e-01\n",
              "std    2.942117e-01        0.0  ...  8.429531e-02  2.320015e-01\n",
              "min   -1.499908e+00       -1.5  ... -1.483000e+00 -4.249000e+00\n",
              "25%   -1.335754e-01       -1.5  ... -1.026000e-01 -5.622000e-01\n",
              "50%   -6.166077e-02       -1.5  ... -7.539999e-02 -3.374000e-01\n",
              "75%    5.351257e-02       -1.5  ... -3.439999e-02 -1.924000e-01\n",
              "max    1.499954e+00       -1.5  ...  1.244200e+00  2.957800e+00\n",
              "\n",
              "[8 rows x 8 columns]"
            ]
          },
          "metadata": {
            "tags": []
          },
          "execution_count": 27
        }
      ]
    },
    {
      "cell_type": "markdown",
      "metadata": {
        "id": "xR7kUlI6TL-1",
        "colab_type": "text"
      },
      "source": [
        "Observations : \n",
        "EMG,Temp et EDA semblent être les mêmes valeurs dans tout le dataset."
      ]
    },
    {
      "cell_type": "code",
      "metadata": {
        "id": "IgN95iAzTb-u",
        "colab_type": "code",
        "colab": {
          "base_uri": "https://localhost:8080/",
          "height": 50
        },
        "outputId": "1145961c-d1fe-4c5f-f6ee-f74bea17d2c0"
      },
      "source": [
        "df_chest.EMG.value_counts()"
      ],
      "execution_count": 28,
      "outputs": [
        {
          "output_type": "execute_result",
          "data": {
            "text/plain": [
              "-1.5    6448400\n",
              "Name: EMG, dtype: int64"
            ]
          },
          "metadata": {
            "tags": []
          },
          "execution_count": 28
        }
      ]
    },
    {
      "cell_type": "code",
      "metadata": {
        "id": "b0USs1T-TjVA",
        "colab_type": "code",
        "colab": {
          "base_uri": "https://localhost:8080/",
          "height": 50
        },
        "outputId": "a22bfd2f-b0a2-4b64-b2ba-680754555bbe"
      },
      "source": [
        "df_chest.EDA.value_counts()"
      ],
      "execution_count": 29,
      "outputs": [
        {
          "output_type": "execute_result",
          "data": {
            "text/plain": [
              "0.0    6448400\n",
              "Name: EDA, dtype: int64"
            ]
          },
          "metadata": {
            "tags": []
          },
          "execution_count": 29
        }
      ]
    },
    {
      "cell_type": "code",
      "metadata": {
        "id": "BEzw11SETpVy",
        "colab_type": "code",
        "colab": {
          "base_uri": "https://localhost:8080/",
          "height": 50
        },
        "outputId": "f64d4901-c318-46b9-bd13-02c1aeb54470"
      },
      "source": [
        "df_chest.Temp.value_counts()"
      ],
      "execution_count": 30,
      "outputs": [
        {
          "output_type": "execute_result",
          "data": {
            "text/plain": [
              "-273.149994    6448400\n",
              "Name: Temp, dtype: int64"
            ]
          },
          "metadata": {
            "tags": []
          },
          "execution_count": 30
        }
      ]
    },
    {
      "cell_type": "markdown",
      "metadata": {
        "id": "7-42t9vNUN1y",
        "colab_type": "text"
      },
      "source": [
        "###Wrist"
      ]
    },
    {
      "cell_type": "code",
      "metadata": {
        "id": "Csi1oLNjCS-3",
        "colab_type": "code",
        "colab": {}
      },
      "source": [
        "df_wrist = pd.DataFrame()\n",
        "for i in df.get('signal').get('wrist').keys():\n",
        "  column = df.get('signal').get('wrist').get(i)\n",
        "  if(i == 'ACC'):\n",
        "    name_column = ['ACC1','ACC2','ACC3']\n",
        "  else:\n",
        "    name_column = [i]\n",
        "  column = pd.DataFrame(column, columns=name_column)\n",
        "  df_wrist = pd.concat((df_wrist,column), axis=1)\n"
      ],
      "execution_count": 0,
      "outputs": []
    },
    {
      "cell_type": "code",
      "metadata": {
        "id": "EBBMhMzgDUrO",
        "colab_type": "code",
        "colab": {
          "base_uri": "https://localhost:8080/",
          "height": 391
        },
        "outputId": "d15b7dbb-d951-4678-a3fa-521f1a338e27"
      },
      "source": [
        "df_wrist"
      ],
      "execution_count": 53,
      "outputs": [
        {
          "output_type": "execute_result",
          "data": {
            "text/html": [
              "<div>\n",
              "<style scoped>\n",
              "    .dataframe tbody tr th:only-of-type {\n",
              "        vertical-align: middle;\n",
              "    }\n",
              "\n",
              "    .dataframe tbody tr th {\n",
              "        vertical-align: top;\n",
              "    }\n",
              "\n",
              "    .dataframe thead th {\n",
              "        text-align: right;\n",
              "    }\n",
              "</style>\n",
              "<table border=\"1\" class=\"dataframe\">\n",
              "  <thead>\n",
              "    <tr style=\"text-align: right;\">\n",
              "      <th></th>\n",
              "      <th>ACC1</th>\n",
              "      <th>ACC2</th>\n",
              "      <th>ACC3</th>\n",
              "      <th>BVP</th>\n",
              "      <th>EDA</th>\n",
              "      <th>TEMP</th>\n",
              "    </tr>\n",
              "  </thead>\n",
              "  <tbody>\n",
              "    <tr>\n",
              "      <th>0</th>\n",
              "      <td>-0.562500</td>\n",
              "      <td>0.046875</td>\n",
              "      <td>0.84375</td>\n",
              "      <td>-4.36</td>\n",
              "      <td>0.267766</td>\n",
              "      <td>31.67</td>\n",
              "    </tr>\n",
              "    <tr>\n",
              "      <th>1</th>\n",
              "      <td>-0.562500</td>\n",
              "      <td>0.046875</td>\n",
              "      <td>0.84375</td>\n",
              "      <td>-5.11</td>\n",
              "      <td>0.262641</td>\n",
              "      <td>31.67</td>\n",
              "    </tr>\n",
              "    <tr>\n",
              "      <th>2</th>\n",
              "      <td>-0.562500</td>\n",
              "      <td>0.046875</td>\n",
              "      <td>0.84375</td>\n",
              "      <td>-5.40</td>\n",
              "      <td>0.261360</td>\n",
              "      <td>31.67</td>\n",
              "    </tr>\n",
              "    <tr>\n",
              "      <th>3</th>\n",
              "      <td>-0.578125</td>\n",
              "      <td>0.046875</td>\n",
              "      <td>0.84375</td>\n",
              "      <td>-5.19</td>\n",
              "      <td>0.260079</td>\n",
              "      <td>31.67</td>\n",
              "    </tr>\n",
              "    <tr>\n",
              "      <th>4</th>\n",
              "      <td>-0.562500</td>\n",
              "      <td>0.046875</td>\n",
              "      <td>0.84375</td>\n",
              "      <td>-4.59</td>\n",
              "      <td>0.261360</td>\n",
              "      <td>31.69</td>\n",
              "    </tr>\n",
              "    <tr>\n",
              "      <th>...</th>\n",
              "      <td>...</td>\n",
              "      <td>...</td>\n",
              "      <td>...</td>\n",
              "      <td>...</td>\n",
              "      <td>...</td>\n",
              "      <td>...</td>\n",
              "    </tr>\n",
              "    <tr>\n",
              "      <th>525115</th>\n",
              "      <td>NaN</td>\n",
              "      <td>NaN</td>\n",
              "      <td>NaN</td>\n",
              "      <td>6.95</td>\n",
              "      <td>NaN</td>\n",
              "      <td>NaN</td>\n",
              "    </tr>\n",
              "    <tr>\n",
              "      <th>525116</th>\n",
              "      <td>NaN</td>\n",
              "      <td>NaN</td>\n",
              "      <td>NaN</td>\n",
              "      <td>4.90</td>\n",
              "      <td>NaN</td>\n",
              "      <td>NaN</td>\n",
              "    </tr>\n",
              "    <tr>\n",
              "      <th>525117</th>\n",
              "      <td>NaN</td>\n",
              "      <td>NaN</td>\n",
              "      <td>NaN</td>\n",
              "      <td>2.64</td>\n",
              "      <td>NaN</td>\n",
              "      <td>NaN</td>\n",
              "    </tr>\n",
              "    <tr>\n",
              "      <th>525118</th>\n",
              "      <td>NaN</td>\n",
              "      <td>NaN</td>\n",
              "      <td>NaN</td>\n",
              "      <td>0.17</td>\n",
              "      <td>NaN</td>\n",
              "      <td>NaN</td>\n",
              "    </tr>\n",
              "    <tr>\n",
              "      <th>525119</th>\n",
              "      <td>NaN</td>\n",
              "      <td>NaN</td>\n",
              "      <td>NaN</td>\n",
              "      <td>-2.58</td>\n",
              "      <td>NaN</td>\n",
              "      <td>NaN</td>\n",
              "    </tr>\n",
              "  </tbody>\n",
              "</table>\n",
              "<p>525120 rows × 6 columns</p>\n",
              "</div>"
            ],
            "text/plain": [
              "            ACC1      ACC2     ACC3   BVP       EDA   TEMP\n",
              "0      -0.562500  0.046875  0.84375 -4.36  0.267766  31.67\n",
              "1      -0.562500  0.046875  0.84375 -5.11  0.262641  31.67\n",
              "2      -0.562500  0.046875  0.84375 -5.40  0.261360  31.67\n",
              "3      -0.578125  0.046875  0.84375 -5.19  0.260079  31.67\n",
              "4      -0.562500  0.046875  0.84375 -4.59  0.261360  31.69\n",
              "...          ...       ...      ...   ...       ...    ...\n",
              "525115       NaN       NaN      NaN  6.95       NaN    NaN\n",
              "525116       NaN       NaN      NaN  4.90       NaN    NaN\n",
              "525117       NaN       NaN      NaN  2.64       NaN    NaN\n",
              "525118       NaN       NaN      NaN  0.17       NaN    NaN\n",
              "525119       NaN       NaN      NaN -2.58       NaN    NaN\n",
              "\n",
              "[525120 rows x 6 columns]"
            ]
          },
          "metadata": {
            "tags": []
          },
          "execution_count": 53
        }
      ]
    },
    {
      "cell_type": "code",
      "metadata": {
        "id": "YyFdUKsKXogX",
        "colab_type": "code",
        "colab": {
          "base_uri": "https://localhost:8080/",
          "height": 277
        },
        "outputId": "182d0f2e-4342-491b-a745-51e4c0009e93"
      },
      "source": [
        "df_wrist.describe()"
      ],
      "execution_count": 55,
      "outputs": [
        {
          "output_type": "execute_result",
          "data": {
            "text/html": [
              "<div>\n",
              "<style scoped>\n",
              "    .dataframe tbody tr th:only-of-type {\n",
              "        vertical-align: middle;\n",
              "    }\n",
              "\n",
              "    .dataframe tbody tr th {\n",
              "        vertical-align: top;\n",
              "    }\n",
              "\n",
              "    .dataframe thead th {\n",
              "        text-align: right;\n",
              "    }\n",
              "</style>\n",
              "<table border=\"1\" class=\"dataframe\">\n",
              "  <thead>\n",
              "    <tr style=\"text-align: right;\">\n",
              "      <th></th>\n",
              "      <th>ACC1</th>\n",
              "      <th>ACC2</th>\n",
              "      <th>ACC3</th>\n",
              "      <th>BVP</th>\n",
              "      <th>EDA</th>\n",
              "      <th>TEMP</th>\n",
              "    </tr>\n",
              "  </thead>\n",
              "  <tbody>\n",
              "    <tr>\n",
              "      <th>count</th>\n",
              "      <td>262560.000000</td>\n",
              "      <td>262560.000000</td>\n",
              "      <td>262560.000000</td>\n",
              "      <td>525120.000000</td>\n",
              "      <td>32820.000000</td>\n",
              "      <td>32820.000000</td>\n",
              "    </tr>\n",
              "    <tr>\n",
              "      <th>mean</th>\n",
              "      <td>-0.492370</td>\n",
              "      <td>0.291052</td>\n",
              "      <td>0.421304</td>\n",
              "      <td>-0.000448</td>\n",
              "      <td>8.081753</td>\n",
              "      <td>33.492074</td>\n",
              "    </tr>\n",
              "    <tr>\n",
              "      <th>std</th>\n",
              "      <td>0.324609</td>\n",
              "      <td>0.608959</td>\n",
              "      <td>0.381986</td>\n",
              "      <td>37.960108</td>\n",
              "      <td>5.968085</td>\n",
              "      <td>1.923040</td>\n",
              "    </tr>\n",
              "    <tr>\n",
              "      <th>min</th>\n",
              "      <td>-2.000000</td>\n",
              "      <td>-2.000000</td>\n",
              "      <td>-2.000000</td>\n",
              "      <td>-648.580000</td>\n",
              "      <td>0.245986</td>\n",
              "      <td>28.030000</td>\n",
              "    </tr>\n",
              "    <tr>\n",
              "      <th>25%</th>\n",
              "      <td>-0.734375</td>\n",
              "      <td>-0.078125</td>\n",
              "      <td>0.156250</td>\n",
              "      <td>-16.250000</td>\n",
              "      <td>4.249697</td>\n",
              "      <td>31.790000</td>\n",
              "    </tr>\n",
              "    <tr>\n",
              "      <th>50%</th>\n",
              "      <td>-0.484375</td>\n",
              "      <td>0.015625</td>\n",
              "      <td>0.453125</td>\n",
              "      <td>1.320000</td>\n",
              "      <td>6.810801</td>\n",
              "      <td>34.250000</td>\n",
              "    </tr>\n",
              "    <tr>\n",
              "      <th>75%</th>\n",
              "      <td>-0.281250</td>\n",
              "      <td>0.875000</td>\n",
              "      <td>0.718750</td>\n",
              "      <td>16.410000</td>\n",
              "      <td>11.175568</td>\n",
              "      <td>35.030000</td>\n",
              "    </tr>\n",
              "    <tr>\n",
              "      <th>max</th>\n",
              "      <td>1.984375</td>\n",
              "      <td>1.984375</td>\n",
              "      <td>1.984375</td>\n",
              "      <td>482.770000</td>\n",
              "      <td>29.002420</td>\n",
              "      <td>35.810000</td>\n",
              "    </tr>\n",
              "  </tbody>\n",
              "</table>\n",
              "</div>"
            ],
            "text/plain": [
              "                ACC1           ACC2  ...           EDA          TEMP\n",
              "count  262560.000000  262560.000000  ...  32820.000000  32820.000000\n",
              "mean       -0.492370       0.291052  ...      8.081753     33.492074\n",
              "std         0.324609       0.608959  ...      5.968085      1.923040\n",
              "min        -2.000000      -2.000000  ...      0.245986     28.030000\n",
              "25%        -0.734375      -0.078125  ...      4.249697     31.790000\n",
              "50%        -0.484375       0.015625  ...      6.810801     34.250000\n",
              "75%        -0.281250       0.875000  ...     11.175568     35.030000\n",
              "max         1.984375       1.984375  ...     29.002420     35.810000\n",
              "\n",
              "[8 rows x 6 columns]"
            ]
          },
          "metadata": {
            "tags": []
          },
          "execution_count": 55
        }
      ]
    },
    {
      "cell_type": "code",
      "metadata": {
        "id": "-NlJC4Y89poD",
        "colab_type": "code",
        "colab": {
          "base_uri": "https://localhost:8080/",
          "height": 245
        },
        "outputId": "b3213a86-ad45-430f-f9a8-7429785a8b5b"
      },
      "source": [
        "#fusion des datas sur les individus\n",
        "questionnaire = pd.DataFrame()\n",
        "for i in range(1,16):\n",
        "  chemin = \"./PPG_FieldStudy/S\"+str(i)+\"/S\"+str(i)+\".pkl\"\n",
        "  print(chemin)\n",
        "  df = pd.read_pickle(chemin)\n",
        "  questionnaire = questionnaire.append(pd.DataFrame(data=[df['questionnaire']]))"
      ],
      "execution_count": 0,
      "outputs": [
        {
          "output_type": "stream",
          "text": [
            "./PPG_FieldStudy/S2/S2.pkl\n",
            "./PPG_FieldStudy/S3/S3.pkl\n",
            "./PPG_FieldStudy/S4/S4.pkl\n",
            "./PPG_FieldStudy/S5/S5.pkl\n",
            "./PPG_FieldStudy/S6/S6.pkl\n",
            "./PPG_FieldStudy/S7/S7.pkl\n",
            "./PPG_FieldStudy/S8/S8.pkl\n",
            "./PPG_FieldStudy/S9/S9.pkl\n",
            "./PPG_FieldStudy/S10/S10.pkl\n",
            "./PPG_FieldStudy/S11/S11.pkl\n",
            "./PPG_FieldStudy/S12/S12.pkl\n",
            "./PPG_FieldStudy/S13/S13.pkl\n",
            "./PPG_FieldStudy/S14/S14.pkl\n",
            "./PPG_FieldStudy/S15/S15.pkl\n"
          ],
          "name": "stdout"
        }
      ]
    },
    {
      "cell_type": "code",
      "metadata": {
        "id": "sEU1VeLL9MuE",
        "colab_type": "code",
        "colab": {
          "base_uri": "https://localhost:8080/",
          "height": 478
        },
        "outputId": "6666a05d-bc78-4705-eccb-1b7222f86736"
      },
      "source": [
        "questionnaire.reset_index(drop = True, inplace = True)\n",
        "questionnaire"
      ],
      "execution_count": 0,
      "outputs": [
        {
          "output_type": "execute_result",
          "data": {
            "text/html": [
              "<div>\n",
              "<style scoped>\n",
              "    .dataframe tbody tr th:only-of-type {\n",
              "        vertical-align: middle;\n",
              "    }\n",
              "\n",
              "    .dataframe tbody tr th {\n",
              "        vertical-align: top;\n",
              "    }\n",
              "\n",
              "    .dataframe thead th {\n",
              "        text-align: right;\n",
              "    }\n",
              "</style>\n",
              "<table border=\"1\" class=\"dataframe\">\n",
              "  <thead>\n",
              "    <tr style=\"text-align: right;\">\n",
              "      <th></th>\n",
              "      <th>WEIGHT</th>\n",
              "      <th>Gender</th>\n",
              "      <th>AGE</th>\n",
              "      <th>HEIGHT</th>\n",
              "      <th>SKIN</th>\n",
              "      <th>SPORT</th>\n",
              "    </tr>\n",
              "  </thead>\n",
              "  <tbody>\n",
              "    <tr>\n",
              "      <th>0</th>\n",
              "      <td>78.0</td>\n",
              "      <td>m</td>\n",
              "      <td>34</td>\n",
              "      <td>182.0</td>\n",
              "      <td>3</td>\n",
              "      <td>6</td>\n",
              "    </tr>\n",
              "    <tr>\n",
              "      <th>1</th>\n",
              "      <td>80.0</td>\n",
              "      <td>m</td>\n",
              "      <td>28</td>\n",
              "      <td>189.0</td>\n",
              "      <td>3</td>\n",
              "      <td>5</td>\n",
              "    </tr>\n",
              "    <tr>\n",
              "      <th>2</th>\n",
              "      <td>60.0</td>\n",
              "      <td>m</td>\n",
              "      <td>25</td>\n",
              "      <td>170.0</td>\n",
              "      <td>3</td>\n",
              "      <td>5</td>\n",
              "    </tr>\n",
              "    <tr>\n",
              "      <th>3</th>\n",
              "      <td>57.0</td>\n",
              "      <td>m</td>\n",
              "      <td>25</td>\n",
              "      <td>168.0</td>\n",
              "      <td>4</td>\n",
              "      <td>5</td>\n",
              "    </tr>\n",
              "    <tr>\n",
              "      <th>4</th>\n",
              "      <td>70.0</td>\n",
              "      <td>f</td>\n",
              "      <td>21</td>\n",
              "      <td>180.0</td>\n",
              "      <td>3</td>\n",
              "      <td>4</td>\n",
              "    </tr>\n",
              "    <tr>\n",
              "      <th>5</th>\n",
              "      <td>70.0</td>\n",
              "      <td>f</td>\n",
              "      <td>37</td>\n",
              "      <td>176.0</td>\n",
              "      <td>3</td>\n",
              "      <td>1</td>\n",
              "    </tr>\n",
              "    <tr>\n",
              "      <th>6</th>\n",
              "      <td>58.0</td>\n",
              "      <td>f</td>\n",
              "      <td>21</td>\n",
              "      <td>168.0</td>\n",
              "      <td>3</td>\n",
              "      <td>2</td>\n",
              "    </tr>\n",
              "    <tr>\n",
              "      <th>7</th>\n",
              "      <td>70.0</td>\n",
              "      <td>m</td>\n",
              "      <td>43</td>\n",
              "      <td>179.0</td>\n",
              "      <td>3</td>\n",
              "      <td>5</td>\n",
              "    </tr>\n",
              "    <tr>\n",
              "      <th>8</th>\n",
              "      <td>60.0</td>\n",
              "      <td>f</td>\n",
              "      <td>28</td>\n",
              "      <td>167.0</td>\n",
              "      <td>4</td>\n",
              "      <td>5</td>\n",
              "    </tr>\n",
              "    <tr>\n",
              "      <th>9</th>\n",
              "      <td>56.0</td>\n",
              "      <td>f</td>\n",
              "      <td>55</td>\n",
              "      <td>164.0</td>\n",
              "      <td>4</td>\n",
              "      <td>5</td>\n",
              "    </tr>\n",
              "    <tr>\n",
              "      <th>10</th>\n",
              "      <td>62.0</td>\n",
              "      <td>f</td>\n",
              "      <td>24</td>\n",
              "      <td>168.0</td>\n",
              "      <td>3</td>\n",
              "      <td>5</td>\n",
              "    </tr>\n",
              "    <tr>\n",
              "      <th>11</th>\n",
              "      <td>105.0</td>\n",
              "      <td>m</td>\n",
              "      <td>43</td>\n",
              "      <td>195.0</td>\n",
              "      <td>3</td>\n",
              "      <td>5</td>\n",
              "    </tr>\n",
              "    <tr>\n",
              "      <th>12</th>\n",
              "      <td>63.0</td>\n",
              "      <td>f</td>\n",
              "      <td>21</td>\n",
              "      <td>170.0</td>\n",
              "      <td>3</td>\n",
              "      <td>6</td>\n",
              "    </tr>\n",
              "    <tr>\n",
              "      <th>13</th>\n",
              "      <td>67.0</td>\n",
              "      <td>f</td>\n",
              "      <td>26</td>\n",
              "      <td>170.0</td>\n",
              "      <td>3</td>\n",
              "      <td>4</td>\n",
              "    </tr>\n",
              "    <tr>\n",
              "      <th>14</th>\n",
              "      <td>79.0</td>\n",
              "      <td>m</td>\n",
              "      <td>28</td>\n",
              "      <td>183.0</td>\n",
              "      <td>2</td>\n",
              "      <td>5</td>\n",
              "    </tr>\n",
              "  </tbody>\n",
              "</table>\n",
              "</div>"
            ],
            "text/plain": [
              "    WEIGHT Gender  AGE  HEIGHT  SKIN  SPORT\n",
              "0     78.0      m   34   182.0     3      6\n",
              "1     80.0      m   28   189.0     3      5\n",
              "2     60.0      m   25   170.0     3      5\n",
              "3     57.0      m   25   168.0     4      5\n",
              "4     70.0      f   21   180.0     3      4\n",
              "5     70.0      f   37   176.0     3      1\n",
              "6     58.0      f   21   168.0     3      2\n",
              "7     70.0      m   43   179.0     3      5\n",
              "8     60.0      f   28   167.0     4      5\n",
              "9     56.0      f   55   164.0     4      5\n",
              "10    62.0      f   24   168.0     3      5\n",
              "11   105.0      m   43   195.0     3      5\n",
              "12    63.0      f   21   170.0     3      6\n",
              "13    67.0      f   26   170.0     3      4\n",
              "14    79.0      m   28   183.0     2      5"
            ]
          },
          "metadata": {
            "tags": []
          },
          "execution_count": 22
        }
      ]
    },
    {
      "cell_type": "code",
      "metadata": {
        "id": "2xNnv-eJIyLw",
        "colab_type": "code",
        "colab": {
          "base_uri": "https://localhost:8080/",
          "height": 393
        },
        "outputId": "a024c5e5-d6f7-4891-e72e-b2fdf01a3bed"
      },
      "source": [
        "#Ils ne font pas tous la même taille\n",
        "rpeaks_all = pd.DataFrame()\n",
        "for i in range(1,3):\n",
        "  chemin = \"./PPG_FieldStudy/S\"+str(i)+\"/S\"+str(i)+\".pkl\"\n",
        "  print(chemin)\n",
        "  df = pd.read_pickle(chemin)\n",
        "  print(len(df['rpeaks']))\n",
        "  rpeaks_all[df['subject']]= df['rpeaks']"
      ],
      "execution_count": 23,
      "outputs": [
        {
          "output_type": "stream",
          "text": [
            "./PPG_FieldStudy/S1/S1.pkl\n",
            "11431\n",
            "./PPG_FieldStudy/S2/S2.pkl\n",
            "11247\n"
          ],
          "name": "stdout"
        },
        {
          "output_type": "error",
          "ename": "ValueError",
          "evalue": "ignored",
          "traceback": [
            "\u001b[0;31m---------------------------------------------------------------------------\u001b[0m",
            "\u001b[0;31mValueError\u001b[0m                                Traceback (most recent call last)",
            "\u001b[0;32m<ipython-input-23-a0b1c3399339>\u001b[0m in \u001b[0;36m<module>\u001b[0;34m()\u001b[0m\n\u001b[1;32m      5\u001b[0m   \u001b[0mdf\u001b[0m \u001b[0;34m=\u001b[0m \u001b[0mpd\u001b[0m\u001b[0;34m.\u001b[0m\u001b[0mread_pickle\u001b[0m\u001b[0;34m(\u001b[0m\u001b[0mchemin\u001b[0m\u001b[0;34m)\u001b[0m\u001b[0;34m\u001b[0m\u001b[0;34m\u001b[0m\u001b[0m\n\u001b[1;32m      6\u001b[0m   \u001b[0mprint\u001b[0m\u001b[0;34m(\u001b[0m\u001b[0mlen\u001b[0m\u001b[0;34m(\u001b[0m\u001b[0mdf\u001b[0m\u001b[0;34m[\u001b[0m\u001b[0;34m'rpeaks'\u001b[0m\u001b[0;34m]\u001b[0m\u001b[0;34m)\u001b[0m\u001b[0;34m)\u001b[0m\u001b[0;34m\u001b[0m\u001b[0;34m\u001b[0m\u001b[0m\n\u001b[0;32m----> 7\u001b[0;31m   \u001b[0mrpeaks_all\u001b[0m\u001b[0;34m[\u001b[0m\u001b[0mdf\u001b[0m\u001b[0;34m[\u001b[0m\u001b[0;34m'subject'\u001b[0m\u001b[0;34m]\u001b[0m\u001b[0;34m]\u001b[0m\u001b[0;34m=\u001b[0m \u001b[0mdf\u001b[0m\u001b[0;34m[\u001b[0m\u001b[0;34m'rpeaks'\u001b[0m\u001b[0;34m]\u001b[0m\u001b[0;34m\u001b[0m\u001b[0;34m\u001b[0m\u001b[0m\n\u001b[0m",
            "\u001b[0;32m/usr/local/lib/python3.6/dist-packages/pandas/core/frame.py\u001b[0m in \u001b[0;36m__setitem__\u001b[0;34m(self, key, value)\u001b[0m\n\u001b[1;32m   3485\u001b[0m         \u001b[0;32melse\u001b[0m\u001b[0;34m:\u001b[0m\u001b[0;34m\u001b[0m\u001b[0;34m\u001b[0m\u001b[0m\n\u001b[1;32m   3486\u001b[0m             \u001b[0;31m# set column\u001b[0m\u001b[0;34m\u001b[0m\u001b[0;34m\u001b[0m\u001b[0;34m\u001b[0m\u001b[0m\n\u001b[0;32m-> 3487\u001b[0;31m             \u001b[0mself\u001b[0m\u001b[0;34m.\u001b[0m\u001b[0m_set_item\u001b[0m\u001b[0;34m(\u001b[0m\u001b[0mkey\u001b[0m\u001b[0;34m,\u001b[0m \u001b[0mvalue\u001b[0m\u001b[0;34m)\u001b[0m\u001b[0;34m\u001b[0m\u001b[0;34m\u001b[0m\u001b[0m\n\u001b[0m\u001b[1;32m   3488\u001b[0m \u001b[0;34m\u001b[0m\u001b[0m\n\u001b[1;32m   3489\u001b[0m     \u001b[0;32mdef\u001b[0m \u001b[0m_setitem_slice\u001b[0m\u001b[0;34m(\u001b[0m\u001b[0mself\u001b[0m\u001b[0;34m,\u001b[0m \u001b[0mkey\u001b[0m\u001b[0;34m,\u001b[0m \u001b[0mvalue\u001b[0m\u001b[0;34m)\u001b[0m\u001b[0;34m:\u001b[0m\u001b[0;34m\u001b[0m\u001b[0;34m\u001b[0m\u001b[0m\n",
            "\u001b[0;32m/usr/local/lib/python3.6/dist-packages/pandas/core/frame.py\u001b[0m in \u001b[0;36m_set_item\u001b[0;34m(self, key, value)\u001b[0m\n\u001b[1;32m   3562\u001b[0m \u001b[0;34m\u001b[0m\u001b[0m\n\u001b[1;32m   3563\u001b[0m         \u001b[0mself\u001b[0m\u001b[0;34m.\u001b[0m\u001b[0m_ensure_valid_index\u001b[0m\u001b[0;34m(\u001b[0m\u001b[0mvalue\u001b[0m\u001b[0;34m)\u001b[0m\u001b[0;34m\u001b[0m\u001b[0;34m\u001b[0m\u001b[0m\n\u001b[0;32m-> 3564\u001b[0;31m         \u001b[0mvalue\u001b[0m \u001b[0;34m=\u001b[0m \u001b[0mself\u001b[0m\u001b[0;34m.\u001b[0m\u001b[0m_sanitize_column\u001b[0m\u001b[0;34m(\u001b[0m\u001b[0mkey\u001b[0m\u001b[0;34m,\u001b[0m \u001b[0mvalue\u001b[0m\u001b[0;34m)\u001b[0m\u001b[0;34m\u001b[0m\u001b[0;34m\u001b[0m\u001b[0m\n\u001b[0m\u001b[1;32m   3565\u001b[0m         \u001b[0mNDFrame\u001b[0m\u001b[0;34m.\u001b[0m\u001b[0m_set_item\u001b[0m\u001b[0;34m(\u001b[0m\u001b[0mself\u001b[0m\u001b[0;34m,\u001b[0m \u001b[0mkey\u001b[0m\u001b[0;34m,\u001b[0m \u001b[0mvalue\u001b[0m\u001b[0;34m)\u001b[0m\u001b[0;34m\u001b[0m\u001b[0;34m\u001b[0m\u001b[0m\n\u001b[1;32m   3566\u001b[0m \u001b[0;34m\u001b[0m\u001b[0m\n",
            "\u001b[0;32m/usr/local/lib/python3.6/dist-packages/pandas/core/frame.py\u001b[0m in \u001b[0;36m_sanitize_column\u001b[0;34m(self, key, value, broadcast)\u001b[0m\n\u001b[1;32m   3747\u001b[0m \u001b[0;34m\u001b[0m\u001b[0m\n\u001b[1;32m   3748\u001b[0m             \u001b[0;31m# turn me into an ndarray\u001b[0m\u001b[0;34m\u001b[0m\u001b[0;34m\u001b[0m\u001b[0;34m\u001b[0m\u001b[0m\n\u001b[0;32m-> 3749\u001b[0;31m             \u001b[0mvalue\u001b[0m \u001b[0;34m=\u001b[0m \u001b[0msanitize_index\u001b[0m\u001b[0;34m(\u001b[0m\u001b[0mvalue\u001b[0m\u001b[0;34m,\u001b[0m \u001b[0mself\u001b[0m\u001b[0;34m.\u001b[0m\u001b[0mindex\u001b[0m\u001b[0;34m,\u001b[0m \u001b[0mcopy\u001b[0m\u001b[0;34m=\u001b[0m\u001b[0;32mFalse\u001b[0m\u001b[0;34m)\u001b[0m\u001b[0;34m\u001b[0m\u001b[0;34m\u001b[0m\u001b[0m\n\u001b[0m\u001b[1;32m   3750\u001b[0m             \u001b[0;32mif\u001b[0m \u001b[0;32mnot\u001b[0m \u001b[0misinstance\u001b[0m\u001b[0;34m(\u001b[0m\u001b[0mvalue\u001b[0m\u001b[0;34m,\u001b[0m \u001b[0;34m(\u001b[0m\u001b[0mnp\u001b[0m\u001b[0;34m.\u001b[0m\u001b[0mndarray\u001b[0m\u001b[0;34m,\u001b[0m \u001b[0mIndex\u001b[0m\u001b[0;34m)\u001b[0m\u001b[0;34m)\u001b[0m\u001b[0;34m:\u001b[0m\u001b[0;34m\u001b[0m\u001b[0;34m\u001b[0m\u001b[0m\n\u001b[1;32m   3751\u001b[0m                 \u001b[0;32mif\u001b[0m \u001b[0misinstance\u001b[0m\u001b[0;34m(\u001b[0m\u001b[0mvalue\u001b[0m\u001b[0;34m,\u001b[0m \u001b[0mlist\u001b[0m\u001b[0;34m)\u001b[0m \u001b[0;32mand\u001b[0m \u001b[0mlen\u001b[0m\u001b[0;34m(\u001b[0m\u001b[0mvalue\u001b[0m\u001b[0;34m)\u001b[0m \u001b[0;34m>\u001b[0m \u001b[0;36m0\u001b[0m\u001b[0;34m:\u001b[0m\u001b[0;34m\u001b[0m\u001b[0;34m\u001b[0m\u001b[0m\n",
            "\u001b[0;32m/usr/local/lib/python3.6/dist-packages/pandas/core/internals/construction.py\u001b[0m in \u001b[0;36msanitize_index\u001b[0;34m(data, index, copy)\u001b[0m\n\u001b[1;32m    610\u001b[0m \u001b[0;34m\u001b[0m\u001b[0m\n\u001b[1;32m    611\u001b[0m     \u001b[0;32mif\u001b[0m \u001b[0mlen\u001b[0m\u001b[0;34m(\u001b[0m\u001b[0mdata\u001b[0m\u001b[0;34m)\u001b[0m \u001b[0;34m!=\u001b[0m \u001b[0mlen\u001b[0m\u001b[0;34m(\u001b[0m\u001b[0mindex\u001b[0m\u001b[0;34m)\u001b[0m\u001b[0;34m:\u001b[0m\u001b[0;34m\u001b[0m\u001b[0;34m\u001b[0m\u001b[0m\n\u001b[0;32m--> 612\u001b[0;31m         \u001b[0;32mraise\u001b[0m \u001b[0mValueError\u001b[0m\u001b[0;34m(\u001b[0m\u001b[0;34m\"Length of values does not match length of index\"\u001b[0m\u001b[0;34m)\u001b[0m\u001b[0;34m\u001b[0m\u001b[0;34m\u001b[0m\u001b[0m\n\u001b[0m\u001b[1;32m    613\u001b[0m \u001b[0;34m\u001b[0m\u001b[0m\n\u001b[1;32m    614\u001b[0m     \u001b[0;32mif\u001b[0m \u001b[0misinstance\u001b[0m\u001b[0;34m(\u001b[0m\u001b[0mdata\u001b[0m\u001b[0;34m,\u001b[0m \u001b[0mABCIndexClass\u001b[0m\u001b[0;34m)\u001b[0m \u001b[0;32mand\u001b[0m \u001b[0;32mnot\u001b[0m \u001b[0mcopy\u001b[0m\u001b[0;34m:\u001b[0m\u001b[0;34m\u001b[0m\u001b[0;34m\u001b[0m\u001b[0m\n",
            "\u001b[0;31mValueError\u001b[0m: Length of values does not match length of index"
          ]
        }
      ]
    },
    {
      "cell_type": "markdown",
      "metadata": {
        "id": "peavZUvedu9P",
        "colab_type": "text"
      },
      "source": [
        "‘activity’: includes the activity labels, providing IDs 0…8 (see activity list in Section II). These\n",
        "activity labels are based on the file SX_activity.csv. However, in order to make further\n",
        "processing of the dataset more convenient, an activity-signal with 4 Hz sampling rate (which\n",
        "is the lowest sampling rate across all recorded raw sensor data) was created.\n",
        "- ‘label’: includes the ground truth heart rate information. As described above, this is provided\n",
        "as the mean of the ECG-based instantaneous heart rate, given on a sliding window of 8\n",
        "seconds, shifted with 2 seconds.\n",
        "- ‘questionnaire’: includes information about the subject, extracted from SX_quest.csv. Details\n",
        "were given above, in Section I.4.\n",
        "- ‘rpeaks’: the index of the identified and corrected R-peaks, referring to the ECG-signal. As\n",
        "described above, the identified R-peaks provide the basis of the heart rate ground truth.\n",
        "- ‘signal’: includes all the synchronised raw data, in two fields:\n",
        "o ‘chest’: RespiBAN data (all the modalities: ACC, ECG, EDA, EMG, RESP, TEMP). As\n",
        "mentioned above, the modalities ‘EDA’, ‘EMG’ and ‘Temp’ only include dummy data\n",
        "and should thus be ignored.\n",
        "o ‘wrist’: Empatica E4 data (all the modalities: ACC, BVP, EDA, TEMP)\n",
        "- ‘subject’: the current subject’s ID\n"
      ]
    },
    {
      "cell_type": "code",
      "metadata": {
        "id": "K3YQPg9VNVXv",
        "colab_type": "code",
        "colab": {}
      },
      "source": [
        "#Plot des activités\n",
        "for i in range(1,16):\n",
        "  chemin = \"./PPG_FieldStudy/S\"+str(i)+\"/S\"+str(i)+\".pkl\"\n",
        "  print(chemin)\n",
        "  df = pd.read_pickle(chemin)\n",
        "  plot_activity(df)"
      ],
      "execution_count": 0,
      "outputs": []
    },
    {
      "cell_type": "code",
      "metadata": {
        "id": "JGm43q2feciB",
        "colab_type": "code",
        "colab": {}
      },
      "source": [
        "dataframe = df.get('signal').get('chest')\n",
        "df_signal = pd.DataFrame([dataframe])\n",
        "df_signal['Temp']\n",
        "#Divisé en deux : Chest et waist"
      ],
      "execution_count": 0,
      "outputs": []
    },
    {
      "cell_type": "code",
      "metadata": {
        "id": "RhJcPvm2V1OF",
        "colab_type": "code",
        "colab": {}
      },
      "source": [
        "#Pour chest\n",
        "df_signal = pd.DataFrame()\n",
        "for i in df.get('signal').get('chest').keys():\n",
        "  column = df.get('signal').get('chest').get(i)\n",
        "  da[i] = column.tolist()"
      ],
      "execution_count": 0,
      "outputs": []
    },
    {
      "cell_type": "code",
      "metadata": {
        "id": "3bhGAUSGX3Bl",
        "colab_type": "code",
        "colab": {}
      },
      "source": [
        "#Pour "
      ],
      "execution_count": 0,
      "outputs": []
    },
    {
      "cell_type": "code",
      "metadata": {
        "id": "jQI28H7kWzVu",
        "colab_type": "code",
        "colab": {}
      },
      "source": [
        "#A séparer en trois colonnes\n",
        "da['ACC'][0]"
      ],
      "execution_count": 0,
      "outputs": []
    }
  ]
}